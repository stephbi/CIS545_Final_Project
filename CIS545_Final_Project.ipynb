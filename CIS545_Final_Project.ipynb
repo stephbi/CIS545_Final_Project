{
  "cells": [
    {
      "cell_type": "markdown",
      "metadata": {
        "id": "view-in-github",
        "colab_type": "text"
      },
      "source": [
        "<a href=\"https://colab.research.google.com/github/stephbi/AI-ML-Past-Projects/blob/main/CIS545_Final_Project.ipynb\" target=\"_parent\"><img src=\"https://colab.research.google.com/assets/colab-badge.svg\" alt=\"Open In Colab\"/></a>"
      ]
    },
    {
      "cell_type": "markdown",
      "metadata": {
        "id": "8Q7k0kWxmCqE"
      },
      "source": [
        "### **Part 0: Loading and Storing Data**\n",
        "\n",
        "\n"
      ]
    },
    {
      "cell_type": "code",
      "execution_count": null,
      "metadata": {
        "id": "R3qf5ySy5o7Y"
      },
      "outputs": [],
      "source": [
        "# import packages for Colab environment\n",
        "import pandas as pd\n",
        "import numpy as np\n",
        "from google.colab import drive\n",
        "import seaborn as sns\n",
        "import matplotlib.pyplot as plt"
      ]
    },
    {
      "cell_type": "code",
      "execution_count": null,
      "metadata": {
        "colab": {
          "base_uri": "https://localhost:8080/"
        },
        "id": "UeyZZ3VJL-qF",
        "outputId": "0c1c8070-7bab-4236-a3f4-46ae1787ba69"
      },
      "outputs": [
        {
          "output_type": "stream",
          "name": "stdout",
          "text": [
            "Mounted at /content/drive\n"
          ]
        }
      ],
      "source": [
        "# Mount google drive\n",
        "from google.colab import drive\n",
        "drive.mount('/content/drive', force_remount=True)"
      ]
    },
    {
      "cell_type": "code",
      "execution_count": null,
      "metadata": {
        "id": "-9egT9bNe3VU"
      },
      "outputs": [],
      "source": [
        "# Create the kaggle directory\n",
        "!mkdir ~/.kaggle\n",
        "\n",
        "# Read the uploaded kaggle.json file\n",
        "!cp /content/drive/MyDrive/kaggle.json ~/.kaggle/"
      ]
    },
    {
      "cell_type": "code",
      "execution_count": null,
      "metadata": {
        "colab": {
          "base_uri": "https://localhost:8080/"
        },
        "id": "WAMi4vN0e602",
        "outputId": "0738bda8-aa0d-49ac-8052-7c7b4ddbd850"
      },
      "outputs": [
        {
          "output_type": "execute_result",
          "data": {
            "text/plain": [
              "['Downloading bank-credit-default-loan-default.zip to /content',\n",
              " '',\n",
              " '  0% 0.00/311M [00:00<?, ?B/s]',\n",
              " '  2% 5.00M/311M [00:00<00:11, 27.1MB/s]',\n",
              " ' 10% 30.0M/311M [00:00<00:02, 125MB/s] ',\n",
              " ' 15% 46.0M/311M [00:00<00:02, 102MB/s]',\n",
              " ' 19% 58.0M/311M [00:00<00:02, 91.1MB/s]',\n",
              " ' 23% 73.0M/311M [00:01<00:04, 61.2MB/s]',\n",
              " ' 31% 97.0M/311M [00:01<00:02, 77.3MB/s]',\n",
              " ' 39% 121M/311M [00:01<00:01, 106MB/s]  ',\n",
              " ' 45% 140M/311M [00:01<00:01, 123MB/s]',\n",
              " ' 50% 156M/311M [00:01<00:01, 106MB/s]',\n",
              " ' 57% 176M/311M [00:01<00:01, 126MB/s]',\n",
              " ' 61% 191M/311M [00:01<00:00, 131MB/s]',\n",
              " ' 66% 206M/311M [00:02<00:00, 131MB/s]',\n",
              " ' 71% 221M/311M [00:02<00:00, 137MB/s]',\n",
              " ' 76% 236M/311M [00:02<00:00, 106MB/s]',\n",
              " ' 81% 252M/311M [00:02<00:00, 119MB/s]',\n",
              " ' 86% 266M/311M [00:02<00:00, 97.0MB/s]',\n",
              " ' 89% 278M/311M [00:04<00:01, 24.8MB/s]',\n",
              " ' 95% 295M/311M [00:04<00:00, 34.8MB/s]',\n",
              " ' 98% 306M/311M [00:04<00:00, 41.0MB/s]',\n",
              " '',\n",
              " '100% 311M/311M [00:04<00:00, 70.7MB/s]']"
            ]
          },
          "metadata": {},
          "execution_count": 7
        }
      ],
      "source": [
        "# Download dataset\n",
        "!!kaggle datasets download -d kornilovag94/bank-credit-default-loan-default"
      ]
    },
    {
      "cell_type": "code",
      "execution_count": null,
      "metadata": {
        "colab": {
          "base_uri": "https://localhost:8080/"
        },
        "id": "puZx5bAvfNOY",
        "outputId": "37ac367b-68ab-4b61-e846-5b35e33ccd74"
      },
      "outputs": [
        {
          "output_type": "stream",
          "name": "stdout",
          "text": [
            "Archive:  /content/bank-credit-default-loan-default.zip\n",
            "  inflating: data/train_data/train_data_0.pq  \n",
            "  inflating: data/train_data/train_data_1.pq  \n",
            "  inflating: data/train_data/train_data_10.pq  \n",
            "  inflating: data/train_data/train_data_11.pq  \n",
            "  inflating: data/train_data/train_data_2.pq  \n",
            "  inflating: data/train_data/train_data_3.pq  \n",
            "  inflating: data/train_data/train_data_4.pq  \n",
            "  inflating: data/train_data/train_data_5.pq  \n",
            "  inflating: data/train_data/train_data_6.pq  \n",
            "  inflating: data/train_data/train_data_7.pq  \n",
            "  inflating: data/train_data/train_data_8.pq  \n",
            "  inflating: data/train_data/train_data_9.pq  \n",
            "  inflating: target.csv              \n"
          ]
        }
      ],
      "source": [
        "# Unzip folder in Colab content folder\n",
        "!unzip /content/bank-credit-default-loan-default.zip"
      ]
    },
    {
      "cell_type": "code",
      "execution_count": null,
      "metadata": {
        "colab": {
          "base_uri": "https://localhost:8080/",
          "height": 1000
        },
        "id": "erMFccRVmZMp",
        "outputId": "a933a436-5f4f-4793-cd04-7e7474988023"
      },
      "outputs": [
        {
          "output_type": "stream",
          "name": "stdout",
          "text": [
            "Reading package lists... Done\n",
            "Building dependency tree... Done\n",
            "Reading state information... Done\n",
            "libkrb5-dev is already the newest version (1.19.2-2ubuntu0.3).\n",
            "libkrb5-dev set to manually installed.\n",
            "0 upgraded, 0 newly installed, 0 to remove and 16 not upgraded.\n",
            "Collecting sparkmagic\n",
            "  Downloading sparkmagic-0.21.0.tar.gz (45 kB)\n",
            "\u001b[2K     \u001b[90m━━━━━━━━━━━━━━━━━━━━━━━━━━━━━━━━━━━━━━━━\u001b[0m \u001b[32m45.3/45.3 kB\u001b[0m \u001b[31m1.5 MB/s\u001b[0m eta \u001b[36m0:00:00\u001b[0m\n",
            "\u001b[?25h  Preparing metadata (setup.py) ... \u001b[?25l\u001b[?25hdone\n",
            "Collecting hdijupyterutils>=0.6 (from sparkmagic)\n",
            "  Downloading hdijupyterutils-0.21.0.tar.gz (5.1 kB)\n",
            "  Preparing metadata (setup.py) ... \u001b[?25l\u001b[?25hdone\n",
            "Collecting autovizwidget>=0.6 (from sparkmagic)\n",
            "  Downloading autovizwidget-0.21.0.tar.gz (9.0 kB)\n",
            "  Preparing metadata (setup.py) ... \u001b[?25l\u001b[?25hdone\n",
            "Requirement already satisfied: ipython>=4.0.2 in /usr/local/lib/python3.10/dist-packages (from sparkmagic) (7.34.0)\n",
            "Requirement already satisfied: pandas<2.0.0,>=0.17.1 in /usr/local/lib/python3.10/dist-packages (from sparkmagic) (1.5.3)\n",
            "Requirement already satisfied: numpy in /usr/local/lib/python3.10/dist-packages (from sparkmagic) (1.23.5)\n",
            "Requirement already satisfied: requests in /usr/local/lib/python3.10/dist-packages (from sparkmagic) (2.31.0)\n",
            "Requirement already satisfied: ipykernel>=4.2.2 in /usr/local/lib/python3.10/dist-packages (from sparkmagic) (5.5.6)\n",
            "Requirement already satisfied: ipywidgets>5.0.0 in /usr/local/lib/python3.10/dist-packages (from sparkmagic) (7.7.1)\n",
            "Requirement already satisfied: notebook>=4.2 in /usr/local/lib/python3.10/dist-packages (from sparkmagic) (6.5.5)\n",
            "Requirement already satisfied: tornado>=4 in /usr/local/lib/python3.10/dist-packages (from sparkmagic) (6.3.2)\n",
            "Collecting requests_kerberos>=0.8.0 (from sparkmagic)\n",
            "  Downloading requests_kerberos-0.14.0-py2.py3-none-any.whl (11 kB)\n",
            "Requirement already satisfied: nest_asyncio>1.5.5 in /usr/local/lib/python3.10/dist-packages (from sparkmagic) (1.5.8)\n",
            "Requirement already satisfied: plotly>=3 in /usr/local/lib/python3.10/dist-packages (from autovizwidget>=0.6->sparkmagic) (5.15.0)\n",
            "Collecting jupyter>=1 (from hdijupyterutils>=0.6->sparkmagic)\n",
            "  Downloading jupyter-1.0.0-py2.py3-none-any.whl (2.7 kB)\n",
            "Requirement already satisfied: ipython-genutils in /usr/local/lib/python3.10/dist-packages (from ipykernel>=4.2.2->sparkmagic) (0.2.0)\n",
            "Requirement already satisfied: traitlets>=4.1.0 in /usr/local/lib/python3.10/dist-packages (from ipykernel>=4.2.2->sparkmagic) (5.7.1)\n",
            "Requirement already satisfied: jupyter-client in /usr/local/lib/python3.10/dist-packages (from ipykernel>=4.2.2->sparkmagic) (6.1.12)\n",
            "Requirement already satisfied: setuptools>=18.5 in /usr/local/lib/python3.10/dist-packages (from ipython>=4.0.2->sparkmagic) (67.7.2)\n",
            "Collecting jedi>=0.16 (from ipython>=4.0.2->sparkmagic)\n",
            "  Downloading jedi-0.19.1-py2.py3-none-any.whl (1.6 MB)\n",
            "\u001b[2K     \u001b[90m━━━━━━━━━━━━━━━━━━━━━━━━━━━━━━━━━━━━━━━━\u001b[0m \u001b[32m1.6/1.6 MB\u001b[0m \u001b[31m30.2 MB/s\u001b[0m eta \u001b[36m0:00:00\u001b[0m\n",
            "\u001b[?25hRequirement already satisfied: decorator in /usr/local/lib/python3.10/dist-packages (from ipython>=4.0.2->sparkmagic) (4.4.2)\n",
            "Requirement already satisfied: pickleshare in /usr/local/lib/python3.10/dist-packages (from ipython>=4.0.2->sparkmagic) (0.7.5)\n",
            "Requirement already satisfied: prompt-toolkit!=3.0.0,!=3.0.1,<3.1.0,>=2.0.0 in /usr/local/lib/python3.10/dist-packages (from ipython>=4.0.2->sparkmagic) (3.0.41)\n",
            "Requirement already satisfied: pygments in /usr/local/lib/python3.10/dist-packages (from ipython>=4.0.2->sparkmagic) (2.16.1)\n",
            "Requirement already satisfied: backcall in /usr/local/lib/python3.10/dist-packages (from ipython>=4.0.2->sparkmagic) (0.2.0)\n",
            "Requirement already satisfied: matplotlib-inline in /usr/local/lib/python3.10/dist-packages (from ipython>=4.0.2->sparkmagic) (0.1.6)\n",
            "Requirement already satisfied: pexpect>4.3 in /usr/local/lib/python3.10/dist-packages (from ipython>=4.0.2->sparkmagic) (4.9.0)\n",
            "Requirement already satisfied: widgetsnbextension~=3.6.0 in /usr/local/lib/python3.10/dist-packages (from ipywidgets>5.0.0->sparkmagic) (3.6.6)\n",
            "Requirement already satisfied: jupyterlab-widgets>=1.0.0 in /usr/local/lib/python3.10/dist-packages (from ipywidgets>5.0.0->sparkmagic) (3.0.9)\n",
            "Requirement already satisfied: jinja2 in /usr/local/lib/python3.10/dist-packages (from notebook>=4.2->sparkmagic) (3.1.2)\n",
            "Requirement already satisfied: pyzmq<25,>=17 in /usr/local/lib/python3.10/dist-packages (from notebook>=4.2->sparkmagic) (23.2.1)\n",
            "Requirement already satisfied: argon2-cffi in /usr/local/lib/python3.10/dist-packages (from notebook>=4.2->sparkmagic) (23.1.0)\n",
            "Requirement already satisfied: jupyter-core>=4.6.1 in /usr/local/lib/python3.10/dist-packages (from notebook>=4.2->sparkmagic) (5.5.0)\n",
            "Requirement already satisfied: nbformat in /usr/local/lib/python3.10/dist-packages (from notebook>=4.2->sparkmagic) (5.9.2)\n",
            "Requirement already satisfied: nbconvert>=5 in /usr/local/lib/python3.10/dist-packages (from notebook>=4.2->sparkmagic) (6.5.4)\n",
            "Requirement already satisfied: Send2Trash>=1.8.0 in /usr/local/lib/python3.10/dist-packages (from notebook>=4.2->sparkmagic) (1.8.2)\n",
            "Requirement already satisfied: terminado>=0.8.3 in /usr/local/lib/python3.10/dist-packages (from notebook>=4.2->sparkmagic) (0.18.0)\n",
            "Requirement already satisfied: prometheus-client in /usr/local/lib/python3.10/dist-packages (from notebook>=4.2->sparkmagic) (0.19.0)\n",
            "Requirement already satisfied: nbclassic>=0.4.7 in /usr/local/lib/python3.10/dist-packages (from notebook>=4.2->sparkmagic) (1.0.0)\n",
            "Requirement already satisfied: python-dateutil>=2.8.1 in /usr/local/lib/python3.10/dist-packages (from pandas<2.0.0,>=0.17.1->sparkmagic) (2.8.2)\n",
            "Requirement already satisfied: pytz>=2020.1 in /usr/local/lib/python3.10/dist-packages (from pandas<2.0.0,>=0.17.1->sparkmagic) (2023.3.post1)\n",
            "Requirement already satisfied: cryptography>=1.3 in /usr/local/lib/python3.10/dist-packages (from requests_kerberos>=0.8.0->sparkmagic) (41.0.7)\n",
            "Collecting pyspnego[kerberos] (from requests_kerberos>=0.8.0->sparkmagic)\n",
            "  Downloading pyspnego-0.10.2-py3-none-any.whl (129 kB)\n",
            "\u001b[2K     \u001b[90m━━━━━━━━━━━━━━━━━━━━━━━━━━━━━━━━━━━━━━━━\u001b[0m \u001b[32m129.9/129.9 kB\u001b[0m \u001b[31m17.3 MB/s\u001b[0m eta \u001b[36m0:00:00\u001b[0m\n",
            "\u001b[?25hRequirement already satisfied: charset-normalizer<4,>=2 in /usr/local/lib/python3.10/dist-packages (from requests->sparkmagic) (3.3.2)\n",
            "Requirement already satisfied: idna<4,>=2.5 in /usr/local/lib/python3.10/dist-packages (from requests->sparkmagic) (3.6)\n",
            "Requirement already satisfied: urllib3<3,>=1.21.1 in /usr/local/lib/python3.10/dist-packages (from requests->sparkmagic) (2.0.7)\n",
            "Requirement already satisfied: certifi>=2017.4.17 in /usr/local/lib/python3.10/dist-packages (from requests->sparkmagic) (2023.11.17)\n",
            "Requirement already satisfied: cffi>=1.12 in /usr/local/lib/python3.10/dist-packages (from cryptography>=1.3->requests_kerberos>=0.8.0->sparkmagic) (1.16.0)\n",
            "Requirement already satisfied: parso<0.9.0,>=0.8.3 in /usr/local/lib/python3.10/dist-packages (from jedi>=0.16->ipython>=4.0.2->sparkmagic) (0.8.3)\n",
            "Collecting qtconsole (from jupyter>=1->hdijupyterutils>=0.6->sparkmagic)\n",
            "  Downloading qtconsole-5.5.1-py3-none-any.whl (123 kB)\n",
            "\u001b[2K     \u001b[90m━━━━━━━━━━━━━━━━━━━━━━━━━━━━━━━━━━━━━━━━\u001b[0m \u001b[32m123.4/123.4 kB\u001b[0m \u001b[31m14.6 MB/s\u001b[0m eta \u001b[36m0:00:00\u001b[0m\n",
            "\u001b[?25hRequirement already satisfied: jupyter-console in /usr/local/lib/python3.10/dist-packages (from jupyter>=1->hdijupyterutils>=0.6->sparkmagic) (6.1.0)\n",
            "Requirement already satisfied: platformdirs>=2.5 in /usr/local/lib/python3.10/dist-packages (from jupyter-core>=4.6.1->notebook>=4.2->sparkmagic) (4.1.0)\n",
            "Requirement already satisfied: jupyter-server>=1.8 in /usr/local/lib/python3.10/dist-packages (from nbclassic>=0.4.7->notebook>=4.2->sparkmagic) (1.24.0)\n",
            "Requirement already satisfied: notebook-shim>=0.2.3 in /usr/local/lib/python3.10/dist-packages (from nbclassic>=0.4.7->notebook>=4.2->sparkmagic) (0.2.3)\n",
            "Requirement already satisfied: lxml in /usr/local/lib/python3.10/dist-packages (from nbconvert>=5->notebook>=4.2->sparkmagic) (4.9.3)\n",
            "Requirement already satisfied: beautifulsoup4 in /usr/local/lib/python3.10/dist-packages (from nbconvert>=5->notebook>=4.2->sparkmagic) (4.11.2)\n",
            "Requirement already satisfied: bleach in /usr/local/lib/python3.10/dist-packages (from nbconvert>=5->notebook>=4.2->sparkmagic) (6.1.0)\n",
            "Requirement already satisfied: defusedxml in /usr/local/lib/python3.10/dist-packages (from nbconvert>=5->notebook>=4.2->sparkmagic) (0.7.1)\n",
            "Requirement already satisfied: entrypoints>=0.2.2 in /usr/local/lib/python3.10/dist-packages (from nbconvert>=5->notebook>=4.2->sparkmagic) (0.4)\n",
            "Requirement already satisfied: jupyterlab-pygments in /usr/local/lib/python3.10/dist-packages (from nbconvert>=5->notebook>=4.2->sparkmagic) (0.3.0)\n",
            "Requirement already satisfied: MarkupSafe>=2.0 in /usr/local/lib/python3.10/dist-packages (from nbconvert>=5->notebook>=4.2->sparkmagic) (2.1.3)\n",
            "Requirement already satisfied: mistune<2,>=0.8.1 in /usr/local/lib/python3.10/dist-packages (from nbconvert>=5->notebook>=4.2->sparkmagic) (0.8.4)\n",
            "Requirement already satisfied: nbclient>=0.5.0 in /usr/local/lib/python3.10/dist-packages (from nbconvert>=5->notebook>=4.2->sparkmagic) (0.9.0)\n",
            "Requirement already satisfied: packaging in /usr/local/lib/python3.10/dist-packages (from nbconvert>=5->notebook>=4.2->sparkmagic) (23.2)\n",
            "Requirement already satisfied: pandocfilters>=1.4.1 in /usr/local/lib/python3.10/dist-packages (from nbconvert>=5->notebook>=4.2->sparkmagic) (1.5.0)\n",
            "Requirement already satisfied: tinycss2 in /usr/local/lib/python3.10/dist-packages (from nbconvert>=5->notebook>=4.2->sparkmagic) (1.2.1)\n",
            "Requirement already satisfied: fastjsonschema in /usr/local/lib/python3.10/dist-packages (from nbformat->notebook>=4.2->sparkmagic) (2.19.0)\n",
            "Requirement already satisfied: jsonschema>=2.6 in /usr/local/lib/python3.10/dist-packages (from nbformat->notebook>=4.2->sparkmagic) (4.19.2)\n",
            "Requirement already satisfied: ptyprocess>=0.5 in /usr/local/lib/python3.10/dist-packages (from pexpect>4.3->ipython>=4.0.2->sparkmagic) (0.7.0)\n",
            "Requirement already satisfied: tenacity>=6.2.0 in /usr/local/lib/python3.10/dist-packages (from plotly>=3->autovizwidget>=0.6->sparkmagic) (8.2.3)\n",
            "Requirement already satisfied: wcwidth in /usr/local/lib/python3.10/dist-packages (from prompt-toolkit!=3.0.0,!=3.0.1,<3.1.0,>=2.0.0->ipython>=4.0.2->sparkmagic) (0.2.12)\n",
            "Requirement already satisfied: six>=1.5 in /usr/local/lib/python3.10/dist-packages (from python-dateutil>=2.8.1->pandas<2.0.0,>=0.17.1->sparkmagic) (1.16.0)\n",
            "Requirement already satisfied: argon2-cffi-bindings in /usr/local/lib/python3.10/dist-packages (from argon2-cffi->notebook>=4.2->sparkmagic) (21.2.0)\n",
            "Collecting gssapi>=1.6.0 (from pyspnego[kerberos]->requests_kerberos>=0.8.0->sparkmagic)\n",
            "  Downloading gssapi-1.8.3.tar.gz (94 kB)\n",
            "\u001b[2K     \u001b[90m━━━━━━━━━━━━━━━━━━━━━━━━━━━━━━━━━━━━━━━━\u001b[0m \u001b[32m94.2/94.2 kB\u001b[0m \u001b[31m11.3 MB/s\u001b[0m eta \u001b[36m0:00:00\u001b[0m\n",
            "\u001b[?25h  Installing build dependencies ... \u001b[?25l\u001b[?25hdone\n",
            "  Getting requirements to build wheel ... \u001b[?25l\u001b[?25hdone\n",
            "  Installing backend dependencies ... \u001b[?25l\u001b[?25hdone\n",
            "  Preparing metadata (pyproject.toml) ... \u001b[?25l\u001b[?25hdone\n",
            "Collecting krb5>=0.3.0 (from pyspnego[kerberos]->requests_kerberos>=0.8.0->sparkmagic)\n",
            "  Downloading krb5-0.5.1.tar.gz (221 kB)\n",
            "\u001b[2K     \u001b[90m━━━━━━━━━━━━━━━━━━━━━━━━━━━━━━━━━━━━━━━━\u001b[0m \u001b[32m221.1/221.1 kB\u001b[0m \u001b[31m24.4 MB/s\u001b[0m eta \u001b[36m0:00:00\u001b[0m\n",
            "\u001b[?25h  Installing build dependencies ... \u001b[?25l\u001b[?25hdone\n",
            "  Getting requirements to build wheel ... \u001b[?25l\u001b[?25hdone\n",
            "  Installing backend dependencies ... \u001b[?25l\u001b[?25hdone\n",
            "  Preparing metadata (pyproject.toml) ... \u001b[?25l\u001b[?25hdone\n",
            "Requirement already satisfied: pycparser in /usr/local/lib/python3.10/dist-packages (from cffi>=1.12->cryptography>=1.3->requests_kerberos>=0.8.0->sparkmagic) (2.21)\n",
            "Requirement already satisfied: attrs>=22.2.0 in /usr/local/lib/python3.10/dist-packages (from jsonschema>=2.6->nbformat->notebook>=4.2->sparkmagic) (23.1.0)\n",
            "Requirement already satisfied: jsonschema-specifications>=2023.03.6 in /usr/local/lib/python3.10/dist-packages (from jsonschema>=2.6->nbformat->notebook>=4.2->sparkmagic) (2023.11.2)\n",
            "Requirement already satisfied: referencing>=0.28.4 in /usr/local/lib/python3.10/dist-packages (from jsonschema>=2.6->nbformat->notebook>=4.2->sparkmagic) (0.31.1)\n",
            "Requirement already satisfied: rpds-py>=0.7.1 in /usr/local/lib/python3.10/dist-packages (from jsonschema>=2.6->nbformat->notebook>=4.2->sparkmagic) (0.13.2)\n",
            "Requirement already satisfied: anyio<4,>=3.1.0 in /usr/local/lib/python3.10/dist-packages (from jupyter-server>=1.8->nbclassic>=0.4.7->notebook>=4.2->sparkmagic) (3.7.1)\n",
            "Requirement already satisfied: websocket-client in /usr/local/lib/python3.10/dist-packages (from jupyter-server>=1.8->nbclassic>=0.4.7->notebook>=4.2->sparkmagic) (1.7.0)\n",
            "Requirement already satisfied: soupsieve>1.2 in /usr/local/lib/python3.10/dist-packages (from beautifulsoup4->nbconvert>=5->notebook>=4.2->sparkmagic) (2.5)\n",
            "Requirement already satisfied: webencodings in /usr/local/lib/python3.10/dist-packages (from bleach->nbconvert>=5->notebook>=4.2->sparkmagic) (0.5.1)\n",
            "Collecting qtpy>=2.4.0 (from qtconsole->jupyter>=1->hdijupyterutils>=0.6->sparkmagic)\n",
            "  Downloading QtPy-2.4.1-py3-none-any.whl (93 kB)\n",
            "\u001b[2K     \u001b[90m━━━━━━━━━━━━━━━━━━━━━━━━━━━━━━━━━━━━━━━━\u001b[0m \u001b[32m93.5/93.5 kB\u001b[0m \u001b[31m9.6 MB/s\u001b[0m eta \u001b[36m0:00:00\u001b[0m\n",
            "\u001b[?25hRequirement already satisfied: sniffio>=1.1 in /usr/local/lib/python3.10/dist-packages (from anyio<4,>=3.1.0->jupyter-server>=1.8->nbclassic>=0.4.7->notebook>=4.2->sparkmagic) (1.3.0)\n",
            "Requirement already satisfied: exceptiongroup in /usr/local/lib/python3.10/dist-packages (from anyio<4,>=3.1.0->jupyter-server>=1.8->nbclassic>=0.4.7->notebook>=4.2->sparkmagic) (1.2.0)\n",
            "Building wheels for collected packages: sparkmagic, autovizwidget, hdijupyterutils, gssapi, krb5\n",
            "  Building wheel for sparkmagic (setup.py) ... \u001b[?25l\u001b[?25hdone\n",
            "  Created wheel for sparkmagic: filename=sparkmagic-0.21.0-py3-none-any.whl size=67574 sha256=9a1442cb60fee779288c3d930716cc733cfcae992447f2567b24cea4559b20ba\n",
            "  Stored in directory: /root/.cache/pip/wheels/cf/e6/43/f1918a8a9679b065cdf7580107213e21346ea7b3e929230a73\n",
            "  Building wheel for autovizwidget (setup.py) ... \u001b[?25l\u001b[?25hdone\n",
            "  Created wheel for autovizwidget: filename=autovizwidget-0.21.0-py3-none-any.whl size=14670 sha256=b26cb2ee0fbe8860599e5d439edd3cd8df569b0973609b09addc351f11255f2b\n",
            "  Stored in directory: /root/.cache/pip/wheels/89/a4/8b/8031ab10b516319e98fd9a555a49bd8ae3d3de4c8584ba4626\n",
            "  Building wheel for hdijupyterutils (setup.py) ... \u001b[?25l\u001b[?25hdone\n",
            "  Created wheel for hdijupyterutils: filename=hdijupyterutils-0.21.0-py3-none-any.whl size=7637 sha256=2f9470a778d17fecc47e257f41870f81e2fac5c324d764bdb3978016540131a4\n",
            "  Stored in directory: /root/.cache/pip/wheels/6d/c5/34/5ac56467aa04154f6c148ddd19b9e7771951b2d56009c3108c\n",
            "  Building wheel for gssapi (pyproject.toml) ... \u001b[?25l\u001b[?25hdone\n",
            "  Created wheel for gssapi: filename=gssapi-1.8.3-cp310-cp310-linux_x86_64.whl size=3811689 sha256=50dcb4cb39274d95f37fe9583f9acf35e953e5782cbd4b5895d73d1ee4e38461\n",
            "  Stored in directory: /root/.cache/pip/wheels/87/3d/a4/a49f352c16a790928eaa1c84e8a8b505f85651bf450de80761\n",
            "  Building wheel for krb5 (pyproject.toml) ... \u001b[?25l\u001b[?25hdone\n",
            "  Created wheel for krb5: filename=krb5-0.5.1-cp310-cp310-linux_x86_64.whl size=4617642 sha256=dc28e2b8179497929cc522afd8227a0c5491d03b1289f6d3f86467badf0e1906\n",
            "  Stored in directory: /root/.cache/pip/wheels/ce/b7/7c/76519a566acc1920166954bde7c5bff8dd872e8f545e417860\n",
            "Successfully built sparkmagic autovizwidget hdijupyterutils gssapi krb5\n",
            "Installing collected packages: qtpy, krb5, jedi, gssapi, pyspnego, qtconsole, requests_kerberos, jupyter, hdijupyterutils, autovizwidget, sparkmagic\n",
            "Successfully installed autovizwidget-0.21.0 gssapi-1.8.3 hdijupyterutils-0.21.0 jedi-0.19.1 jupyter-1.0.0 krb5-0.5.1 pyspnego-0.10.2 qtconsole-5.5.1 qtpy-2.4.1 requests_kerberos-0.14.0 sparkmagic-0.21.0\n"
          ]
        }
      ],
      "source": [
        "# Run to allow colab notebook to connect to & use your EMR\n",
        "!apt install libkrb5-dev\n",
        "!pip install sparkmagic\n",
        "%load_ext sparkmagic.magics"
      ]
    },
    {
      "cell_type": "code",
      "execution_count": null,
      "metadata": {
        "id": "ZxnxmuBCKFOL"
      },
      "outputs": [],
      "source": [
        "# Increases size of data that worker nodes can send to driver in Spark and driver memory\n",
        "%%spark config\n",
        "{\"name\":\"remotesparkmagics-sample\", \"conf\":{\"spark.driver.maxResultSize\":\"4g\", \"spark.driver.memory\": \"2500M\"}}"
      ]
    },
    {
      "cell_type": "code",
      "execution_count": null,
      "metadata": {
        "colab": {
          "base_uri": "https://localhost:8080/",
          "height": 97,
          "referenced_widgets": [
            "a5fd1efd7340424f9809f50e181f5240",
            "690a474504a84691a29ca991768c9c49",
            "1a3f82e765644fb18d0bf2ceb4a6e8af"
          ]
        },
        "id": "BEepbsBemjrH",
        "outputId": "439c516b-dee3-4a5d-ceac-3ffd697ac6cd"
      },
      "outputs": [
        {
          "output_type": "stream",
          "name": "stdout",
          "text": [
            "Starting Spark application\n"
          ]
        },
        {
          "output_type": "display_data",
          "data": {
            "text/plain": [
              "<IPython.core.display.HTML object>"
            ],
            "text/html": [
              "<table>\n",
              "<tr><th>ID</th><th>YARN Application ID</th><th>Kind</th><th>State</th><th>Spark UI</th><th>Driver log</th><th>User</th><th>Current session?</th></tr><tr><td>3</td><td>application_1702337680841_0004</td><td>pyspark</td><td>idle</td><td><a target=\"_blank\" href=\"http://ip-172-31-53-52.ec2.internal:20888/proxy/application_1702337680841_0004/\">Link</a></td><td><a target=\"_blank\" href=\"http://ip-172-31-61-207.ec2.internal:8042/node/containerlogs/container_1702337680841_0004_01_000001/livy\">Link</a></td><td>None</td><td>✔</td></tr></table>"
            ]
          },
          "metadata": {}
        },
        {
          "output_type": "display_data",
          "data": {
            "text/plain": [
              "FloatProgress(value=0.0, bar_style='info', description='Progress:', layout=Layout(height='25px', width='50%'),…"
            ],
            "application/vnd.jupyter.widget-view+json": {
              "version_major": 2,
              "version_minor": 0,
              "model_id": "a5fd1efd7340424f9809f50e181f5240"
            }
          },
          "metadata": {}
        },
        {
          "output_type": "stream",
          "name": "stdout",
          "text": [
            "SparkSession available as 'spark'.\n"
          ]
        }
      ],
      "source": [
        "# Connects notebook to EMR cluster created in AWS console: Copy the line above, enter your Master Public DNS with the proper formatting and host, and update the password\n",
        "%spark add -s spark_session -l python -u \thttp://ec2-100-25-144-41.compute-1.amazonaws.com/ -a cis545-livy -p cis545-livypassword -t Basic_Access"
      ]
    },
    {
      "cell_type": "code",
      "execution_count": null,
      "metadata": {
        "colab": {
          "base_uri": "https://localhost:8080/",
          "height": 17,
          "referenced_widgets": [
            "9c63e7130558440c81834e9c4dbcf2c9",
            "b5b12a94eeb44fb7b195162644ebc4f0",
            "b6d7e3cd1db7491a8be091a6fc61e7e6"
          ]
        },
        "id": "N3XsNX14ogjg",
        "outputId": "f051319d-7adf-454f-de47-ff463c596da9"
      },
      "outputs": [
        {
          "output_type": "display_data",
          "data": {
            "text/plain": [
              "FloatProgress(value=0.0, bar_style='info', description='Progress:', layout=Layout(height='25px', width='50%'),…"
            ],
            "application/vnd.jupyter.widget-view+json": {
              "version_major": 2,
              "version_minor": 0,
              "model_id": "9c63e7130558440c81834e9c4dbcf2c9"
            }
          },
          "metadata": {}
        }
      ],
      "source": [
        "%%spark\n",
        "# import packages for Spark environment\n",
        "import pyspark\n",
        "from pyspark.sql.functions import col\n",
        "from pyspark import SparkFiles\n",
        "from pyspark.sql.types import *\n",
        "from pyspark.ml.feature import PCA, VectorAssembler, StandardScaler\n",
        "from pyspark.ml import Pipeline\n",
        "from pyspark.ml.classification import LogisticRegression\n",
        "from pyspark.mllib.evaluation import MulticlassMetrics"
      ]
    },
    {
      "cell_type": "code",
      "execution_count": null,
      "metadata": {
        "colab": {
          "base_uri": "https://localhost:8080/",
          "height": 17,
          "referenced_widgets": [
            "f50ede1d0322461a8cd07545d681306b",
            "efd8e966b21b4ec7bae8b05d7dab9a09",
            "811fb650f5b74d85841a8407c8faa2b0"
          ]
        },
        "id": "GHqxdxTV05kk",
        "outputId": "83434fea-a101-4617-b3ef-61b7398d21d6"
      },
      "outputs": [
        {
          "output_type": "display_data",
          "data": {
            "text/plain": [
              "FloatProgress(value=0.0, bar_style='info', description='Progress:', layout=Layout(height='25px', width='50%'),…"
            ],
            "application/vnd.jupyter.widget-view+json": {
              "version_major": 2,
              "version_minor": 0,
              "model_id": "f50ede1d0322461a8cd07545d681306b"
            }
          },
          "metadata": {}
        }
      ],
      "source": [
        "%%spark\n",
        "# defines schema for the bank-credit-default-loan-default dataset\n",
        "loans_schema = StructType([\n",
        "     StructField(\"id\", IntegerType(), nullable=True),\n",
        "     StructField(\"rn\", IntegerType(), nullable=True),\n",
        "     StructField(\"pre_since_opened\", FloatType(), nullable=True),\n",
        "     StructField(\"pre_since_confirmed\", IntegerType(), nullable=True),\n",
        "     StructField(\"pre_pterm\", IntegerType(), nullable=True),\n",
        "     StructField(\"pre_fterm\", IntegerType(), nullable=True),\n",
        "     StructField(\"pre_till_pclose\", IntegerType(), nullable=True),\n",
        "     StructField(\"pre_till_fclose\", IntegerType(), nullable=True),\n",
        "     StructField(\"pre_loans_credit_limit\", IntegerType(), nullable=True),\n",
        "     StructField(\"pre_loans_next_pay_summ\", IntegerType(), nullable=True),\n",
        "     StructField(\"pre_loans_outstanding\", IntegerType(), nullable=True),\n",
        "     StructField(\"pre_loans_total_overdue\", IntegerType(), nullable=True),\n",
        "     StructField(\"pre_loans_max_overdue_sum\", IntegerType(), nullable=True),\n",
        "     StructField(\"pre_loans_credit_cost_rate\", IntegerType(), nullable=True),\n",
        "     StructField(\"pre_loans5\", IntegerType(), nullable=True),\n",
        "     StructField(\"pre_loans530\", IntegerType(), nullable=True),\n",
        "     StructField(\"pre_loans3060\", IntegerType(), nullable=True),\n",
        "     StructField(\"pre_loans6090\", IntegerType(), nullable=True),\n",
        "     StructField(\"pre_loans90\", IntegerType(), nullable=True),\n",
        "     StructField(\"is_zero_loans5\", IntegerType(), nullable=True),\n",
        "     StructField(\"is_zero_loans530\", IntegerType(), nullable=True),\n",
        "     StructField(\"is_zero_loans3060\", IntegerType(), nullable=True),\n",
        "     StructField(\"is_zero_loans6090\", IntegerType(), nullable=True),\n",
        "     StructField(\"is_zero_loans90\", IntegerType(), nullable=True),\n",
        "     StructField(\"pre_util\", IntegerType(), nullable=True),\n",
        "     StructField(\"pre_over2limit\", IntegerType(), nullable=True),\n",
        "     StructField(\"pre_maxover2limit\", IntegerType(), nullable=True),\n",
        "     StructField(\"is_zero_util\", IntegerType(), nullable=True),\n",
        "     StructField(\"is_zero_over2limit\", IntegerType(), nullable=True),\n",
        "     StructField(\"is_zero_maxover2limit\", IntegerType(), nullable=True),\n",
        "     StructField(\"enc_paym_0\", IntegerType(), nullable=True),\n",
        "     StructField(\"enc_paym_1\", IntegerType(), nullable=True),\n",
        "     StructField(\"enc_paym_2\", IntegerType(), nullable=True),\n",
        "     StructField(\"enc_paym_3\", IntegerType(), nullable=True),\n",
        "     StructField(\"enc_paym_4\", IntegerType(), nullable=True),\n",
        "     StructField(\"enc_paym_5\", IntegerType(), nullable=True),\n",
        "     StructField(\"enc_paym_6\", IntegerType(), nullable=True),\n",
        "     StructField(\"enc_paym_7\", IntegerType(), nullable=True),\n",
        "     StructField(\"enc_paym_8\", IntegerType(), nullable=True),\n",
        "     StructField(\"enc_paym_9\", IntegerType(), nullable=True),\n",
        "     StructField(\"enc_paym_10\", IntegerType(), nullable=True),\n",
        "     StructField(\"enc_paym_11\", IntegerType(), nullable=True),\n",
        "     StructField(\"enc_paym_12\", IntegerType(), nullable=True),\n",
        "     StructField(\"enc_paym_13\", IntegerType(), nullable=True),\n",
        "     StructField(\"enc_paym_14\", IntegerType(), nullable=True),\n",
        "     StructField(\"enc_paym_15\", IntegerType(), nullable=True),\n",
        "     StructField(\"enc_paym_16\", IntegerType(), nullable=True),\n",
        "     StructField(\"enc_paym_17\", IntegerType(), nullable=True),\n",
        "     StructField(\"enc_paym_18\", IntegerType(), nullable=True),\n",
        "     StructField(\"enc_paym_19\", IntegerType(), nullable=True),\n",
        "     StructField(\"enc_paym_20\", IntegerType(), nullable=True),\n",
        "     StructField(\"enc_paym_21\", IntegerType(), nullable=True),\n",
        "     StructField(\"enc_paym_22\", IntegerType(), nullable=True),\n",
        "     StructField(\"enc_paym_23\", IntegerType(), nullable=True),\n",
        "     StructField(\"enc_paym_24\", IntegerType(), nullable=True),\n",
        "     StructField(\"enc_loans_account_holder_type\", IntegerType(), nullable=True),\n",
        "     StructField(\"enc_loans_credit_status\", IntegerType(), nullable=True),\n",
        "     StructField(\"enc_loans_credit_type\", IntegerType(), nullable=True),\n",
        "     StructField(\"enc_loans_account_cur\", IntegerType(), nullable=True),\n",
        "     StructField(\"pclose_flag\", IntegerType(), nullable=True),\n",
        "     StructField(\"fclose_flag\", IntegerType(), nullable=True),\n",
        "])"
      ]
    },
    {
      "cell_type": "code",
      "execution_count": null,
      "metadata": {
        "colab": {
          "base_uri": "https://localhost:8080/",
          "height": 17,
          "referenced_widgets": [
            "e64bbddd7b3e42a39e31a0297d8c19ba",
            "9960a0f0c37a4240b03efdbfd922a858",
            "cfc234e37ec544b6bce916f64ee39287"
          ]
        },
        "id": "FSbtldAs0g8m",
        "outputId": "707debf4-bd1e-4cac-e1d2-2888e7bb4e0c"
      },
      "outputs": [
        {
          "output_type": "display_data",
          "data": {
            "text/plain": [
              "FloatProgress(value=0.0, bar_style='info', description='Progress:', layout=Layout(height='25px', width='50%'),…"
            ],
            "application/vnd.jupyter.widget-view+json": {
              "version_major": 2,
              "version_minor": 0,
              "model_id": "e64bbddd7b3e42a39e31a0297d8c19ba"
            }
          },
          "metadata": {}
        }
      ],
      "source": [
        "%%spark\n",
        "# loads all 12 dataset parquet files from our S3 bucket into Spark dataframe (sdf)\n",
        "data_url_0 = \"https://cis545-final-project-data.s3.amazonaws.com/train_data_11.pq\"\n",
        "sc.addFile(data_url_0)\n",
        "path_0  = SparkFiles.get('download')\n",
        "data_0_sdf = spark.read.parquet('file://'+SparkFiles.get('train_data_11.pq'),header=True,schema = loans_schema,quote='\\\"',escape='\\\"')\n",
        "\n",
        "data_url_1 = \"https://cis545-final-project-data.s3.amazonaws.com/train_data_0.pq\"\n",
        "sc.addFile(data_url_1)\n",
        "path_1  = SparkFiles.get('download')\n",
        "data_1_sdf = spark.read.parquet('file://'+SparkFiles.get('train_data_0.pq'),header=True,schema = loans_schema,quote='\\\"',escape='\\\"')\n",
        "\n",
        "data_url_2 = \"https://cis545-final-project-data.s3.amazonaws.com/train_data_1.pq\"\n",
        "sc.addFile(data_url_2)\n",
        "path_2  = SparkFiles.get('download')\n",
        "data_2_sdf = spark.read.parquet('file://'+SparkFiles.get('train_data_1.pq'),header=True,schema = loans_schema,quote='\\\"',escape='\\\"')\n",
        "\n",
        "data_url_3 = \"https://cis545-final-project-data.s3.amazonaws.com/train_data_2.pq\"\n",
        "sc.addFile(data_url_3)\n",
        "path_3  = SparkFiles.get('download')\n",
        "data_3_sdf = spark.read.parquet('file://'+SparkFiles.get('train_data_2.pq'),header=True,schema = loans_schema,quote='\\\"',escape='\\\"')\n",
        "\n",
        "data_url_4 = \"https://cis545-final-project-data.s3.amazonaws.com/train_data_3.pq\"\n",
        "sc.addFile(data_url_4)\n",
        "path_4  = SparkFiles.get('download')\n",
        "data_4_sdf = spark.read.parquet('file://'+SparkFiles.get('train_data_3.pq'),header=True,schema = loans_schema,quote='\\\"',escape='\\\"')\n",
        "\n",
        "data_url_5 = \"https://cis545-final-project-data.s3.amazonaws.com/train_data_4.pq\"\n",
        "sc.addFile(data_url_5)\n",
        "path_5  = SparkFiles.get('download')\n",
        "data_5_sdf = spark.read.parquet('file://'+SparkFiles.get('train_data_4.pq'),header=True,schema = loans_schema,quote='\\\"',escape='\\\"')\n",
        "\n",
        "data_url_6 = \"https://cis545-final-project-data.s3.amazonaws.com/train_data_5.pq\"\n",
        "sc.addFile(data_url_6)\n",
        "path_6  = SparkFiles.get('download')\n",
        "data_6_sdf = spark.read.parquet('file://'+SparkFiles.get('train_data_5.pq'),header=True,schema = loans_schema,quote='\\\"',escape='\\\"')\n",
        "\n",
        "data_url_7 = \"https://cis545-final-project-data.s3.amazonaws.com/train_data_6.pq\"\n",
        "sc.addFile(data_url_7)\n",
        "path_7  = SparkFiles.get('download')\n",
        "data_7_sdf = spark.read.parquet('file://'+SparkFiles.get('train_data_6.pq'),header=True,schema = loans_schema,quote='\\\"',escape='\\\"')\n",
        "\n",
        "data_url_8 = \"https://cis545-final-project-data.s3.amazonaws.com/train_data_7.pq\"\n",
        "sc.addFile(data_url_8)\n",
        "path_8  = SparkFiles.get('download')\n",
        "data_8_sdf = spark.read.parquet('file://'+SparkFiles.get('train_data_7.pq'),header=True,schema = loans_schema,quote='\\\"',escape='\\\"')\n",
        "\n",
        "data_url_9 = \"https://cis545-final-project-data.s3.amazonaws.com/train_data_8.pq\"\n",
        "sc.addFile(data_url_9)\n",
        "path_9  = SparkFiles.get('download')\n",
        "data_9_sdf = spark.read.parquet('file://'+SparkFiles.get('train_data_8.pq'),header=True,schema = loans_schema,quote='\\\"',escape='\\\"')\n",
        "\n",
        "data_url_10 = \"https://cis545-final-project-data.s3.amazonaws.com/train_data_9.pq\"\n",
        "sc.addFile(data_url_10)\n",
        "path_10  = SparkFiles.get('download')\n",
        "data_10_sdf = spark.read.parquet('file://'+SparkFiles.get('train_data_9.pq'),header=True,schema = loans_schema,quote='\\\"',escape='\\\"')\n",
        "\n",
        "data_url_11 = \"https://cis545-final-project-data.s3.amazonaws.com/train_data_10.pq\"\n",
        "sc.addFile(data_url_11)\n",
        "path_11  = SparkFiles.get('download')\n",
        "data_11_sdf = spark.read.parquet('file://'+SparkFiles.get('train_data_10.pq'),header=True,schema = loans_schema,quote='\\\"',escape='\\\"')"
      ]
    },
    {
      "cell_type": "code",
      "execution_count": null,
      "metadata": {
        "colab": {
          "base_uri": "https://localhost:8080/",
          "height": 17,
          "referenced_widgets": [
            "7d6192579fb446f3afec926b09b96331",
            "d0e7133ee2304bcc9489fa0d8449e167",
            "94f3809d04a34ce0aa1c5e155adff089"
          ]
        },
        "id": "J8q25hBY_2iu",
        "outputId": "38289e35-3915-42e5-a42e-7af6f6762aa9"
      },
      "outputs": [
        {
          "output_type": "display_data",
          "data": {
            "text/plain": [
              "FloatProgress(value=0.0, bar_style='info', description='Progress:', layout=Layout(height='25px', width='50%'),…"
            ],
            "application/vnd.jupyter.widget-view+json": {
              "version_major": 2,
              "version_minor": 0,
              "model_id": "7d6192579fb446f3afec926b09b96331"
            }
          },
          "metadata": {}
        }
      ],
      "source": [
        "%%spark\n",
        "# defines schema for the target data file (it is separate from rest of data files)\n",
        "flag_schema = StructType([\n",
        "     StructField(\"id\", IntegerType(), nullable=True),\n",
        "     StructField(\"flag\", IntegerType(), nullable=True),\n",
        "])\n",
        "\n",
        "# loads target csv file from S3 bucket into Spark dataframe (sdf)\n",
        "data_url_flag = \"https://cis545-final-project-data.s3.amazonaws.com/target.csv\"\n",
        "sc.addFile(data_url_flag)\n",
        "path_flag  = SparkFiles.get('download')\n",
        "data_flag_sdf = spark.read.csv('file://'+SparkFiles.get('target.csv'),header=True,schema = flag_schema,quote='\\\"',escape='\\\"')"
      ]
    },
    {
      "cell_type": "code",
      "execution_count": null,
      "metadata": {
        "colab": {
          "base_uri": "https://localhost:8080/",
          "height": 17,
          "referenced_widgets": [
            "840d51d9e3d44b23b8a1caffbe49660c",
            "7b32a3bb4b6a4b0495ea3b25251a64e9",
            "3c7d688bf9f04673aa3002580a350650"
          ]
        },
        "id": "mIX-cSve9w7J",
        "outputId": "30d2b16d-dd95-4dee-a73e-3a8924250e8d"
      },
      "outputs": [
        {
          "output_type": "display_data",
          "data": {
            "text/plain": [
              "FloatProgress(value=0.0, bar_style='info', description='Progress:', layout=Layout(height='25px', width='50%'),…"
            ],
            "application/vnd.jupyter.widget-view+json": {
              "version_major": 2,
              "version_minor": 0,
              "model_id": "840d51d9e3d44b23b8a1caffbe49660c"
            }
          },
          "metadata": {}
        }
      ],
      "source": [
        "%%spark\n",
        "# rename 'id' column in target sdf to flag_id to differentiate from\n",
        "# 'id' column in rest of dataset sdf's\n",
        "data_flag_sdf = data_flag_sdf.withColumnRenamed('id', 'flag_id')\n",
        "\n",
        "# append all 12 dataset sdf's into 1 sdf for processing\n",
        "full_data_sdf = data_0_sdf.unionAll(data_1_sdf).unionAll(data_2_sdf).unionAll(data_3_sdf).unionAll(data_4_sdf).unionAll(data_5_sdf).unionAll(data_6_sdf).unionAll(data_7_sdf).unionAll(data_8_sdf).unionAll(data_9_sdf).unionAll(data_10_sdf).unionAll(data_11_sdf)\n",
        "\n",
        "# join dataset sdf's with target sdf on 'id' to get sdf with all data + target column\n",
        "full_data_with_flags_sdf = full_data_sdf.join(data_flag_sdf, full_data_sdf.id == data_flag_sdf.flag_id, 'inner')"
      ]
    },
    {
      "cell_type": "code",
      "execution_count": null,
      "metadata": {
        "colab": {
          "base_uri": "https://localhost:8080/",
          "height": 17,
          "referenced_widgets": [
            "9edd5ba9beb347f6a459f826188b1004",
            "95f19b4b2be743b19913fb5cce8d8f9a",
            "2f0a455820644e59beda279bb742a687"
          ]
        },
        "id": "LMfnu2jCTmo6",
        "outputId": "02ffdf98-87c6-4d09-f8a1-9151717e208a"
      },
      "outputs": [
        {
          "output_type": "display_data",
          "data": {
            "text/plain": [
              "FloatProgress(value=0.0, bar_style='info', description='Progress:', layout=Layout(height='25px', width='50%'),…"
            ],
            "application/vnd.jupyter.widget-view+json": {
              "version_major": 2,
              "version_minor": 0,
              "model_id": "9edd5ba9beb347f6a459f826188b1004"
            }
          },
          "metadata": {}
        }
      ],
      "source": [
        "%%spark\n",
        "# Randomly select 250,000 rows as a representative sample of the larger dataset\n",
        "# This helps cut down on computation time\n",
        "full_data_with_flags_sdf.createOrReplaceTempView(\"full_data\")\n",
        "\n",
        "query = '''SELECT *\n",
        "           FROM full_data\n",
        "           ORDER BY RAND(15)\n",
        "           LIMIT 250000'''\n",
        "\n",
        "# Save the output sdf\n",
        "random_data_sdf = spark.sql(query)"
      ]
    },
    {
      "cell_type": "markdown",
      "metadata": {
        "id": "2TKG2EKhmZNL"
      },
      "source": [
        "# **Part 1: Data Formatting and Preprocessing**"
      ]
    },
    {
      "cell_type": "markdown",
      "source": [
        "## **Part 1.1:** One-hot Encoding and Clean Up"
      ],
      "metadata": {
        "id": "nwGglebjthXd"
      }
    },
    {
      "cell_type": "code",
      "execution_count": null,
      "metadata": {
        "colab": {
          "base_uri": "https://localhost:8080/",
          "height": 17,
          "referenced_widgets": [
            "c33b118c165b4478a0e81b71a9513f51",
            "8033348534824ec389b7ec5c0ec62202",
            "474b355585cb4022a6abe1a5dbf6ff7c"
          ]
        },
        "id": "0llrR8oFbkzJ",
        "outputId": "ae18ba1e-f92b-4591-8e32-d8be7c878aa1"
      },
      "outputs": [
        {
          "output_type": "display_data",
          "data": {
            "text/plain": [
              "FloatProgress(value=0.0, bar_style='info', description='Progress:', layout=Layout(height='25px', width='50%'),…"
            ],
            "application/vnd.jupyter.widget-view+json": {
              "version_major": 2,
              "version_minor": 0,
              "model_id": "c33b118c165b4478a0e81b71a9513f51"
            }
          },
          "metadata": {}
        }
      ],
      "source": [
        "%%spark\n",
        "from pyspark.sql.functions import when\n",
        "# one-hot encode categorical variables enc_loans_account_holder_type & enc_loans_credit_status\n",
        "categorical_3 = ['enc_loans_account_holder_type', 'enc_loans_credit_status']\n",
        "\n",
        "for col in categorical_3:\n",
        "  for distinct in [0, 1, 2, 3, 4, 5, 6]:\n",
        "    new_col_name = col + '-' + str(distinct)\n",
        "    random_data_sdf = random_data_sdf.withColumn(new_col_name, when(random_data_sdf[col] == distinct, 1).otherwise(0))"
      ]
    },
    {
      "cell_type": "code",
      "execution_count": null,
      "metadata": {
        "colab": {
          "base_uri": "https://localhost:8080/",
          "height": 17,
          "referenced_widgets": [
            "7ce64f4c890a440ca832bc5bb0c0d451",
            "5f34abbe1ec343c6aa62a505498e81ef",
            "f1c958da02954081a9fc9eac02226811"
          ]
        },
        "id": "UhmXJL2xbsPq",
        "outputId": "ad6be171-2604-4553-e5e6-30a05e4aefb3"
      },
      "outputs": [
        {
          "output_type": "display_data",
          "data": {
            "text/plain": [
              "FloatProgress(value=0.0, bar_style='info', description='Progress:', layout=Layout(height='25px', width='50%'),…"
            ],
            "application/vnd.jupyter.widget-view+json": {
              "version_major": 2,
              "version_minor": 0,
              "model_id": "7ce64f4c890a440ca832bc5bb0c0d451"
            }
          },
          "metadata": {}
        }
      ],
      "source": [
        "%%spark\n",
        "# one-hot encode categorical variables enc_loans_credit_type\n",
        "categorical_4 = ['enc_loans_credit_type']\n",
        "\n",
        "for col in categorical_4:\n",
        "  for distinct in [0, 1, 2, 3, 4, 5]:\n",
        "    new_col_name = col + '-' + str(distinct)\n",
        "    random_data_sdf = random_data_sdf.withColumn(new_col_name, when(random_data_sdf[col] == distinct, 1).otherwise(0))"
      ]
    },
    {
      "cell_type": "code",
      "execution_count": null,
      "metadata": {
        "colab": {
          "base_uri": "https://localhost:8080/",
          "height": 17,
          "referenced_widgets": [
            "4b426acf1f824432941437bb2a25f998",
            "c629a3721914430a86ce742ffbb9b6c9",
            "2560d08e4be84d0a974d143552e93ff7"
          ]
        },
        "id": "qqSMQAOD_Fha",
        "outputId": "e7233e30-318f-41a3-bbf6-47e54111d967"
      },
      "outputs": [
        {
          "output_type": "display_data",
          "data": {
            "text/plain": [
              "FloatProgress(value=0.0, bar_style='info', description='Progress:', layout=Layout(height='25px', width='50%'),…"
            ],
            "application/vnd.jupyter.widget-view+json": {
              "version_major": 2,
              "version_minor": 0,
              "model_id": "4b426acf1f824432941437bb2a25f998"
            }
          },
          "metadata": {}
        }
      ],
      "source": [
        "%%spark\n",
        "# splits entire dataset into non-default (negative) and default (positive) sdf's & drops null values\n",
        "non_default_sdf = random_data_sdf[random_data_sdf['flag'] == 0].na.drop().dropDuplicates()\n",
        "default_sdf = random_data_sdf[random_data_sdf['flag'] == 1].na.drop().dropDuplicates()"
      ]
    },
    {
      "cell_type": "markdown",
      "source": [
        "## Part 1.2 Data Pre-Processing"
      ],
      "metadata": {
        "id": "M0CBgtcRt60b"
      }
    },
    {
      "cell_type": "code",
      "execution_count": null,
      "metadata": {
        "id": "_K4dDXnxlOuU",
        "colab": {
          "base_uri": "https://localhost:8080/",
          "height": 17,
          "referenced_widgets": [
            "d15a504d92b644f4919dd9a7555d4098",
            "06dcd838d67e47d0a7b627808e12d334",
            "eca3fb3ee904403fbc953f4e23f86f8e"
          ]
        },
        "outputId": "d37a61ba-82c4-4932-d228-62ac4a8f25ab"
      },
      "outputs": [
        {
          "output_type": "display_data",
          "data": {
            "text/plain": [
              "FloatProgress(value=0.0, bar_style='info', description='Progress:', layout=Layout(height='25px', width='50%'),…"
            ],
            "application/vnd.jupyter.widget-view+json": {
              "version_major": 2,
              "version_minor": 0,
              "model_id": "d15a504d92b644f4919dd9a7555d4098"
            }
          },
          "metadata": {}
        }
      ],
      "source": [
        "%%spark\n",
        "# Extract columns to be used as features in the models\n",
        "feature_columns = random_data_sdf.columns\n",
        "# Remove the label column (flag) and extraneous columns\n",
        "drop_list = ['id', 'rn', 'flag', 'flag_id', 'enc_loans_account_holder_type', 'enc_loans_credit_status', 'enc_loans_credit_type']\n",
        "for i in range(24):\n",
        "  drop_list.append('enc_paym_{i}')\n",
        "feature_columns = [x for x in feature_columns if x not in drop_list]\n",
        "# Create features column\n",
        "proc_default_sdf = VectorAssembler(inputCols=feature_columns, outputCol='features').transform(default_sdf)\n",
        "proc_non_default_sdf = VectorAssembler(inputCols=feature_columns, outputCol='features').transform(non_default_sdf)"
      ]
    },
    {
      "cell_type": "code",
      "execution_count": null,
      "metadata": {
        "id": "eCidhAAhMbJS",
        "colab": {
          "base_uri": "https://localhost:8080/",
          "height": 17,
          "referenced_widgets": [
            "793bc353d6b140ad8ffc5139235c2eb5",
            "d47e0760fd1e42a3b7fb0fd20cfd2a01",
            "e9fa131bc21a46daa37a37fe3e04c9f8"
          ]
        },
        "outputId": "698690ef-7fca-4ca4-a13c-d34389c54ce9"
      },
      "outputs": [
        {
          "output_type": "display_data",
          "data": {
            "text/plain": [
              "FloatProgress(value=0.0, bar_style='info', description='Progress:', layout=Layout(height='25px', width='50%'),…"
            ],
            "application/vnd.jupyter.widget-view+json": {
              "version_major": 2,
              "version_minor": 0,
              "model_id": "793bc353d6b140ad8ffc5139235c2eb5"
            }
          },
          "metadata": {}
        }
      ],
      "source": [
        "%%spark\n",
        "random_seed = 21\n",
        "# Split data into training and testing sets w/ a 80/20 split\n",
        "train_default_sdf, test_default_sdf = proc_default_sdf.randomSplit([0.8, 0.2], seed=random_seed)\n",
        "train_non_default_sdf, test_non_default_sdf = proc_non_default_sdf.randomSplit([0.8, 0.2], seed=random_seed)"
      ]
    },
    {
      "cell_type": "code",
      "execution_count": null,
      "metadata": {
        "id": "HWi35f0512iX",
        "colab": {
          "base_uri": "https://localhost:8080/",
          "height": 17,
          "referenced_widgets": [
            "6bb799af0731425ab0bcbd93a2d1caab",
            "400c0d551c79425da8cb7b646283a0fe",
            "99e9b540e65740579c3152d475fb4e0f"
          ]
        },
        "outputId": "2d289cb7-b875-4c1c-a06a-45e1a426ca49"
      },
      "outputs": [
        {
          "output_type": "display_data",
          "data": {
            "text/plain": [
              "FloatProgress(value=0.0, bar_style='info', description='Progress:', layout=Layout(height='25px', width='50%'),…"
            ],
            "application/vnd.jupyter.widget-view+json": {
              "version_major": 2,
              "version_minor": 0,
              "model_id": "6bb799af0731425ab0bcbd93a2d1caab"
            }
          },
          "metadata": {}
        }
      ],
      "source": [
        "%%spark\n",
        "from pyspark.sql.functions import col, explode, array, lit\n",
        "# Undersample the nondefaulted train cases\n",
        "train_non_default_under_sdf = train_non_default_sdf.sample(False, 0.2)\n",
        "# Oversample the defaulted train cases\n",
        "train_default_over_sdf = train_default_sdf.withColumn(\"dummy\", explode(array([lit(x) for x in range(3)]))).drop('dummy')"
      ]
    },
    {
      "cell_type": "code",
      "execution_count": null,
      "metadata": {
        "id": "ekVKmYm7UVvD",
        "colab": {
          "base_uri": "https://localhost:8080/",
          "height": 17,
          "referenced_widgets": [
            "ac5c159a0ddf456f961e9f18c5d6ff31",
            "d079cf95420e4608958077f34cbbe012",
            "4a82e3e012c34173aea9be7b9fe535d7"
          ]
        },
        "outputId": "8701691a-2174-4416-8713-b9266ff22de0"
      },
      "outputs": [
        {
          "output_type": "display_data",
          "data": {
            "text/plain": [
              "FloatProgress(value=0.0, bar_style='info', description='Progress:', layout=Layout(height='25px', width='50%'),…"
            ],
            "application/vnd.jupyter.widget-view+json": {
              "version_major": 2,
              "version_minor": 0,
              "model_id": "ac5c159a0ddf456f961e9f18c5d6ff31"
            }
          },
          "metadata": {}
        }
      ],
      "source": [
        "%%spark\n",
        "# Combine default and nondefault training and test sets\n",
        "train_sdf = train_default_over_sdf.unionAll(train_non_default_under_sdf)\n",
        "test_sdf = test_default_sdf.unionAll(test_non_default_sdf)"
      ]
    },
    {
      "cell_type": "code",
      "execution_count": null,
      "metadata": {
        "id": "_P8Ss68CN1Cv",
        "colab": {
          "base_uri": "https://localhost:8080/",
          "height": 17,
          "referenced_widgets": [
            "eb8f8f7277634d88836662af1e14bc2f",
            "b8881458b014480f944f956917a6e301",
            "7e0e7db6b0e84bc69d3d14c6c6af9f1a"
          ]
        },
        "outputId": "5d2ea42f-5d81-4c68-e630-f368cb48f43f"
      },
      "outputs": [
        {
          "output_type": "display_data",
          "data": {
            "text/plain": [
              "FloatProgress(value=0.0, bar_style='info', description='Progress:', layout=Layout(height='25px', width='50%'),…"
            ],
            "application/vnd.jupyter.widget-view+json": {
              "version_major": 2,
              "version_minor": 0,
              "model_id": "eb8f8f7277634d88836662af1e14bc2f"
            }
          },
          "metadata": {}
        }
      ],
      "source": [
        "%%spark\n",
        "# Scale data for better classification and pca\n",
        "scaler = StandardScaler(inputCol='features', outputCol='features_scaled')\n",
        "scaler = scaler.fit(train_sdf)\n",
        "scaled_train_sdf = scaler.transform(train_sdf)\n",
        "scaled_test_sdf = scaler.transform(test_sdf)"
      ]
    },
    {
      "cell_type": "code",
      "execution_count": null,
      "metadata": {
        "colab": {
          "base_uri": "https://localhost:8080/",
          "height": 17,
          "referenced_widgets": [
            "7eafa761b42c41cf9647ef5f1eb188a8",
            "feb9be2c3c844826a3ae957945139104",
            "e5f5ebb63d524212a18e4c5d2731fb0f"
          ]
        },
        "id": "AFkWtteSRM4V",
        "outputId": "9e2603cc-0b7c-431c-9e5e-d5f08dd1f7b8"
      },
      "outputs": [
        {
          "output_type": "display_data",
          "data": {
            "text/plain": [
              "FloatProgress(value=0.0, bar_style='info', description='Progress:', layout=Layout(height='25px', width='50%'),…"
            ],
            "application/vnd.jupyter.widget-view+json": {
              "version_major": 2,
              "version_minor": 0,
              "model_id": "7eafa761b42c41cf9647ef5f1eb188a8"
            }
          },
          "metadata": {}
        }
      ],
      "source": [
        "%%spark\n",
        "#Split train into train and validation sets for hyperparameter tuning\n",
        "train_val_default_sdf, val_default_sdf = train_default_over_sdf.randomSplit([0.8, 0.2], seed=random_seed)\n",
        "train_val_non_default_sdf, val_non_default_sdf = train_non_default_under_sdf.randomSplit([0.8, 0.2], seed=random_seed)\n",
        "train_val_sdf = train_val_default_sdf.unionAll(train_val_non_default_sdf)\n",
        "val_sdf = val_default_sdf.unionAll(val_non_default_sdf)"
      ]
    },
    {
      "cell_type": "code",
      "execution_count": null,
      "metadata": {
        "colab": {
          "base_uri": "https://localhost:8080/",
          "height": 17,
          "referenced_widgets": [
            "c97e40783152495caea186fffee66396",
            "14b715bcc84049378dc3df3efd7fc1a5",
            "31e985bcc21a431ea6a6e006c00c4148"
          ]
        },
        "id": "3rEHWOTSgpe0",
        "outputId": "b821685e-1351-49e4-b424-7464c6b2838c"
      },
      "outputs": [
        {
          "output_type": "display_data",
          "data": {
            "text/plain": [
              "FloatProgress(value=0.0, bar_style='info', description='Progress:', layout=Layout(height='25px', width='50%'),…"
            ],
            "application/vnd.jupyter.widget-view+json": {
              "version_major": 2,
              "version_minor": 0,
              "model_id": "c97e40783152495caea186fffee66396"
            }
          },
          "metadata": {}
        }
      ],
      "source": [
        "%%spark\n",
        "# Scale data for better classification for hyperparameter validation\n",
        "scaler = StandardScaler(inputCol='features', outputCol='val_features_scaled')\n",
        "scaler = scaler.fit(train_val_sdf)\n",
        "scaled_train_val_sdf = scaler.transform(train_val_sdf)\n",
        "scaled_val_sdf = scaler.transform(val_sdf)\n",
        "scaled_test_val_sdf = scaler.transform(test_sdf)"
      ]
    },
    {
      "cell_type": "markdown",
      "metadata": {
        "id": "cFna1yURD19s"
      },
      "source": [
        "# Part 2: EDA"
      ]
    },
    {
      "cell_type": "markdown",
      "source": [
        "## **Part 2.1:** Query Data for Visualization"
      ],
      "metadata": {
        "id": "DE7iAgqAj9Gv"
      }
    },
    {
      "cell_type": "code",
      "source": [
        "# Transfer sdf to pandas in Colab env\n",
        "%spark -o random_data_sdf"
      ],
      "metadata": {
        "colab": {
          "base_uri": "https://localhost:8080/",
          "height": 73,
          "referenced_widgets": [
            "cfccfa08802b4d70b0efaaa6eff44c98",
            "6230b5ec43a644469d57147e1ec06909",
            "472c61a06025477a850c44e6ed39ed40",
            "c4f6c15a45654d329e0321385a04a1dd",
            "399129f469044f9e9f833e03c25f0a61",
            "979234f9f2714f80a8caaa1b5a784127"
          ]
        },
        "id": "qvxaJ_KmdLFR",
        "outputId": "652b81bf-c5a1-45ee-ce40-a9475a1b7f8d"
      },
      "execution_count": null,
      "outputs": [
        {
          "output_type": "display_data",
          "data": {
            "text/plain": [
              "FloatProgress(value=0.0, bar_style='info', description='Progress:', layout=Layout(height='25px', width='50%'),…"
            ],
            "application/vnd.jupyter.widget-view+json": {
              "version_major": 2,
              "version_minor": 0,
              "model_id": "cfccfa08802b4d70b0efaaa6eff44c98"
            }
          },
          "metadata": {}
        },
        {
          "output_type": "display_data",
          "data": {
            "text/plain": [
              "FloatProgress(value=0.0, bar_style='info', description='Progress:', layout=Layout(height='25px', width='50%'),…"
            ],
            "application/vnd.jupyter.widget-view+json": {
              "version_major": 2,
              "version_minor": 0,
              "model_id": "c4f6c15a45654d329e0321385a04a1dd"
            }
          },
          "metadata": {}
        }
      ]
    },
    {
      "cell_type": "code",
      "execution_count": null,
      "metadata": {
        "colab": {
          "base_uri": "https://localhost:8080/",
          "height": 17,
          "referenced_widgets": [
            "c0f12726201642de8a127d2667cdf4f3",
            "bfdda5057cf247268db2f96598682732",
            "0cbd139e1fce422a8fc146c36c61bc97"
          ]
        },
        "id": "SkEHEAB2K7MJ",
        "outputId": "c03bed20-c704-49bc-cc1f-bc0118a603c5"
      },
      "outputs": [
        {
          "output_type": "display_data",
          "data": {
            "text/plain": [
              "FloatProgress(value=0.0, bar_style='info', description='Progress:', layout=Layout(height='25px', width='50%'),…"
            ],
            "application/vnd.jupyter.widget-view+json": {
              "version_major": 2,
              "version_minor": 0,
              "model_id": "c0f12726201642de8a127d2667cdf4f3"
            }
          },
          "metadata": {}
        }
      ],
      "source": [
        "%%spark\n",
        "# Randomly sample 25,000 rows as a representative sample for the purpose of plotting\n",
        "random_data_sdf.createOrReplaceTempView(\"random_data\")\n",
        "\n",
        "query = '''SELECT *\n",
        "           FROM random_data\n",
        "           ORDER BY RAND(15)\n",
        "           LIMIT 25000'''\n",
        "\n",
        "# Save the output sdf\n",
        "plotting_data_sdf = spark.sql(query)"
      ]
    },
    {
      "cell_type": "code",
      "execution_count": null,
      "metadata": {
        "id": "qBJwyB42b0XQ",
        "colab": {
          "base_uri": "https://localhost:8080/",
          "height": 17,
          "referenced_widgets": [
            "71c15f6147544718953ec9991169c0be",
            "fb0a598369274aeca4fbeffe83ed0411",
            "c9e4628fa22940e7bd46d8abb8f82bd8"
          ]
        },
        "outputId": "ea54358f-1d29-4da5-e718-afcdb01302a8"
      },
      "outputs": [
        {
          "output_type": "display_data",
          "data": {
            "text/plain": [
              "FloatProgress(value=0.0, bar_style='info', description='Progress:', layout=Layout(height='25px', width='50%'),…"
            ],
            "application/vnd.jupyter.widget-view+json": {
              "version_major": 2,
              "version_minor": 0,
              "model_id": "71c15f6147544718953ec9991169c0be"
            }
          },
          "metadata": {}
        }
      ],
      "source": [
        "%%spark\n",
        "# Randomly sample 25,000 defaulted rows to better examine the default cases\n",
        "query = '''SELECT *\n",
        "           FROM random_data\n",
        "           WHERE flag = 1\n",
        "           ORDER BY RAND(15)\n",
        "           LIMIT 25000'''\n",
        "\n",
        "# Save the output sdf\n",
        "plot_default_sdf = spark.sql(query)"
      ]
    },
    {
      "cell_type": "code",
      "execution_count": null,
      "metadata": {
        "colab": {
          "base_uri": "https://localhost:8080/",
          "height": 17,
          "referenced_widgets": [
            "11212cb5e15e4c82acba73a6b3890006",
            "2b91fc8e4e034e22ade96307b3ecf589",
            "dcf5d620a30d417e953f58ba30bc7441",
            "7567a76e531946bfba71bfdbe09ced44",
            "7772e79f1250488a88a60b236082fb86",
            "27f3ebc84bc1440890b42b3576f4e512"
          ]
        },
        "id": "k1-kjumY1j4f",
        "outputId": "63456dfd-83d0-47b1-9879-ce8ecebcaf8b"
      },
      "outputs": [
        {
          "output_type": "display_data",
          "data": {
            "text/plain": [
              "FloatProgress(value=0.0, bar_style='info', description='Progress:', layout=Layout(height='25px', width='50%'),…"
            ],
            "application/vnd.jupyter.widget-view+json": {
              "version_major": 2,
              "version_minor": 0,
              "model_id": "11212cb5e15e4c82acba73a6b3890006"
            }
          },
          "metadata": {}
        },
        {
          "output_type": "display_data",
          "data": {
            "text/plain": [
              "FloatProgress(value=0.0, bar_style='info', description='Progress:', layout=Layout(height='25px', width='50%'),…"
            ],
            "application/vnd.jupyter.widget-view+json": {
              "version_major": 2,
              "version_minor": 0,
              "model_id": "7567a76e531946bfba71bfdbe09ced44"
            }
          },
          "metadata": {}
        }
      ],
      "source": [
        "# Transfer plotting_sdf to Colab environment for plotting purposes\n",
        "%spark -o plotting_data_sdf -n 25000"
      ]
    },
    {
      "cell_type": "code",
      "execution_count": null,
      "metadata": {
        "colab": {
          "base_uri": "https://localhost:8080/",
          "height": 17,
          "referenced_widgets": [
            "1fe20a09f4fd4970b4ca3dab6b9fbfac",
            "d2ac26717ba640498387822a728c4f90",
            "5979ab885e9541c99f9eb6a5d6758df3",
            "8fb63fc1d8d7426c82a1ed9c3f37b718",
            "97fb7222295c499f9766a7dba2e9679c",
            "1e918c60b2c646f09725934d81fa44ab"
          ]
        },
        "id": "HDt4alPNdB-x",
        "outputId": "610235af-8557-46bb-c116-02b4c183ec8c"
      },
      "outputs": [
        {
          "output_type": "display_data",
          "data": {
            "text/plain": [
              "FloatProgress(value=0.0, bar_style='info', description='Progress:', layout=Layout(height='25px', width='50%'),…"
            ],
            "application/vnd.jupyter.widget-view+json": {
              "version_major": 2,
              "version_minor": 0,
              "model_id": "1fe20a09f4fd4970b4ca3dab6b9fbfac"
            }
          },
          "metadata": {}
        },
        {
          "output_type": "display_data",
          "data": {
            "text/plain": [
              "FloatProgress(value=0.0, bar_style='info', description='Progress:', layout=Layout(height='25px', width='50%'),…"
            ],
            "application/vnd.jupyter.widget-view+json": {
              "version_major": 2,
              "version_minor": 0,
              "model_id": "8fb63fc1d8d7426c82a1ed9c3f37b718"
            }
          },
          "metadata": {}
        }
      ],
      "source": [
        "# Transfer default_sdf to Colab environment for plotting purposes\n",
        "%spark -o plot_default_sdf -n 25000"
      ]
    },
    {
      "cell_type": "markdown",
      "source": [
        "## **Part 2.2:** Summary Statistics"
      ],
      "metadata": {
        "id": "nPpYs23QkDOm"
      }
    },
    {
      "cell_type": "code",
      "execution_count": null,
      "metadata": {
        "id": "AcmE4toJ2btS",
        "colab": {
          "base_uri": "https://localhost:8080/",
          "height": 367
        },
        "outputId": "0f51ac75-1a4d-4d37-e789-20b8916329a1"
      },
      "outputs": [
        {
          "output_type": "execute_result",
          "data": {
            "text/plain": [
              "                 id            rn  pre_since_opened  pre_since_confirmed  \\\n",
              "count  2.500000e+04  25000.000000      25000.000000         25000.000000   \n",
              "mean   1.542122e+06      6.981840          9.386760             8.191520   \n",
              "std    8.710274e+05      5.336974          5.775177             4.719556   \n",
              "min    2.100000e+01      1.000000          0.000000             0.000000   \n",
              "25%    7.836010e+05      3.000000          4.000000             4.000000   \n",
              "50%    1.567020e+06      6.000000          9.000000             9.000000   \n",
              "75%    2.304534e+06     10.000000         14.000000            12.000000   \n",
              "max    2.999782e+06     37.000000         19.000000            17.000000   \n",
              "\n",
              "          pre_pterm     pre_fterm  pre_till_pclose  pre_till_fclose  \\\n",
              "count  25000.000000  25000.000000     25000.000000      25000.00000   \n",
              "mean       8.361360      8.348680         7.192520          8.36640   \n",
              "std        5.306003      4.495784         5.138376          4.23373   \n",
              "min        0.000000      0.000000         0.000000          0.00000   \n",
              "25%        4.000000      6.000000         2.000000          5.00000   \n",
              "50%        8.000000      8.000000         7.000000         10.00000   \n",
              "75%       14.000000     12.000000        12.000000         11.00000   \n",
              "max       17.000000     16.000000        16.000000         15.00000   \n",
              "\n",
              "       pre_loans_credit_limit  pre_loans_next_pay_summ  ...  \\\n",
              "count            25000.000000             25000.000000  ...   \n",
              "mean                 9.645000                 2.358240  ...   \n",
              "std                  5.803813                 1.291716  ...   \n",
              "min                  0.000000                 0.000000  ...   \n",
              "25%                  5.000000                 2.000000  ...   \n",
              "50%                 10.000000                 2.000000  ...   \n",
              "75%                 14.000000                 2.000000  ...   \n",
              "max                 19.000000                 6.000000  ...   \n",
              "\n",
              "       enc_loans_credit_status-3  enc_loans_credit_status-4  \\\n",
              "count               25000.000000               25000.000000   \n",
              "mean                    0.676240                   0.007440   \n",
              "std                     0.467919                   0.085936   \n",
              "min                     0.000000                   0.000000   \n",
              "25%                     0.000000                   0.000000   \n",
              "50%                     1.000000                   0.000000   \n",
              "75%                     1.000000                   0.000000   \n",
              "max                     1.000000                   1.000000   \n",
              "\n",
              "       enc_loans_credit_status-5  enc_loans_credit_status-6  \\\n",
              "count               25000.000000               25000.000000   \n",
              "mean                    0.002960                   0.000120   \n",
              "std                     0.054326                   0.010954   \n",
              "min                     0.000000                   0.000000   \n",
              "25%                     0.000000                   0.000000   \n",
              "50%                     0.000000                   0.000000   \n",
              "75%                     0.000000                   0.000000   \n",
              "max                     1.000000                   1.000000   \n",
              "\n",
              "       enc_loans_credit_type-0  enc_loans_credit_type-1  \\\n",
              "count             25000.000000             25000.000000   \n",
              "mean                  0.028080                 0.035160   \n",
              "std                   0.165205                 0.184188   \n",
              "min                   0.000000                 0.000000   \n",
              "25%                   0.000000                 0.000000   \n",
              "50%                   0.000000                 0.000000   \n",
              "75%                   0.000000                 0.000000   \n",
              "max                   1.000000                 1.000000   \n",
              "\n",
              "       enc_loans_credit_type-2  enc_loans_credit_type-3  \\\n",
              "count             25000.000000             25000.000000   \n",
              "mean                  0.023200                 0.293800   \n",
              "std                   0.150541                 0.455511   \n",
              "min                   0.000000                 0.000000   \n",
              "25%                   0.000000                 0.000000   \n",
              "50%                   0.000000                 0.000000   \n",
              "75%                   0.000000                 1.000000   \n",
              "max                   1.000000                 1.000000   \n",
              "\n",
              "       enc_loans_credit_type-4  enc_loans_credit_type-5  \n",
              "count             25000.000000             25000.000000  \n",
              "mean                  0.565560                 0.041200  \n",
              "std                   0.495693                 0.198756  \n",
              "min                   0.000000                 0.000000  \n",
              "25%                   0.000000                 0.000000  \n",
              "50%                   1.000000                 0.000000  \n",
              "75%                   1.000000                 0.000000  \n",
              "max                   1.000000                 1.000000  \n",
              "\n",
              "[8 rows x 80 columns]"
            ],
            "text/html": [
              "\n",
              "  <div id=\"df-efe0c068-de59-4a69-88e2-7205c9e2ddc7\" class=\"colab-df-container\">\n",
              "    <div>\n",
              "<style scoped>\n",
              "    .dataframe tbody tr th:only-of-type {\n",
              "        vertical-align: middle;\n",
              "    }\n",
              "\n",
              "    .dataframe tbody tr th {\n",
              "        vertical-align: top;\n",
              "    }\n",
              "\n",
              "    .dataframe thead th {\n",
              "        text-align: right;\n",
              "    }\n",
              "</style>\n",
              "<table border=\"1\" class=\"dataframe\">\n",
              "  <thead>\n",
              "    <tr style=\"text-align: right;\">\n",
              "      <th></th>\n",
              "      <th>id</th>\n",
              "      <th>rn</th>\n",
              "      <th>pre_since_opened</th>\n",
              "      <th>pre_since_confirmed</th>\n",
              "      <th>pre_pterm</th>\n",
              "      <th>pre_fterm</th>\n",
              "      <th>pre_till_pclose</th>\n",
              "      <th>pre_till_fclose</th>\n",
              "      <th>pre_loans_credit_limit</th>\n",
              "      <th>pre_loans_next_pay_summ</th>\n",
              "      <th>...</th>\n",
              "      <th>enc_loans_credit_status-3</th>\n",
              "      <th>enc_loans_credit_status-4</th>\n",
              "      <th>enc_loans_credit_status-5</th>\n",
              "      <th>enc_loans_credit_status-6</th>\n",
              "      <th>enc_loans_credit_type-0</th>\n",
              "      <th>enc_loans_credit_type-1</th>\n",
              "      <th>enc_loans_credit_type-2</th>\n",
              "      <th>enc_loans_credit_type-3</th>\n",
              "      <th>enc_loans_credit_type-4</th>\n",
              "      <th>enc_loans_credit_type-5</th>\n",
              "    </tr>\n",
              "  </thead>\n",
              "  <tbody>\n",
              "    <tr>\n",
              "      <th>count</th>\n",
              "      <td>2.500000e+04</td>\n",
              "      <td>25000.000000</td>\n",
              "      <td>25000.000000</td>\n",
              "      <td>25000.000000</td>\n",
              "      <td>25000.000000</td>\n",
              "      <td>25000.000000</td>\n",
              "      <td>25000.000000</td>\n",
              "      <td>25000.00000</td>\n",
              "      <td>25000.000000</td>\n",
              "      <td>25000.000000</td>\n",
              "      <td>...</td>\n",
              "      <td>25000.000000</td>\n",
              "      <td>25000.000000</td>\n",
              "      <td>25000.000000</td>\n",
              "      <td>25000.000000</td>\n",
              "      <td>25000.000000</td>\n",
              "      <td>25000.000000</td>\n",
              "      <td>25000.000000</td>\n",
              "      <td>25000.000000</td>\n",
              "      <td>25000.000000</td>\n",
              "      <td>25000.000000</td>\n",
              "    </tr>\n",
              "    <tr>\n",
              "      <th>mean</th>\n",
              "      <td>1.542122e+06</td>\n",
              "      <td>6.981840</td>\n",
              "      <td>9.386760</td>\n",
              "      <td>8.191520</td>\n",
              "      <td>8.361360</td>\n",
              "      <td>8.348680</td>\n",
              "      <td>7.192520</td>\n",
              "      <td>8.36640</td>\n",
              "      <td>9.645000</td>\n",
              "      <td>2.358240</td>\n",
              "      <td>...</td>\n",
              "      <td>0.676240</td>\n",
              "      <td>0.007440</td>\n",
              "      <td>0.002960</td>\n",
              "      <td>0.000120</td>\n",
              "      <td>0.028080</td>\n",
              "      <td>0.035160</td>\n",
              "      <td>0.023200</td>\n",
              "      <td>0.293800</td>\n",
              "      <td>0.565560</td>\n",
              "      <td>0.041200</td>\n",
              "    </tr>\n",
              "    <tr>\n",
              "      <th>std</th>\n",
              "      <td>8.710274e+05</td>\n",
              "      <td>5.336974</td>\n",
              "      <td>5.775177</td>\n",
              "      <td>4.719556</td>\n",
              "      <td>5.306003</td>\n",
              "      <td>4.495784</td>\n",
              "      <td>5.138376</td>\n",
              "      <td>4.23373</td>\n",
              "      <td>5.803813</td>\n",
              "      <td>1.291716</td>\n",
              "      <td>...</td>\n",
              "      <td>0.467919</td>\n",
              "      <td>0.085936</td>\n",
              "      <td>0.054326</td>\n",
              "      <td>0.010954</td>\n",
              "      <td>0.165205</td>\n",
              "      <td>0.184188</td>\n",
              "      <td>0.150541</td>\n",
              "      <td>0.455511</td>\n",
              "      <td>0.495693</td>\n",
              "      <td>0.198756</td>\n",
              "    </tr>\n",
              "    <tr>\n",
              "      <th>min</th>\n",
              "      <td>2.100000e+01</td>\n",
              "      <td>1.000000</td>\n",
              "      <td>0.000000</td>\n",
              "      <td>0.000000</td>\n",
              "      <td>0.000000</td>\n",
              "      <td>0.000000</td>\n",
              "      <td>0.000000</td>\n",
              "      <td>0.00000</td>\n",
              "      <td>0.000000</td>\n",
              "      <td>0.000000</td>\n",
              "      <td>...</td>\n",
              "      <td>0.000000</td>\n",
              "      <td>0.000000</td>\n",
              "      <td>0.000000</td>\n",
              "      <td>0.000000</td>\n",
              "      <td>0.000000</td>\n",
              "      <td>0.000000</td>\n",
              "      <td>0.000000</td>\n",
              "      <td>0.000000</td>\n",
              "      <td>0.000000</td>\n",
              "      <td>0.000000</td>\n",
              "    </tr>\n",
              "    <tr>\n",
              "      <th>25%</th>\n",
              "      <td>7.836010e+05</td>\n",
              "      <td>3.000000</td>\n",
              "      <td>4.000000</td>\n",
              "      <td>4.000000</td>\n",
              "      <td>4.000000</td>\n",
              "      <td>6.000000</td>\n",
              "      <td>2.000000</td>\n",
              "      <td>5.00000</td>\n",
              "      <td>5.000000</td>\n",
              "      <td>2.000000</td>\n",
              "      <td>...</td>\n",
              "      <td>0.000000</td>\n",
              "      <td>0.000000</td>\n",
              "      <td>0.000000</td>\n",
              "      <td>0.000000</td>\n",
              "      <td>0.000000</td>\n",
              "      <td>0.000000</td>\n",
              "      <td>0.000000</td>\n",
              "      <td>0.000000</td>\n",
              "      <td>0.000000</td>\n",
              "      <td>0.000000</td>\n",
              "    </tr>\n",
              "    <tr>\n",
              "      <th>50%</th>\n",
              "      <td>1.567020e+06</td>\n",
              "      <td>6.000000</td>\n",
              "      <td>9.000000</td>\n",
              "      <td>9.000000</td>\n",
              "      <td>8.000000</td>\n",
              "      <td>8.000000</td>\n",
              "      <td>7.000000</td>\n",
              "      <td>10.00000</td>\n",
              "      <td>10.000000</td>\n",
              "      <td>2.000000</td>\n",
              "      <td>...</td>\n",
              "      <td>1.000000</td>\n",
              "      <td>0.000000</td>\n",
              "      <td>0.000000</td>\n",
              "      <td>0.000000</td>\n",
              "      <td>0.000000</td>\n",
              "      <td>0.000000</td>\n",
              "      <td>0.000000</td>\n",
              "      <td>0.000000</td>\n",
              "      <td>1.000000</td>\n",
              "      <td>0.000000</td>\n",
              "    </tr>\n",
              "    <tr>\n",
              "      <th>75%</th>\n",
              "      <td>2.304534e+06</td>\n",
              "      <td>10.000000</td>\n",
              "      <td>14.000000</td>\n",
              "      <td>12.000000</td>\n",
              "      <td>14.000000</td>\n",
              "      <td>12.000000</td>\n",
              "      <td>12.000000</td>\n",
              "      <td>11.00000</td>\n",
              "      <td>14.000000</td>\n",
              "      <td>2.000000</td>\n",
              "      <td>...</td>\n",
              "      <td>1.000000</td>\n",
              "      <td>0.000000</td>\n",
              "      <td>0.000000</td>\n",
              "      <td>0.000000</td>\n",
              "      <td>0.000000</td>\n",
              "      <td>0.000000</td>\n",
              "      <td>0.000000</td>\n",
              "      <td>1.000000</td>\n",
              "      <td>1.000000</td>\n",
              "      <td>0.000000</td>\n",
              "    </tr>\n",
              "    <tr>\n",
              "      <th>max</th>\n",
              "      <td>2.999782e+06</td>\n",
              "      <td>37.000000</td>\n",
              "      <td>19.000000</td>\n",
              "      <td>17.000000</td>\n",
              "      <td>17.000000</td>\n",
              "      <td>16.000000</td>\n",
              "      <td>16.000000</td>\n",
              "      <td>15.00000</td>\n",
              "      <td>19.000000</td>\n",
              "      <td>6.000000</td>\n",
              "      <td>...</td>\n",
              "      <td>1.000000</td>\n",
              "      <td>1.000000</td>\n",
              "      <td>1.000000</td>\n",
              "      <td>1.000000</td>\n",
              "      <td>1.000000</td>\n",
              "      <td>1.000000</td>\n",
              "      <td>1.000000</td>\n",
              "      <td>1.000000</td>\n",
              "      <td>1.000000</td>\n",
              "      <td>1.000000</td>\n",
              "    </tr>\n",
              "  </tbody>\n",
              "</table>\n",
              "<p>8 rows × 80 columns</p>\n",
              "</div>\n",
              "    <div class=\"colab-df-buttons\">\n",
              "\n",
              "  <div class=\"colab-df-container\">\n",
              "    <button class=\"colab-df-convert\" onclick=\"convertToInteractive('df-efe0c068-de59-4a69-88e2-7205c9e2ddc7')\"\n",
              "            title=\"Convert this dataframe to an interactive table.\"\n",
              "            style=\"display:none;\">\n",
              "\n",
              "  <svg xmlns=\"http://www.w3.org/2000/svg\" height=\"24px\" viewBox=\"0 -960 960 960\">\n",
              "    <path d=\"M120-120v-720h720v720H120Zm60-500h600v-160H180v160Zm220 220h160v-160H400v160Zm0 220h160v-160H400v160ZM180-400h160v-160H180v160Zm440 0h160v-160H620v160ZM180-180h160v-160H180v160Zm440 0h160v-160H620v160Z\"/>\n",
              "  </svg>\n",
              "    </button>\n",
              "\n",
              "  <style>\n",
              "    .colab-df-container {\n",
              "      display:flex;\n",
              "      gap: 12px;\n",
              "    }\n",
              "\n",
              "    .colab-df-convert {\n",
              "      background-color: #E8F0FE;\n",
              "      border: none;\n",
              "      border-radius: 50%;\n",
              "      cursor: pointer;\n",
              "      display: none;\n",
              "      fill: #1967D2;\n",
              "      height: 32px;\n",
              "      padding: 0 0 0 0;\n",
              "      width: 32px;\n",
              "    }\n",
              "\n",
              "    .colab-df-convert:hover {\n",
              "      background-color: #E2EBFA;\n",
              "      box-shadow: 0px 1px 2px rgba(60, 64, 67, 0.3), 0px 1px 3px 1px rgba(60, 64, 67, 0.15);\n",
              "      fill: #174EA6;\n",
              "    }\n",
              "\n",
              "    .colab-df-buttons div {\n",
              "      margin-bottom: 4px;\n",
              "    }\n",
              "\n",
              "    [theme=dark] .colab-df-convert {\n",
              "      background-color: #3B4455;\n",
              "      fill: #D2E3FC;\n",
              "    }\n",
              "\n",
              "    [theme=dark] .colab-df-convert:hover {\n",
              "      background-color: #434B5C;\n",
              "      box-shadow: 0px 1px 3px 1px rgba(0, 0, 0, 0.15);\n",
              "      filter: drop-shadow(0px 1px 2px rgba(0, 0, 0, 0.3));\n",
              "      fill: #FFFFFF;\n",
              "    }\n",
              "  </style>\n",
              "\n",
              "    <script>\n",
              "      const buttonEl =\n",
              "        document.querySelector('#df-efe0c068-de59-4a69-88e2-7205c9e2ddc7 button.colab-df-convert');\n",
              "      buttonEl.style.display =\n",
              "        google.colab.kernel.accessAllowed ? 'block' : 'none';\n",
              "\n",
              "      async function convertToInteractive(key) {\n",
              "        const element = document.querySelector('#df-efe0c068-de59-4a69-88e2-7205c9e2ddc7');\n",
              "        const dataTable =\n",
              "          await google.colab.kernel.invokeFunction('convertToInteractive',\n",
              "                                                    [key], {});\n",
              "        if (!dataTable) return;\n",
              "\n",
              "        const docLinkHtml = 'Like what you see? Visit the ' +\n",
              "          '<a target=\"_blank\" href=https://colab.research.google.com/notebooks/data_table.ipynb>data table notebook</a>'\n",
              "          + ' to learn more about interactive tables.';\n",
              "        element.innerHTML = '';\n",
              "        dataTable['output_type'] = 'display_data';\n",
              "        await google.colab.output.renderOutput(dataTable, element);\n",
              "        const docLink = document.createElement('div');\n",
              "        docLink.innerHTML = docLinkHtml;\n",
              "        element.appendChild(docLink);\n",
              "      }\n",
              "    </script>\n",
              "  </div>\n",
              "\n",
              "\n",
              "<div id=\"df-3b13cc7a-4595-48f5-bcd7-f4ff44a0757c\">\n",
              "  <button class=\"colab-df-quickchart\" onclick=\"quickchart('df-3b13cc7a-4595-48f5-bcd7-f4ff44a0757c')\"\n",
              "            title=\"Suggest charts\"\n",
              "            style=\"display:none;\">\n",
              "\n",
              "<svg xmlns=\"http://www.w3.org/2000/svg\" height=\"24px\"viewBox=\"0 0 24 24\"\n",
              "     width=\"24px\">\n",
              "    <g>\n",
              "        <path d=\"M19 3H5c-1.1 0-2 .9-2 2v14c0 1.1.9 2 2 2h14c1.1 0 2-.9 2-2V5c0-1.1-.9-2-2-2zM9 17H7v-7h2v7zm4 0h-2V7h2v10zm4 0h-2v-4h2v4z\"/>\n",
              "    </g>\n",
              "</svg>\n",
              "  </button>\n",
              "\n",
              "<style>\n",
              "  .colab-df-quickchart {\n",
              "      --bg-color: #E8F0FE;\n",
              "      --fill-color: #1967D2;\n",
              "      --hover-bg-color: #E2EBFA;\n",
              "      --hover-fill-color: #174EA6;\n",
              "      --disabled-fill-color: #AAA;\n",
              "      --disabled-bg-color: #DDD;\n",
              "  }\n",
              "\n",
              "  [theme=dark] .colab-df-quickchart {\n",
              "      --bg-color: #3B4455;\n",
              "      --fill-color: #D2E3FC;\n",
              "      --hover-bg-color: #434B5C;\n",
              "      --hover-fill-color: #FFFFFF;\n",
              "      --disabled-bg-color: #3B4455;\n",
              "      --disabled-fill-color: #666;\n",
              "  }\n",
              "\n",
              "  .colab-df-quickchart {\n",
              "    background-color: var(--bg-color);\n",
              "    border: none;\n",
              "    border-radius: 50%;\n",
              "    cursor: pointer;\n",
              "    display: none;\n",
              "    fill: var(--fill-color);\n",
              "    height: 32px;\n",
              "    padding: 0;\n",
              "    width: 32px;\n",
              "  }\n",
              "\n",
              "  .colab-df-quickchart:hover {\n",
              "    background-color: var(--hover-bg-color);\n",
              "    box-shadow: 0 1px 2px rgba(60, 64, 67, 0.3), 0 1px 3px 1px rgba(60, 64, 67, 0.15);\n",
              "    fill: var(--button-hover-fill-color);\n",
              "  }\n",
              "\n",
              "  .colab-df-quickchart-complete:disabled,\n",
              "  .colab-df-quickchart-complete:disabled:hover {\n",
              "    background-color: var(--disabled-bg-color);\n",
              "    fill: var(--disabled-fill-color);\n",
              "    box-shadow: none;\n",
              "  }\n",
              "\n",
              "  .colab-df-spinner {\n",
              "    border: 2px solid var(--fill-color);\n",
              "    border-color: transparent;\n",
              "    border-bottom-color: var(--fill-color);\n",
              "    animation:\n",
              "      spin 1s steps(1) infinite;\n",
              "  }\n",
              "\n",
              "  @keyframes spin {\n",
              "    0% {\n",
              "      border-color: transparent;\n",
              "      border-bottom-color: var(--fill-color);\n",
              "      border-left-color: var(--fill-color);\n",
              "    }\n",
              "    20% {\n",
              "      border-color: transparent;\n",
              "      border-left-color: var(--fill-color);\n",
              "      border-top-color: var(--fill-color);\n",
              "    }\n",
              "    30% {\n",
              "      border-color: transparent;\n",
              "      border-left-color: var(--fill-color);\n",
              "      border-top-color: var(--fill-color);\n",
              "      border-right-color: var(--fill-color);\n",
              "    }\n",
              "    40% {\n",
              "      border-color: transparent;\n",
              "      border-right-color: var(--fill-color);\n",
              "      border-top-color: var(--fill-color);\n",
              "    }\n",
              "    60% {\n",
              "      border-color: transparent;\n",
              "      border-right-color: var(--fill-color);\n",
              "    }\n",
              "    80% {\n",
              "      border-color: transparent;\n",
              "      border-right-color: var(--fill-color);\n",
              "      border-bottom-color: var(--fill-color);\n",
              "    }\n",
              "    90% {\n",
              "      border-color: transparent;\n",
              "      border-bottom-color: var(--fill-color);\n",
              "    }\n",
              "  }\n",
              "</style>\n",
              "\n",
              "  <script>\n",
              "    async function quickchart(key) {\n",
              "      const quickchartButtonEl =\n",
              "        document.querySelector('#' + key + ' button');\n",
              "      quickchartButtonEl.disabled = true;  // To prevent multiple clicks.\n",
              "      quickchartButtonEl.classList.add('colab-df-spinner');\n",
              "      try {\n",
              "        const charts = await google.colab.kernel.invokeFunction(\n",
              "            'suggestCharts', [key], {});\n",
              "      } catch (error) {\n",
              "        console.error('Error during call to suggestCharts:', error);\n",
              "      }\n",
              "      quickchartButtonEl.classList.remove('colab-df-spinner');\n",
              "      quickchartButtonEl.classList.add('colab-df-quickchart-complete');\n",
              "    }\n",
              "    (() => {\n",
              "      let quickchartButtonEl =\n",
              "        document.querySelector('#df-3b13cc7a-4595-48f5-bcd7-f4ff44a0757c button');\n",
              "      quickchartButtonEl.style.display =\n",
              "        google.colab.kernel.accessAllowed ? 'block' : 'none';\n",
              "    })();\n",
              "  </script>\n",
              "</div>\n",
              "    </div>\n",
              "  </div>\n"
            ]
          },
          "metadata": {},
          "execution_count": 27
        }
      ],
      "source": [
        "# Observe summary of random data, but too many parameters so hard to interpret\n",
        "plotting_data_sdf.describe()"
      ]
    },
    {
      "cell_type": "code",
      "execution_count": null,
      "metadata": {
        "colab": {
          "base_uri": "https://localhost:8080/",
          "height": 367
        },
        "id": "2DFF9d_uRriB",
        "outputId": "ecc044f8-e178-4acd-d434-f478609a48d1"
      },
      "outputs": [
        {
          "output_type": "execute_result",
          "data": {
            "text/plain": [
              "                 id            rn  pre_since_opened  pre_since_confirmed  \\\n",
              "count  2.416700e+04  24167.000000      24167.000000         24167.000000   \n",
              "mean   1.539772e+06      6.973642          9.376878             8.196797   \n",
              "std    8.727200e+05      5.323819          5.776426             4.721579   \n",
              "min    2.100000e+01      1.000000          0.000000             0.000000   \n",
              "25%    7.776460e+05      3.000000          4.000000             4.000000   \n",
              "50%    1.564447e+06      6.000000          9.000000             9.000000   \n",
              "75%    2.304648e+06     10.000000         14.000000            12.000000   \n",
              "max    2.999782e+06     37.000000         19.000000            17.000000   \n",
              "\n",
              "          pre_pterm     pre_fterm  pre_till_pclose  pre_till_fclose  \\\n",
              "count  24167.000000  24167.000000     24167.000000     24167.000000   \n",
              "mean       8.357843      8.358878         7.188935         8.358050   \n",
              "std        5.307133      4.505417         5.139450         4.232606   \n",
              "min        0.000000      0.000000         0.000000         0.000000   \n",
              "25%        4.000000      6.000000         2.000000         5.000000   \n",
              "50%        8.000000      8.000000         7.000000        10.000000   \n",
              "75%       13.000000     12.000000        12.000000        11.000000   \n",
              "max       17.000000     16.000000        16.000000        15.000000   \n",
              "\n",
              "       pre_loans_credit_limit  pre_loans_next_pay_summ  ...  \\\n",
              "count            24167.000000             24167.000000  ...   \n",
              "mean                 9.631729                 2.358712  ...   \n",
              "std                  5.802996                 1.292927  ...   \n",
              "min                  0.000000                 0.000000  ...   \n",
              "25%                  5.000000                 2.000000  ...   \n",
              "50%                 10.000000                 2.000000  ...   \n",
              "75%                 14.000000                 2.000000  ...   \n",
              "max                 19.000000                 6.000000  ...   \n",
              "\n",
              "       enc_loans_credit_status-3  enc_loans_credit_status-4  \\\n",
              "count               24167.000000               24167.000000   \n",
              "mean                    0.676956                   0.007448   \n",
              "std                     0.467649                   0.085983   \n",
              "min                     0.000000                   0.000000   \n",
              "25%                     0.000000                   0.000000   \n",
              "50%                     1.000000                   0.000000   \n",
              "75%                     1.000000                   0.000000   \n",
              "max                     1.000000                   1.000000   \n",
              "\n",
              "       enc_loans_credit_status-5  enc_loans_credit_status-6  \\\n",
              "count               24167.000000               24167.000000   \n",
              "mean                    0.002772                   0.000124   \n",
              "std                     0.052581                   0.011141   \n",
              "min                     0.000000                   0.000000   \n",
              "25%                     0.000000                   0.000000   \n",
              "50%                     0.000000                   0.000000   \n",
              "75%                     0.000000                   0.000000   \n",
              "max                     1.000000                   1.000000   \n",
              "\n",
              "       enc_loans_credit_type-0  enc_loans_credit_type-1  \\\n",
              "count             24167.000000             24167.000000   \n",
              "mean                  0.028469                 0.035420   \n",
              "std                   0.166311                 0.184843   \n",
              "min                   0.000000                 0.000000   \n",
              "25%                   0.000000                 0.000000   \n",
              "50%                   0.000000                 0.000000   \n",
              "75%                   0.000000                 0.000000   \n",
              "max                   1.000000                 1.000000   \n",
              "\n",
              "       enc_loans_credit_type-2  enc_loans_credit_type-3  \\\n",
              "count             24167.000000             24167.000000   \n",
              "mean                  0.023751                 0.294161   \n",
              "std                   0.152277                 0.455674   \n",
              "min                   0.000000                 0.000000   \n",
              "25%                   0.000000                 0.000000   \n",
              "50%                   0.000000                 0.000000   \n",
              "75%                   0.000000                 1.000000   \n",
              "max                   1.000000                 1.000000   \n",
              "\n",
              "       enc_loans_credit_type-4  enc_loans_credit_type-5  \n",
              "count             24167.000000             24167.000000  \n",
              "mean                  0.565399                 0.039765  \n",
              "std                   0.495715                 0.195411  \n",
              "min                   0.000000                 0.000000  \n",
              "25%                   0.000000                 0.000000  \n",
              "50%                   1.000000                 0.000000  \n",
              "75%                   1.000000                 0.000000  \n",
              "max                   1.000000                 1.000000  \n",
              "\n",
              "[8 rows x 80 columns]"
            ],
            "text/html": [
              "\n",
              "  <div id=\"df-0dd4be87-88e1-4127-8f51-ba3c92938a16\" class=\"colab-df-container\">\n",
              "    <div>\n",
              "<style scoped>\n",
              "    .dataframe tbody tr th:only-of-type {\n",
              "        vertical-align: middle;\n",
              "    }\n",
              "\n",
              "    .dataframe tbody tr th {\n",
              "        vertical-align: top;\n",
              "    }\n",
              "\n",
              "    .dataframe thead th {\n",
              "        text-align: right;\n",
              "    }\n",
              "</style>\n",
              "<table border=\"1\" class=\"dataframe\">\n",
              "  <thead>\n",
              "    <tr style=\"text-align: right;\">\n",
              "      <th></th>\n",
              "      <th>id</th>\n",
              "      <th>rn</th>\n",
              "      <th>pre_since_opened</th>\n",
              "      <th>pre_since_confirmed</th>\n",
              "      <th>pre_pterm</th>\n",
              "      <th>pre_fterm</th>\n",
              "      <th>pre_till_pclose</th>\n",
              "      <th>pre_till_fclose</th>\n",
              "      <th>pre_loans_credit_limit</th>\n",
              "      <th>pre_loans_next_pay_summ</th>\n",
              "      <th>...</th>\n",
              "      <th>enc_loans_credit_status-3</th>\n",
              "      <th>enc_loans_credit_status-4</th>\n",
              "      <th>enc_loans_credit_status-5</th>\n",
              "      <th>enc_loans_credit_status-6</th>\n",
              "      <th>enc_loans_credit_type-0</th>\n",
              "      <th>enc_loans_credit_type-1</th>\n",
              "      <th>enc_loans_credit_type-2</th>\n",
              "      <th>enc_loans_credit_type-3</th>\n",
              "      <th>enc_loans_credit_type-4</th>\n",
              "      <th>enc_loans_credit_type-5</th>\n",
              "    </tr>\n",
              "  </thead>\n",
              "  <tbody>\n",
              "    <tr>\n",
              "      <th>count</th>\n",
              "      <td>2.416700e+04</td>\n",
              "      <td>24167.000000</td>\n",
              "      <td>24167.000000</td>\n",
              "      <td>24167.000000</td>\n",
              "      <td>24167.000000</td>\n",
              "      <td>24167.000000</td>\n",
              "      <td>24167.000000</td>\n",
              "      <td>24167.000000</td>\n",
              "      <td>24167.000000</td>\n",
              "      <td>24167.000000</td>\n",
              "      <td>...</td>\n",
              "      <td>24167.000000</td>\n",
              "      <td>24167.000000</td>\n",
              "      <td>24167.000000</td>\n",
              "      <td>24167.000000</td>\n",
              "      <td>24167.000000</td>\n",
              "      <td>24167.000000</td>\n",
              "      <td>24167.000000</td>\n",
              "      <td>24167.000000</td>\n",
              "      <td>24167.000000</td>\n",
              "      <td>24167.000000</td>\n",
              "    </tr>\n",
              "    <tr>\n",
              "      <th>mean</th>\n",
              "      <td>1.539772e+06</td>\n",
              "      <td>6.973642</td>\n",
              "      <td>9.376878</td>\n",
              "      <td>8.196797</td>\n",
              "      <td>8.357843</td>\n",
              "      <td>8.358878</td>\n",
              "      <td>7.188935</td>\n",
              "      <td>8.358050</td>\n",
              "      <td>9.631729</td>\n",
              "      <td>2.358712</td>\n",
              "      <td>...</td>\n",
              "      <td>0.676956</td>\n",
              "      <td>0.007448</td>\n",
              "      <td>0.002772</td>\n",
              "      <td>0.000124</td>\n",
              "      <td>0.028469</td>\n",
              "      <td>0.035420</td>\n",
              "      <td>0.023751</td>\n",
              "      <td>0.294161</td>\n",
              "      <td>0.565399</td>\n",
              "      <td>0.039765</td>\n",
              "    </tr>\n",
              "    <tr>\n",
              "      <th>std</th>\n",
              "      <td>8.727200e+05</td>\n",
              "      <td>5.323819</td>\n",
              "      <td>5.776426</td>\n",
              "      <td>4.721579</td>\n",
              "      <td>5.307133</td>\n",
              "      <td>4.505417</td>\n",
              "      <td>5.139450</td>\n",
              "      <td>4.232606</td>\n",
              "      <td>5.802996</td>\n",
              "      <td>1.292927</td>\n",
              "      <td>...</td>\n",
              "      <td>0.467649</td>\n",
              "      <td>0.085983</td>\n",
              "      <td>0.052581</td>\n",
              "      <td>0.011141</td>\n",
              "      <td>0.166311</td>\n",
              "      <td>0.184843</td>\n",
              "      <td>0.152277</td>\n",
              "      <td>0.455674</td>\n",
              "      <td>0.495715</td>\n",
              "      <td>0.195411</td>\n",
              "    </tr>\n",
              "    <tr>\n",
              "      <th>min</th>\n",
              "      <td>2.100000e+01</td>\n",
              "      <td>1.000000</td>\n",
              "      <td>0.000000</td>\n",
              "      <td>0.000000</td>\n",
              "      <td>0.000000</td>\n",
              "      <td>0.000000</td>\n",
              "      <td>0.000000</td>\n",
              "      <td>0.000000</td>\n",
              "      <td>0.000000</td>\n",
              "      <td>0.000000</td>\n",
              "      <td>...</td>\n",
              "      <td>0.000000</td>\n",
              "      <td>0.000000</td>\n",
              "      <td>0.000000</td>\n",
              "      <td>0.000000</td>\n",
              "      <td>0.000000</td>\n",
              "      <td>0.000000</td>\n",
              "      <td>0.000000</td>\n",
              "      <td>0.000000</td>\n",
              "      <td>0.000000</td>\n",
              "      <td>0.000000</td>\n",
              "    </tr>\n",
              "    <tr>\n",
              "      <th>25%</th>\n",
              "      <td>7.776460e+05</td>\n",
              "      <td>3.000000</td>\n",
              "      <td>4.000000</td>\n",
              "      <td>4.000000</td>\n",
              "      <td>4.000000</td>\n",
              "      <td>6.000000</td>\n",
              "      <td>2.000000</td>\n",
              "      <td>5.000000</td>\n",
              "      <td>5.000000</td>\n",
              "      <td>2.000000</td>\n",
              "      <td>...</td>\n",
              "      <td>0.000000</td>\n",
              "      <td>0.000000</td>\n",
              "      <td>0.000000</td>\n",
              "      <td>0.000000</td>\n",
              "      <td>0.000000</td>\n",
              "      <td>0.000000</td>\n",
              "      <td>0.000000</td>\n",
              "      <td>0.000000</td>\n",
              "      <td>0.000000</td>\n",
              "      <td>0.000000</td>\n",
              "    </tr>\n",
              "    <tr>\n",
              "      <th>50%</th>\n",
              "      <td>1.564447e+06</td>\n",
              "      <td>6.000000</td>\n",
              "      <td>9.000000</td>\n",
              "      <td>9.000000</td>\n",
              "      <td>8.000000</td>\n",
              "      <td>8.000000</td>\n",
              "      <td>7.000000</td>\n",
              "      <td>10.000000</td>\n",
              "      <td>10.000000</td>\n",
              "      <td>2.000000</td>\n",
              "      <td>...</td>\n",
              "      <td>1.000000</td>\n",
              "      <td>0.000000</td>\n",
              "      <td>0.000000</td>\n",
              "      <td>0.000000</td>\n",
              "      <td>0.000000</td>\n",
              "      <td>0.000000</td>\n",
              "      <td>0.000000</td>\n",
              "      <td>0.000000</td>\n",
              "      <td>1.000000</td>\n",
              "      <td>0.000000</td>\n",
              "    </tr>\n",
              "    <tr>\n",
              "      <th>75%</th>\n",
              "      <td>2.304648e+06</td>\n",
              "      <td>10.000000</td>\n",
              "      <td>14.000000</td>\n",
              "      <td>12.000000</td>\n",
              "      <td>13.000000</td>\n",
              "      <td>12.000000</td>\n",
              "      <td>12.000000</td>\n",
              "      <td>11.000000</td>\n",
              "      <td>14.000000</td>\n",
              "      <td>2.000000</td>\n",
              "      <td>...</td>\n",
              "      <td>1.000000</td>\n",
              "      <td>0.000000</td>\n",
              "      <td>0.000000</td>\n",
              "      <td>0.000000</td>\n",
              "      <td>0.000000</td>\n",
              "      <td>0.000000</td>\n",
              "      <td>0.000000</td>\n",
              "      <td>1.000000</td>\n",
              "      <td>1.000000</td>\n",
              "      <td>0.000000</td>\n",
              "    </tr>\n",
              "    <tr>\n",
              "      <th>max</th>\n",
              "      <td>2.999782e+06</td>\n",
              "      <td>37.000000</td>\n",
              "      <td>19.000000</td>\n",
              "      <td>17.000000</td>\n",
              "      <td>17.000000</td>\n",
              "      <td>16.000000</td>\n",
              "      <td>16.000000</td>\n",
              "      <td>15.000000</td>\n",
              "      <td>19.000000</td>\n",
              "      <td>6.000000</td>\n",
              "      <td>...</td>\n",
              "      <td>1.000000</td>\n",
              "      <td>1.000000</td>\n",
              "      <td>1.000000</td>\n",
              "      <td>1.000000</td>\n",
              "      <td>1.000000</td>\n",
              "      <td>1.000000</td>\n",
              "      <td>1.000000</td>\n",
              "      <td>1.000000</td>\n",
              "      <td>1.000000</td>\n",
              "      <td>1.000000</td>\n",
              "    </tr>\n",
              "  </tbody>\n",
              "</table>\n",
              "<p>8 rows × 80 columns</p>\n",
              "</div>\n",
              "    <div class=\"colab-df-buttons\">\n",
              "\n",
              "  <div class=\"colab-df-container\">\n",
              "    <button class=\"colab-df-convert\" onclick=\"convertToInteractive('df-0dd4be87-88e1-4127-8f51-ba3c92938a16')\"\n",
              "            title=\"Convert this dataframe to an interactive table.\"\n",
              "            style=\"display:none;\">\n",
              "\n",
              "  <svg xmlns=\"http://www.w3.org/2000/svg\" height=\"24px\" viewBox=\"0 -960 960 960\">\n",
              "    <path d=\"M120-120v-720h720v720H120Zm60-500h600v-160H180v160Zm220 220h160v-160H400v160Zm0 220h160v-160H400v160ZM180-400h160v-160H180v160Zm440 0h160v-160H620v160ZM180-180h160v-160H180v160Zm440 0h160v-160H620v160Z\"/>\n",
              "  </svg>\n",
              "    </button>\n",
              "\n",
              "  <style>\n",
              "    .colab-df-container {\n",
              "      display:flex;\n",
              "      gap: 12px;\n",
              "    }\n",
              "\n",
              "    .colab-df-convert {\n",
              "      background-color: #E8F0FE;\n",
              "      border: none;\n",
              "      border-radius: 50%;\n",
              "      cursor: pointer;\n",
              "      display: none;\n",
              "      fill: #1967D2;\n",
              "      height: 32px;\n",
              "      padding: 0 0 0 0;\n",
              "      width: 32px;\n",
              "    }\n",
              "\n",
              "    .colab-df-convert:hover {\n",
              "      background-color: #E2EBFA;\n",
              "      box-shadow: 0px 1px 2px rgba(60, 64, 67, 0.3), 0px 1px 3px 1px rgba(60, 64, 67, 0.15);\n",
              "      fill: #174EA6;\n",
              "    }\n",
              "\n",
              "    .colab-df-buttons div {\n",
              "      margin-bottom: 4px;\n",
              "    }\n",
              "\n",
              "    [theme=dark] .colab-df-convert {\n",
              "      background-color: #3B4455;\n",
              "      fill: #D2E3FC;\n",
              "    }\n",
              "\n",
              "    [theme=dark] .colab-df-convert:hover {\n",
              "      background-color: #434B5C;\n",
              "      box-shadow: 0px 1px 3px 1px rgba(0, 0, 0, 0.15);\n",
              "      filter: drop-shadow(0px 1px 2px rgba(0, 0, 0, 0.3));\n",
              "      fill: #FFFFFF;\n",
              "    }\n",
              "  </style>\n",
              "\n",
              "    <script>\n",
              "      const buttonEl =\n",
              "        document.querySelector('#df-0dd4be87-88e1-4127-8f51-ba3c92938a16 button.colab-df-convert');\n",
              "      buttonEl.style.display =\n",
              "        google.colab.kernel.accessAllowed ? 'block' : 'none';\n",
              "\n",
              "      async function convertToInteractive(key) {\n",
              "        const element = document.querySelector('#df-0dd4be87-88e1-4127-8f51-ba3c92938a16');\n",
              "        const dataTable =\n",
              "          await google.colab.kernel.invokeFunction('convertToInteractive',\n",
              "                                                    [key], {});\n",
              "        if (!dataTable) return;\n",
              "\n",
              "        const docLinkHtml = 'Like what you see? Visit the ' +\n",
              "          '<a target=\"_blank\" href=https://colab.research.google.com/notebooks/data_table.ipynb>data table notebook</a>'\n",
              "          + ' to learn more about interactive tables.';\n",
              "        element.innerHTML = '';\n",
              "        dataTable['output_type'] = 'display_data';\n",
              "        await google.colab.output.renderOutput(dataTable, element);\n",
              "        const docLink = document.createElement('div');\n",
              "        docLink.innerHTML = docLinkHtml;\n",
              "        element.appendChild(docLink);\n",
              "      }\n",
              "    </script>\n",
              "  </div>\n",
              "\n",
              "\n",
              "<div id=\"df-f4c1a005-803e-4354-9af0-b1f1ce9afab8\">\n",
              "  <button class=\"colab-df-quickchart\" onclick=\"quickchart('df-f4c1a005-803e-4354-9af0-b1f1ce9afab8')\"\n",
              "            title=\"Suggest charts\"\n",
              "            style=\"display:none;\">\n",
              "\n",
              "<svg xmlns=\"http://www.w3.org/2000/svg\" height=\"24px\"viewBox=\"0 0 24 24\"\n",
              "     width=\"24px\">\n",
              "    <g>\n",
              "        <path d=\"M19 3H5c-1.1 0-2 .9-2 2v14c0 1.1.9 2 2 2h14c1.1 0 2-.9 2-2V5c0-1.1-.9-2-2-2zM9 17H7v-7h2v7zm4 0h-2V7h2v10zm4 0h-2v-4h2v4z\"/>\n",
              "    </g>\n",
              "</svg>\n",
              "  </button>\n",
              "\n",
              "<style>\n",
              "  .colab-df-quickchart {\n",
              "      --bg-color: #E8F0FE;\n",
              "      --fill-color: #1967D2;\n",
              "      --hover-bg-color: #E2EBFA;\n",
              "      --hover-fill-color: #174EA6;\n",
              "      --disabled-fill-color: #AAA;\n",
              "      --disabled-bg-color: #DDD;\n",
              "  }\n",
              "\n",
              "  [theme=dark] .colab-df-quickchart {\n",
              "      --bg-color: #3B4455;\n",
              "      --fill-color: #D2E3FC;\n",
              "      --hover-bg-color: #434B5C;\n",
              "      --hover-fill-color: #FFFFFF;\n",
              "      --disabled-bg-color: #3B4455;\n",
              "      --disabled-fill-color: #666;\n",
              "  }\n",
              "\n",
              "  .colab-df-quickchart {\n",
              "    background-color: var(--bg-color);\n",
              "    border: none;\n",
              "    border-radius: 50%;\n",
              "    cursor: pointer;\n",
              "    display: none;\n",
              "    fill: var(--fill-color);\n",
              "    height: 32px;\n",
              "    padding: 0;\n",
              "    width: 32px;\n",
              "  }\n",
              "\n",
              "  .colab-df-quickchart:hover {\n",
              "    background-color: var(--hover-bg-color);\n",
              "    box-shadow: 0 1px 2px rgba(60, 64, 67, 0.3), 0 1px 3px 1px rgba(60, 64, 67, 0.15);\n",
              "    fill: var(--button-hover-fill-color);\n",
              "  }\n",
              "\n",
              "  .colab-df-quickchart-complete:disabled,\n",
              "  .colab-df-quickchart-complete:disabled:hover {\n",
              "    background-color: var(--disabled-bg-color);\n",
              "    fill: var(--disabled-fill-color);\n",
              "    box-shadow: none;\n",
              "  }\n",
              "\n",
              "  .colab-df-spinner {\n",
              "    border: 2px solid var(--fill-color);\n",
              "    border-color: transparent;\n",
              "    border-bottom-color: var(--fill-color);\n",
              "    animation:\n",
              "      spin 1s steps(1) infinite;\n",
              "  }\n",
              "\n",
              "  @keyframes spin {\n",
              "    0% {\n",
              "      border-color: transparent;\n",
              "      border-bottom-color: var(--fill-color);\n",
              "      border-left-color: var(--fill-color);\n",
              "    }\n",
              "    20% {\n",
              "      border-color: transparent;\n",
              "      border-left-color: var(--fill-color);\n",
              "      border-top-color: var(--fill-color);\n",
              "    }\n",
              "    30% {\n",
              "      border-color: transparent;\n",
              "      border-left-color: var(--fill-color);\n",
              "      border-top-color: var(--fill-color);\n",
              "      border-right-color: var(--fill-color);\n",
              "    }\n",
              "    40% {\n",
              "      border-color: transparent;\n",
              "      border-right-color: var(--fill-color);\n",
              "      border-top-color: var(--fill-color);\n",
              "    }\n",
              "    60% {\n",
              "      border-color: transparent;\n",
              "      border-right-color: var(--fill-color);\n",
              "    }\n",
              "    80% {\n",
              "      border-color: transparent;\n",
              "      border-right-color: var(--fill-color);\n",
              "      border-bottom-color: var(--fill-color);\n",
              "    }\n",
              "    90% {\n",
              "      border-color: transparent;\n",
              "      border-bottom-color: var(--fill-color);\n",
              "    }\n",
              "  }\n",
              "</style>\n",
              "\n",
              "  <script>\n",
              "    async function quickchart(key) {\n",
              "      const quickchartButtonEl =\n",
              "        document.querySelector('#' + key + ' button');\n",
              "      quickchartButtonEl.disabled = true;  // To prevent multiple clicks.\n",
              "      quickchartButtonEl.classList.add('colab-df-spinner');\n",
              "      try {\n",
              "        const charts = await google.colab.kernel.invokeFunction(\n",
              "            'suggestCharts', [key], {});\n",
              "      } catch (error) {\n",
              "        console.error('Error during call to suggestCharts:', error);\n",
              "      }\n",
              "      quickchartButtonEl.classList.remove('colab-df-spinner');\n",
              "      quickchartButtonEl.classList.add('colab-df-quickchart-complete');\n",
              "    }\n",
              "    (() => {\n",
              "      let quickchartButtonEl =\n",
              "        document.querySelector('#df-f4c1a005-803e-4354-9af0-b1f1ce9afab8 button');\n",
              "      quickchartButtonEl.style.display =\n",
              "        google.colab.kernel.accessAllowed ? 'block' : 'none';\n",
              "    })();\n",
              "  </script>\n",
              "</div>\n",
              "    </div>\n",
              "  </div>\n"
            ]
          },
          "metadata": {},
          "execution_count": 28
        }
      ],
      "source": [
        "# Observe summary of defaulted data, but too many parameters so hard to interpret\n",
        "plot_default_sdf.describe()"
      ]
    },
    {
      "cell_type": "markdown",
      "source": [
        "## **Part 2.3:** Visualizations"
      ],
      "metadata": {
        "id": "lxOFRUJrkHt1"
      }
    },
    {
      "cell_type": "markdown",
      "source": [
        "### **Part 2.3.1:** Class Imbalance"
      ],
      "metadata": {
        "id": "5_CXOtoxkSHl"
      }
    },
    {
      "cell_type": "code",
      "source": [
        "# Create pie chart to visualize class imbalance\n",
        "labels = 'Default', 'Non-default'\n",
        "count_default = len(random_data_sdf[random_data_sdf['flag'] == 1])\n",
        "count_non_default = len(random_data_sdf[random_data_sdf['flag'] == 0])\n",
        "sections = [count_default, count_non_default]\n",
        "colors = ['g','y']\n",
        "\n",
        "plt.pie(sections, labels=labels, colors=colors,\n",
        "        startangle=180,\n",
        "        explode = (0, 0.1),\n",
        "        autopct = '%1.2f%%')\n",
        "\n",
        "plt.axis('equal')\n",
        "plt.title('Proportion of Default vs. Non-Default Cases in Random Sample')\n",
        "plt.show()\n",
        "# Overall shows dataset is heavily imbalanced, with much less default cases"
      ],
      "metadata": {
        "colab": {
          "base_uri": "https://localhost:8080/",
          "height": 428
        },
        "id": "Cf4LxdLPdQ2W",
        "outputId": "4b8fddc9-81e2-4c6c-94d2-503d9848d19e"
      },
      "execution_count": null,
      "outputs": [
        {
          "output_type": "display_data",
          "data": {
            "text/plain": [
              "<Figure size 640x480 with 1 Axes>"
            ],
            "image/png": "[encoded data removed]"
          },
          "metadata": {}
        }
      ]
    },
    {
      "cell_type": "markdown",
      "source": [
        "### **Part 2.3.2:** Distribution of Credit Limit"
      ],
      "metadata": {
        "id": "FcMJtmYTkZ8x"
      }
    },
    {
      "cell_type": "code",
      "execution_count": null,
      "metadata": {
        "colab": {
          "base_uri": "https://localhost:8080/",
          "height": 490
        },
        "id": "QMz2gRZG4aC9",
        "outputId": "b9c4e7eb-5e0d-403a-9e0c-42fc34e9c926"
      },
      "outputs": [
        {
          "output_type": "execute_result",
          "data": {
            "text/plain": [
              "<matplotlib.legend.Legend at 0x7e44bdd01780>"
            ]
          },
          "metadata": {},
          "execution_count": 57
        },
        {
          "output_type": "display_data",
          "data": {
            "text/plain": [
              "<Figure size 640x480 with 1 Axes>"
            ],
            "image/png": "[encoded data removed]"
          },
          "metadata": {}
        }
      ],
      "source": [
        "# Plot histogram of credit limits of the representative sample\n",
        "sns.histplot(data=plotting_data_sdf,\n",
        "             x='pre_loans_credit_limit',\n",
        "             hue='flag',\n",
        "             palette = 'husl',\n",
        "             alpha=0.5\n",
        "             )\n",
        "plt.title('Distribution of Credit Limits for Bank Loans')\n",
        "plt.xlabel('Credit Limit')\n",
        "plt.xticks(np.arange(0, 21, 1))\n",
        "plt.legend(title='Default Status', labels=['default', 'nondefault'])\n",
        "\n",
        "# Based on the plot, it's shown that most lendees do not default on their loans\n",
        "# Fairly even distribution of defaulted loans based on credit limits, but the scale is so small that it's indeterminate from this plot alone"
      ]
    },
    {
      "cell_type": "code",
      "execution_count": null,
      "metadata": {
        "colab": {
          "base_uri": "https://localhost:8080/",
          "height": 525
        },
        "id": "nvRWp_HLC5kB",
        "outputId": "5b984842-1ca5-41b4-f0c2-e38acbb759da"
      },
      "outputs": [
        {
          "output_type": "stream",
          "name": "stderr",
          "text": [
            "<ipython-input-58-a41f18859f28>:2: UserWarning: Ignoring `palette` because no `hue` variable has been assigned.\n",
            "  sns.histplot(data=plot_default_sdf,\n"
          ]
        },
        {
          "output_type": "execute_result",
          "data": {
            "text/plain": [
              "Text(0.5, 0, 'Credit Limit')"
            ]
          },
          "metadata": {},
          "execution_count": 58
        },
        {
          "output_type": "display_data",
          "data": {
            "text/plain": [
              "<Figure size 640x480 with 1 Axes>"
            ],
            "image/png": "[encoded data removed]"
          },
          "metadata": {}
        }
      ],
      "source": [
        "# Plot histogram of credit limits of defaulted loans\n",
        "sns.histplot(data=plot_default_sdf,\n",
        "             x='pre_loans_credit_limit',\n",
        "             palette = 'husl',\n",
        "             alpha=0.5\n",
        "             )\n",
        "plt.title('Distribution of Credit Limits for Defaulted Bank Loans')\n",
        "plt.xlabel('Credit Limit')\n",
        "# Distribution of credit limits for defaulted loans roughly mirrors those of non defaulted loans,\n",
        "# though there is a slightly higher incidence of loans with higher credit limits that default"
      ]
    },
    {
      "cell_type": "markdown",
      "source": [
        "### **Part 2.3.3:** Distribution of Credit Costs"
      ],
      "metadata": {
        "id": "m2HOVs5skiGz"
      }
    },
    {
      "cell_type": "code",
      "source": [
        "# Plot histogram of credit costs for all loans\n",
        "sns.histplot(data=plotting_data_sdf,\n",
        "             x='pre_loans_credit_cost_rate',\n",
        "             hue='flag',\n",
        "             palette = 'husl',\n",
        "             alpha=0.5\n",
        "             )\n",
        "plt.title('Distribution of Total Credit Costs for All Bank Loans')\n",
        "plt.xlabel('Credit Costs')\n",
        "plt.xticks(np.arange(0, 14, 1))\n",
        "plt.legend(title='Default Status', labels=['default', 'nondefault'])\n",
        "plt.show()\n",
        "# Overall shows that most loans have costs of 2 or 4, with default loans having similar distributions.\n",
        "# However, hard to see distribution of defaulted loans"
      ],
      "metadata": {
        "id": "SGEiY0FEvgrg",
        "colab": {
          "base_uri": "https://localhost:8080/",
          "height": 490
        },
        "outputId": "bc00c060-3c8e-4c77-9347-9243a9fa8450"
      },
      "execution_count": null,
      "outputs": [
        {
          "output_type": "execute_result",
          "data": {
            "text/plain": [
              "<matplotlib.legend.Legend at 0x7e44cae33e80>"
            ]
          },
          "metadata": {},
          "execution_count": 59
        },
        {
          "output_type": "display_data",
          "data": {
            "text/plain": [
              "<Figure size 640x480 with 1 Axes>"
            ],
            "image/png": "[encoded data removed]"
          },
          "metadata": {}
        }
      ]
    },
    {
      "cell_type": "code",
      "execution_count": null,
      "metadata": {
        "id": "PLexCRfbDWc7",
        "colab": {
          "base_uri": "https://localhost:8080/",
          "height": 507
        },
        "outputId": "f6b5c764-4140-4b09-c94a-e198c938cb98"
      },
      "outputs": [
        {
          "output_type": "stream",
          "name": "stderr",
          "text": [
            "<ipython-input-66-35dda391d7bd>:1: UserWarning: Ignoring `palette` because no `hue` variable has been assigned.\n",
            "  sns.histplot(data=plot_default_sdf,\n"
          ]
        },
        {
          "output_type": "display_data",
          "data": {
            "text/plain": [
              "<Figure size 640x480 with 1 Axes>"
            ],
            "image/png": "[encoded data removed]"
          },
          "metadata": {}
        }
      ],
      "source": [
        "# Plot histogram of credit costs for defaulted loans\n",
        "sns.histplot(data=plot_default_sdf,\n",
        "             x='pre_loans_credit_cost_rate',\n",
        "             palette = 'husl',\n",
        "             alpha=0.5\n",
        "             )\n",
        "plt.title('Distribution of Total Credit Costs for Defaulted Bank Loans')\n",
        "plt.xlabel('Credit Costs')\n",
        "plt.xticks(np.arange(0, 14, 1))\n",
        "plt.show()\n",
        "# Overall defaulted loans seem to have a similar distribution, so the cost of credit\n",
        "# may be an unreliable factor in credit costs"
      ]
    },
    {
      "cell_type": "markdown",
      "source": [
        "### **Part 2.3.4:** PCA"
      ],
      "metadata": {
        "id": "ozvb8vUak8gw"
      }
    },
    {
      "cell_type": "code",
      "execution_count": null,
      "metadata": {
        "id": "Ikh5pRL_3-TA",
        "colab": {
          "base_uri": "https://localhost:8080/",
          "height": 17,
          "referenced_widgets": [
            "df9847ed8b7a427db95d019620bc96c9",
            "da82c632e1394edabe14669916be7d96",
            "9d634235240c44efa8d39bc1fdbb7d66"
          ]
        },
        "outputId": "ec4deceb-cffa-4390-c6ad-40d5c9c2e7ba"
      },
      "outputs": [
        {
          "output_type": "display_data",
          "data": {
            "text/plain": [
              "FloatProgress(value=0.0, bar_style='info', description='Progress:', layout=Layout(height='25px', width='50%'),…"
            ],
            "application/vnd.jupyter.widget-view+json": {
              "version_major": 2,
              "version_minor": 0,
              "model_id": "df9847ed8b7a427db95d019620bc96c9"
            }
          },
          "metadata": {}
        }
      ],
      "source": [
        "%%spark\n",
        "# Use PCA to attempt to reduce the dimensions of the data w/ k=50 to visualize cumulative variance of PC's\n",
        "pca = PCA(k=50, inputCol='features_scaled', outputCol='features_pca').fit(scaled_train_sdf)"
      ]
    },
    {
      "cell_type": "code",
      "execution_count": null,
      "metadata": {
        "id": "pUkESxeNtqXT",
        "colab": {
          "base_uri": "https://localhost:8080/",
          "height": 17,
          "referenced_widgets": [
            "9241f0f0bddb4f908b597e47b36d90be",
            "f61b3619a4b24d2abc5350bd2d6ccd92",
            "d49a31769581455ab6de9fa9e9fd82f6"
          ]
        },
        "outputId": "b748708c-945a-402b-ad08-b4eaa59a0e56"
      },
      "outputs": [
        {
          "output_type": "display_data",
          "data": {
            "text/plain": [
              "FloatProgress(value=0.0, bar_style='info', description='Progress:', layout=Layout(height='25px', width='50%'),…"
            ],
            "application/vnd.jupyter.widget-view+json": {
              "version_major": 2,
              "version_minor": 0,
              "model_id": "9241f0f0bddb4f908b597e47b36d90be"
            }
          },
          "metadata": {}
        }
      ],
      "source": [
        "%%spark\n",
        "# Extract cumulative variance of pca PC's and add to Spark Dataframe\n",
        "pca_explained_variance = pca.explainedVariance.toArray().cumsum()\n",
        "schema = StructType([\n",
        "    StructField(\"cumulative_variance\",FloatType(),True)])\n",
        "cum_var = spark.createDataFrame(pca_explained_variance, schema=schema)"
      ]
    },
    {
      "cell_type": "code",
      "execution_count": null,
      "metadata": {
        "id": "oSQDv1GztHbK",
        "colab": {
          "base_uri": "https://localhost:8080/",
          "height": 17,
          "referenced_widgets": [
            "38dd3cc68a724f859ae78133f81adece",
            "f7d7a59cb14e4c78a51343e57db493b8",
            "93900d6cd4c040ee93a2d6de41a7cc46",
            "1caa17d48f9e4cd984f029f3fe62f1aa",
            "7b4873304eff4b98b684c4322bc8794f",
            "3053abd145434ab9a87b43eddef6a358"
          ]
        },
        "outputId": "3fa23886-ea8e-42d6-e5f9-211a40538b82"
      },
      "outputs": [
        {
          "output_type": "display_data",
          "data": {
            "text/plain": [
              "FloatProgress(value=0.0, bar_style='info', description='Progress:', layout=Layout(height='25px', width='50%'),…"
            ],
            "application/vnd.jupyter.widget-view+json": {
              "version_major": 2,
              "version_minor": 0,
              "model_id": "38dd3cc68a724f859ae78133f81adece"
            }
          },
          "metadata": {}
        },
        {
          "output_type": "display_data",
          "data": {
            "text/plain": [
              "FloatProgress(value=0.0, bar_style='info', description='Progress:', layout=Layout(height='25px', width='50%'),…"
            ],
            "application/vnd.jupyter.widget-view+json": {
              "version_major": 2,
              "version_minor": 0,
              "model_id": "1caa17d48f9e4cd984f029f3fe62f1aa"
            }
          },
          "metadata": {}
        }
      ],
      "source": [
        "# Transfer cumulative PCA variances to Colab env\n",
        "%spark -o cum_var"
      ]
    },
    {
      "cell_type": "code",
      "execution_count": null,
      "metadata": {
        "id": "rAvYBg7VuZOY",
        "colab": {
          "base_uri": "https://localhost:8080/",
          "height": 493
        },
        "outputId": "574afd2b-ee0e-4b3f-8e8e-cce72c871c75"
      },
      "outputs": [
        {
          "output_type": "display_data",
          "data": {
            "text/plain": [
              "<Figure size 640x480 with 1 Axes>"
            ],
            "image/png": "[encoded data removed]"
          },
          "metadata": {}
        },
        {
          "output_type": "display_data",
          "data": {
            "text/plain": [
              "<Figure size 1500x1000 with 0 Axes>"
            ]
          },
          "metadata": {}
        }
      ],
      "source": [
        "# Plot line chart of PCA cumulative explained variances\n",
        "num_comp = np.arange(1, len(cum_var) + 1)\n",
        "plt.plot(num_comp, cum_var)\n",
        "plt.axhline(y=0.8, color='r', )\n",
        "plt.xlabel('Number of Components')\n",
        "plt.xticks(num_comp, rotation=90)\n",
        "plt.ylabel('Cumulative Explained Variance Ratio')\n",
        "plt.title('Cumulative Explained Variance Ratio by PCA Components')\n",
        "plt.figure(figsize=(15,10))\n",
        "plt.show()\n",
        "# Able to hit 0.8 explained variance ratio by 27-28 PC's, informing us that we\n",
        "# only have to run PCA with k=28 to reduce the dimensions of the data."
      ]
    },
    {
      "cell_type": "code",
      "execution_count": null,
      "metadata": {
        "id": "gWUVXJdOrpRR",
        "colab": {
          "base_uri": "https://localhost:8080/",
          "height": 52,
          "referenced_widgets": [
            "606b136d06d54b0182c43de9a550cc20",
            "58f482a7411244a2af18b031e44ebdf0",
            "7b7ee6e061f84d28a6422eafe464f7a1"
          ]
        },
        "outputId": "8424647e-5688-42bd-fffd-c81e9317d1aa"
      },
      "outputs": [
        {
          "output_type": "display_data",
          "data": {
            "text/plain": [
              "FloatProgress(value=0.0, bar_style='info', description='Progress:', layout=Layout(height='25px', width='50%'),…"
            ],
            "application/vnd.jupyter.widget-view+json": {
              "version_major": 2,
              "version_minor": 0,
              "model_id": "606b136d06d54b0182c43de9a550cc20"
            }
          },
          "metadata": {}
        },
        {
          "output_type": "stream",
          "name": "stdout",
          "text": [
            "CPU times: user 2.33 s, sys: 278 ms, total: 2.61 s\n",
            "Wall time: 5min 57s\n"
          ]
        }
      ],
      "source": [
        "%%time\n",
        "%%spark\n",
        "# Create new PCA w/ k=28, fit on scaled_train_sdf and transform the train and test datasets\n",
        "pca_final = PCA(k=28, inputCol='features_scaled', outputCol='features_pca_new').fit(scaled_train_sdf)\n",
        "pca_train_sdf = pca_final.transform(scaled_train_sdf)\n",
        "pca_test_sdf = pca_final.transform(scaled_test_sdf)"
      ]
    },
    {
      "cell_type": "markdown",
      "metadata": {
        "id": "kZVOcnLomjWp"
      },
      "source": [
        "# Part 3: Modelling"
      ]
    },
    {
      "cell_type": "markdown",
      "metadata": {
        "id": "s-R21aXGFwfS"
      },
      "source": [
        "## **Part 3.1: Baseline Logistic Regression**"
      ]
    },
    {
      "cell_type": "code",
      "execution_count": null,
      "metadata": {
        "colab": {
          "base_uri": "https://localhost:8080/",
          "height": 52,
          "referenced_widgets": [
            "e3babca1f36b4b40833de1a02ca0bc32",
            "f9ad6e693bc448848f34b67aa42f736f",
            "002361f99bf84eda8657e5ae4ce2cea3"
          ]
        },
        "id": "NKMPEQ3hflMW",
        "outputId": "b3850882-6385-409a-a037-3a73a9a6336e"
      },
      "outputs": [
        {
          "output_type": "display_data",
          "data": {
            "text/plain": [
              "FloatProgress(value=0.0, bar_style='info', description='Progress:', layout=Layout(height='25px', width='50%'),…"
            ],
            "application/vnd.jupyter.widget-view+json": {
              "version_major": 2,
              "version_minor": 0,
              "model_id": "e3babca1f36b4b40833de1a02ca0bc32"
            }
          },
          "metadata": {}
        },
        {
          "output_type": "stream",
          "name": "stdout",
          "text": [
            "[0.9642810989635833, 0.09020968471866044]CPU times: user 2.57 s, sys: 335 ms, total: 2.9 s\n",
            "Wall time: 7min 3s\n"
          ]
        }
      ],
      "source": [
        "%%time\n",
        "%%spark\n",
        "# Initialize and fit baseline logreg model\n",
        "base_lr_model = LogisticRegression(featuresCol='features_scaled',\n",
        "                              labelCol='flag',\n",
        "                              family='multinomial',\n",
        "                              maxIter=5).fit(scaled_train_sdf)\n",
        "# Transform on test set and extract training recall\n",
        "test_pred_base = base_lr_model.transform(scaled_test_sdf)\n",
        "train_recall_base = base_lr_model.summary.recallByLabel\n",
        "print(train_recall_base)"
      ]
    },
    {
      "cell_type": "code",
      "execution_count": null,
      "metadata": {
        "colab": {
          "base_uri": "https://localhost:8080/",
          "height": 124,
          "referenced_widgets": [
            "1dd1445323344e6b9a7dbd71fbcfdb0e",
            "75204b1da00a4e2485a362e9d77e4d24",
            "1c609a9f41e24f8ab1d298f68b9d115d"
          ]
        },
        "id": "lvpF4U98xxup",
        "outputId": "0e26e088-08e0-4095-acd3-4657c9dc1e3e"
      },
      "outputs": [
        {
          "output_type": "display_data",
          "data": {
            "text/plain": [
              "FloatProgress(value=0.0, bar_style='info', description='Progress:', layout=Layout(height='25px', width='50%'),…"
            ],
            "application/vnd.jupyter.widget-view+json": {
              "version_major": 2,
              "version_minor": 0,
              "model_id": "1dd1445323344e6b9a7dbd71fbcfdb0e"
            }
          },
          "metadata": {}
        },
        {
          "output_type": "stream",
          "name": "stdout",
          "text": [
            "Recall for nondefault: 0.9640610775469668, Recall for default: 0.08777969018932874\n",
            "array([[46595.,  1737.],\n",
            "       [ 1590.,   153.]])\n",
            "/mnt/yarn/usercache/livy/appcache/application_1702326960159_0005/container_1702326960159_0005_01_000001/pyspark.zip/pyspark/sql/context.py:159: FutureWarning: Deprecated in 3.0.0. Use SparkSession.builder.getOrCreate() instead.CPU times: user 1.55 s, sys: 182 ms, total: 1.73 s\n",
            "Wall time: 4min 8s\n"
          ]
        }
      ],
      "source": [
        "%%time\n",
        "%%spark\n",
        "# Extract testing recall\n",
        "test_pred_base = test_pred_base.withColumn('flag', col('flag').cast(DoubleType()))\n",
        "mcm_base = MulticlassMetrics(test_pred_base.select('prediction', 'flag').rdd)\n",
        "print(\"Recall for nondefault: {}, Recall for default: {}\".format(mcm_base.recall(0.0), mcm_base.recall(1.0)))\n",
        "# Extract confusion matrix, which shows that we're getting a lot of false positives and false negatives\n",
        "mcm_base.confusionMatrix().toArray()"
      ]
    },
    {
      "cell_type": "markdown",
      "metadata": {
        "id": "HdN0QNQ-msJp"
      },
      "source": [
        "## **Part 3.2: PCA Log Reg**"
      ]
    },
    {
      "cell_type": "code",
      "execution_count": null,
      "metadata": {
        "id": "_nAqScjur89b",
        "colab": {
          "base_uri": "https://localhost:8080/",
          "height": 52,
          "referenced_widgets": [
            "c298c2aae5824b228fba927bab877629",
            "f833504a512044a79bfd6cccb93aabf7",
            "4c916e3a5f6e4102bb0ac9ce7ca461c7"
          ]
        },
        "outputId": "f494e222-cee0-4041-deb7-e47bc9732c8b"
      },
      "outputs": [
        {
          "output_type": "display_data",
          "data": {
            "text/plain": [
              "FloatProgress(value=0.0, bar_style='info', description='Progress:', layout=Layout(height='25px', width='50%'),…"
            ],
            "application/vnd.jupyter.widget-view+json": {
              "version_major": 2,
              "version_minor": 0,
              "model_id": "c298c2aae5824b228fba927bab877629"
            }
          },
          "metadata": {}
        },
        {
          "output_type": "stream",
          "name": "stdout",
          "text": [
            "[0.9644754661943953, 0.08674008146025042]CPU times: user 3.27 s, sys: 367 ms, total: 3.64 s\n",
            "Wall time: 8min 19s\n"
          ]
        }
      ],
      "source": [
        "%%time\n",
        "%%spark\n",
        "# Initialize and fit PCA logreg model\n",
        "pca_lr_model = LogisticRegression(featuresCol='features_pca_new',\n",
        "                              labelCol='flag',\n",
        "                              family='multinomial',\n",
        "                              maxIter=5).fit(pca_train_sdf)\n",
        "# Transform on test set and extract training recall\n",
        "test_pred_pca = pca_lr_model.transform(pca_test_sdf)\n",
        "train_recall_pca = pca_lr_model.summary.recallByLabel\n",
        "print(train_recall_pca)"
      ]
    },
    {
      "cell_type": "code",
      "execution_count": null,
      "metadata": {
        "id": "p6WtVDsAoHTs",
        "colab": {
          "base_uri": "https://localhost:8080/",
          "height": 137,
          "referenced_widgets": [
            "9577a9d43d2b4040b8b8bcc392dc6d97",
            "fb7d97958b4a4d1aac51dcebdb511455",
            "afd2ad8d673f4ba59aad951db26dca76"
          ]
        },
        "outputId": "e910e9fd-e5f6-4113-9738-c49a828b7e98"
      },
      "outputs": [
        {
          "output_type": "display_data",
          "data": {
            "text/plain": [
              "FloatProgress(value=0.0, bar_style='info', description='Progress:', layout=Layout(height='25px', width='50%'),…"
            ],
            "application/vnd.jupyter.widget-view+json": {
              "version_major": 2,
              "version_minor": 0,
              "model_id": "9577a9d43d2b4040b8b8bcc392dc6d97"
            }
          },
          "metadata": {}
        },
        {
          "output_type": "stream",
          "name": "stderr",
          "text": [
            "An error was encountered:\n",
            "Invalid status code '400' from http://ec2-100-25-144-41.compute-1.amazonaws.com/sessions/3/statements/20 with error payload: {\"msg\":\"requirement failed: Session isn't active.\"}\n"
          ]
        },
        {
          "output_type": "stream",
          "name": "stdout",
          "text": [
            "CPU times: user 1.42 s, sys: 165 ms, total: 1.58 s\n",
            "Wall time: 3min 39s\n"
          ]
        }
      ],
      "source": [
        "%%time\n",
        "%%spark\n",
        "# Extract testing recall\n",
        "test_pred_pca = test_pred_pca.withColumn('flag', col('flag').cast(DoubleType()))\n",
        "pca_mcm = MulticlassMetrics(test_pred_pca.select('prediction', 'flag').rdd)\n",
        "print(\"Recall for nondefault: {}, Recall for default: {}\".format(pca_mcm.recall(0.0), pca_mcm.recall(1.0)))\n",
        "# Extract confusion matrix, which shows that we're getting a lot of false positives and false negatives\n",
        "pca_mcm.confusionMatrix().toArray()"
      ]
    },
    {
      "cell_type": "markdown",
      "metadata": {
        "id": "vHuGsevzGCa8"
      },
      "source": [
        "## **Part 3.3: Regularized Logistic Regression**"
      ]
    },
    {
      "cell_type": "code",
      "execution_count": null,
      "metadata": {
        "colab": {
          "base_uri": "https://localhost:8080/",
          "height": 52,
          "referenced_widgets": [
            "a34b567c92234bdc918cae73990c4c86",
            "40438b0f06a049c88538377c23c4696d",
            "2cee63eb4f874899a577c17a44a3eef0"
          ]
        },
        "id": "lnL3qk1sHp0a",
        "outputId": "58755f26-710f-4e5a-e9c8-3835fd82df54"
      },
      "outputs": [
        {
          "output_type": "display_data",
          "data": {
            "text/plain": [
              "FloatProgress(value=0.0, bar_style='info', description='Progress:', layout=Layout(height='25px', width='50%'),…"
            ],
            "application/vnd.jupyter.widget-view+json": {
              "version_major": 2,
              "version_minor": 0,
              "model_id": "a34b567c92234bdc918cae73990c4c86"
            }
          },
          "metadata": {}
        },
        {
          "output_type": "stream",
          "name": "stdout",
          "text": [
            "CPU times: user 36.3 ms, sys: 4.15 ms, total: 40.4 ms\n",
            "Wall time: 1.78 s\n"
          ]
        }
      ],
      "source": [
        "%%time\n",
        "%%spark\n",
        "from sklearn.model_selection import ParameterGrid\n",
        "from pyspark.ml.evaluation import BinaryClassificationEvaluator\n",
        "from pyspark.ml.tuning import CrossValidator, ParamGridBuilder\n",
        "# Create parameter grid and iterator, establish variables for hyperparameter tuning\n",
        "pgrid = ParameterGrid({'regParam': [0.01, 0.1], 'elasticNetParam': [0.0, 0.5, 1.0]})\n",
        "\n",
        "evaluator = BinaryClassificationEvaluator(labelCol='flag')"
      ]
    },
    {
      "cell_type": "code",
      "execution_count": null,
      "metadata": {
        "colab": {
          "base_uri": "https://localhost:8080/",
          "height": 347,
          "referenced_widgets": [
            "75ce8e3e35744e0884566638a10aa865",
            "b6ed2f23b2e645b4808f9039e7f34886",
            "bb1ac99fda514a38acb18c5dc0eb1ad1"
          ]
        },
        "id": "fH-nZXpjo1HT",
        "outputId": "142ae28d-7e79-4464-9bd0-2eb8bebb77b3"
      },
      "outputs": [
        {
          "output_type": "display_data",
          "data": {
            "text/plain": [
              "FloatProgress(value=0.0, bar_style='info', description='Progress:', layout=Layout(height='25px', width='50%'),…"
            ],
            "application/vnd.jupyter.widget-view+json": {
              "version_major": 2,
              "version_minor": 0,
              "model_id": "75ce8e3e35744e0884566638a10aa865"
            }
          },
          "metadata": {}
        },
        {
          "output_type": "stream",
          "name": "stdout",
          "text": [
            "Run 0, parameter set is {'elasticNetParam': 0.0, 'regParam': 0.01}\n",
            "auc_pr: 0.4477078415908293\n",
            "Run 0, best parameter set is {'elasticNetParam': 0.0, 'regParam': 0.01}, auc-pr is 0.4477078415908293\n",
            "Run 1, parameter set is {'elasticNetParam': 0.0, 'regParam': 0.1}\n",
            "auc_pr: 0.4471348383756865\n",
            "Run 1, best parameter set is {'elasticNetParam': 0.0, 'regParam': 0.01}, auc-pr is 0.4477078415908293\n",
            "Run 2, parameter set is {'elasticNetParam': 0.5, 'regParam': 0.01}\n",
            "auc_pr: 0.4459294301548676\n",
            "Run 2, best parameter set is {'elasticNetParam': 0.0, 'regParam': 0.01}, auc-pr is 0.4477078415908293\n",
            "Run 3, parameter set is {'elasticNetParam': 0.5, 'regParam': 0.1}\n",
            "auc_pr: 0.3397992746900565\n",
            "Run 3, best parameter set is {'elasticNetParam': 0.0, 'regParam': 0.01}, auc-pr is 0.4477078415908293\n",
            "Run 4, parameter set is {'elasticNetParam': 1.0, 'regParam': 0.01}\n",
            "auc_pr: 0.44323529087467145\n",
            "Run 4, best parameter set is {'elasticNetParam': 0.0, 'regParam': 0.01}, auc-pr is 0.4477078415908293\n",
            "Run 5, parameter set is {'elasticNetParam': 1.0, 'regParam': 0.1}\n",
            "auc_pr: 0.3397992746900565\n",
            "Run 5, best parameter set is {'elasticNetParam': 0.0, 'regParam': 0.01}, auc-pr is 0.4477078415908293CPU times: user 16.3 s, sys: 1.98 s, total: 18.2 s\n",
            "Wall time: 42min 23s\n"
          ]
        }
      ],
      "source": [
        "%%time\n",
        "%%spark\n",
        "# Establish variables for hyperparameter tuning\n",
        "param_iter = iter(pgrid)\n",
        "best_param = {}\n",
        "best_param_eval = 0\n",
        "auc_pr_list = []\n",
        "# For-loop for hyperparameter tuning\n",
        "for i in range(6):\n",
        "  # Iterate parameter grid, print run info, initialize and train reg lr model\n",
        "  param = next(param_iter)\n",
        "  print(\"Run {}, parameter set is {}\".format(i, param))\n",
        "  reg_lr_model = LogisticRegression(featuresCol='val_features_scaled',\n",
        "                                labelCol='flag',\n",
        "                                family='multinomial',\n",
        "                                regParam=param['regParam'],\n",
        "                                elasticNetParam=param['elasticNetParam'],\n",
        "                                maxIter=5).fit(scaled_train_val_sdf)\n",
        "  # Predict based on validation set and extract area under precision-recall curve\n",
        "  val_pred = reg_lr_model.transform(scaled_val_sdf)\n",
        "  auc_pr = evaluator.evaluate(val_pred, {evaluator.metricName: \"areaUnderPR\"})\n",
        "  auc_pr_list.append(auc_pr)\n",
        "  print(\"auc_pr: {}\".format(auc_pr))\n",
        "  # Save latest parameters and auc_pr if better than previous runs\n",
        "  if auc_pr > best_param_eval:\n",
        "    best_param_eval = auc_pr\n",
        "    best_param = param\n",
        "\n",
        "  print(\"Run {}, best parameter set is {}, auc-pr is {}\".format(i, best_param, best_param_eval))"
      ]
    },
    {
      "cell_type": "code",
      "source": [
        "%%time\n",
        "%%spark\n",
        "# Initialize regularized logreg model with optimal hyperparameters from hyperparameter tuning and fit on training data\n",
        "best_reg_lr_model = LogisticRegression(featuresCol='val_features_scaled',\n",
        "                              labelCol='flag',\n",
        "                              family='multinomial',\n",
        "                              regParam=0.01,\n",
        "                              elasticNetParam=0.0,\n",
        "                              maxIter=8).fit(scaled_train_val_sdf)\n",
        "# Get predictions on test data using new best model\n",
        "best_reg_test_pred = best_reg_lr_model.transform(scaled_test_val_sdf)"
      ],
      "metadata": {
        "colab": {
          "base_uri": "https://localhost:8080/",
          "height": 52,
          "referenced_widgets": [
            "12d9ec98524645c1898b7e9d1132a118",
            "402dcad43ce74ef3ba1453695f18e17f",
            "8e05ba635305472ab02865bc0dc98ad7"
          ]
        },
        "id": "iQOIKcOi9bV3",
        "outputId": "c131368f-15bc-49ff-9e70-45593326a383"
      },
      "execution_count": null,
      "outputs": [
        {
          "output_type": "display_data",
          "data": {
            "text/plain": [
              "FloatProgress(value=0.0, bar_style='info', description='Progress:', layout=Layout(height='25px', width='50%'),…"
            ],
            "application/vnd.jupyter.widget-view+json": {
              "version_major": 2,
              "version_minor": 0,
              "model_id": "12d9ec98524645c1898b7e9d1132a118"
            }
          },
          "metadata": {}
        },
        {
          "output_type": "stream",
          "name": "stdout",
          "text": [
            "CPU times: user 1.91 s, sys: 242 ms, total: 2.15 s\n",
            "Wall time: 5min 12s\n"
          ]
        }
      ]
    },
    {
      "cell_type": "code",
      "source": [
        "%%time\n",
        "%%spark\n",
        "# Extract recall and confusion matrix from best model predictions\n",
        "best_reg_test_pred = best_reg_test_pred.withColumn('flag', col('flag').cast(DoubleType()))\n",
        "mcm_reg = MulticlassMetrics(best_reg_test_pred.select('prediction', 'flag').rdd)\n",
        "print(mcm_reg.confusionMatrix().toArray())\n",
        "mcm_reg.recall(1.0)"
      ],
      "metadata": {
        "colab": {
          "base_uri": "https://localhost:8080/",
          "height": 106,
          "referenced_widgets": [
            "ddda343ce3f74b18be192dec7f57e728",
            "b1fba276d34d48d19b465c0f6674844c",
            "98d70d677b5442ae8c05ed61967ab2e3"
          ]
        },
        "id": "DUO71z_Y9zVc",
        "outputId": "b950321c-3eaa-4012-a052-288c09988a65"
      },
      "execution_count": null,
      "outputs": [
        {
          "output_type": "display_data",
          "data": {
            "text/plain": [
              "FloatProgress(value=0.0, bar_style='info', description='Progress:', layout=Layout(height='25px', width='50%'),…"
            ],
            "application/vnd.jupyter.widget-view+json": {
              "version_major": 2,
              "version_minor": 0,
              "model_id": "ddda343ce3f74b18be192dec7f57e728"
            }
          },
          "metadata": {}
        },
        {
          "output_type": "stream",
          "name": "stdout",
          "text": [
            "[[46260.  2072.]\n",
            " [ 1558.   185.]]\n",
            "0.10613884107860011\n",
            "/mnt/yarn/usercache/livy/appcache/application_1702326960159_0002/container_1702326960159_0002_01_000001/pyspark.zip/pyspark/sql/context.py:159: FutureWarning: Deprecated in 3.0.0. Use SparkSession.builder.getOrCreate() instead."
          ]
        }
      ]
    },
    {
      "cell_type": "markdown",
      "metadata": {
        "id": "wXK4MLB8l6dL"
      },
      "source": [
        "## **Part 3.4: Random Forest**"
      ]
    },
    {
      "cell_type": "code",
      "execution_count": null,
      "metadata": {
        "colab": {
          "base_uri": "https://localhost:8080/",
          "height": 17,
          "referenced_widgets": [
            "1fe2222951914581935f66e8d00ea46d",
            "7daaedd000644d6597f0f145aebc6823",
            "a525d245d56c4fb7ae131b7f7c8649f3"
          ]
        },
        "id": "EcBfmkCOm4G0",
        "outputId": "a2095d99-ae58-44ac-c4ef-c38abafa5f27"
      },
      "outputs": [
        {
          "output_type": "display_data",
          "data": {
            "text/plain": [
              "FloatProgress(value=0.0, bar_style='info', description='Progress:', layout=Layout(height='25px', width='50%'),…"
            ],
            "application/vnd.jupyter.widget-view+json": {
              "version_major": 2,
              "version_minor": 0,
              "model_id": "1fe2222951914581935f66e8d00ea46d"
            }
          },
          "metadata": {}
        }
      ],
      "source": [
        "%%time\n",
        "%%spark\n",
        "from pyspark.ml.classification import RandomForestClassifier\n",
        "from pyspark.ml.evaluation import MulticlassClassificationEvaluator\n",
        "from pyspark.ml.feature import VectorAssembler\n",
        "from pyspark.ml.linalg import Vectors\n",
        "\n",
        "\n",
        "# Initialize and fit the Random Forest model\n",
        "randForest = RandomForestClassifier(labelCol=\"flag\", featuresCol=\"features_pca_new\", numTrees=50, maxDepth=5, seed=42)\n",
        "model = randForest.fit(pca_train_sdf)\n",
        "\n",
        "# Use the model to predict on the test set\n",
        "predictions = model.transform(pca_test_sdf)\n",
        "\n",
        "# Confusion Matrix\n",
        "conf_matrix = predictions.groupBy('flag', 'prediction').count().toPandas()\n",
        "conf_matrix_pivot = conf_matrix.pivot(index='flag', columns='prediction', values='count').fillna(0)"
      ]
    },
    {
      "cell_type": "code",
      "source": [
        "%%spark\n",
        "# Output the Confusion Matrix\n",
        "print(\"Confusion Matrix:\")\n",
        "print(conf_matrix_pivot)"
      ],
      "metadata": {
        "id": "MlOCAqTuK_Hr",
        "colab": {
          "base_uri": "https://localhost:8080/",
          "height": 106,
          "referenced_widgets": [
            "212ff1f003ff43debeaa5a2260d79fcf",
            "d08788e37c1e4edbbd2f82a921e153ce",
            "7e5fe7d2e8d84be89402eae6b8940033"
          ]
        },
        "outputId": "ae320040-4e0f-4c40-c47d-d40e84f9b6c1"
      },
      "execution_count": null,
      "outputs": [
        {
          "output_type": "display_data",
          "data": {
            "text/plain": [
              "FloatProgress(value=0.0, bar_style='info', description='Progress:', layout=Layout(height='25px', width='50%'),…"
            ],
            "application/vnd.jupyter.widget-view+json": {
              "version_major": 2,
              "version_minor": 0,
              "model_id": "212ff1f003ff43debeaa5a2260d79fcf"
            }
          },
          "metadata": {}
        },
        {
          "output_type": "stream",
          "name": "stdout",
          "text": [
            "Confusion Matrix:\n",
            "prediction    0.0  1.0\n",
            "flag                  \n",
            "0           47503  829\n",
            "1            1656   87"
          ]
        }
      ]
    },
    {
      "cell_type": "markdown",
      "source": [
        "# **Part 4:** Model Selection"
      ],
      "metadata": {
        "id": "iYg3rJyZlgGS"
      }
    },
    {
      "cell_type": "markdown",
      "source": [
        "Overall, linearized logistic regression after hyperparameter tuning outperformed all other models."
      ],
      "metadata": {
        "id": "MTRn6woplk_2"
      }
    }
  ],
  "metadata": {
    "colab": {
      "provenance": [],
      "include_colab_link": true
    },
    "kernelspec": {
      "display_name": "Python 3",
      "name": "python3"
    },
    "language_info": {
      "name": "python"
    },
    "widgets": {
      "application/vnd.jupyter.widget-state+json": {
        "7eafa761b42c41cf9647ef5f1eb188a8": {
          "model_module": "@jupyter-widgets/controls",
          "model_name": "FloatProgressModel",
          "model_module_version": "1.5.0",
          "state": {
            "_dom_classes": [],
            "_model_module": "@jupyter-widgets/controls",
            "_model_module_version": "1.5.0",
            "_model_name": "FloatProgressModel",
            "_view_count": null,
            "_view_module": "@jupyter-widgets/controls",
            "_view_module_version": "1.5.0",
            "_view_name": "ProgressView",
            "bar_style": "info",
            "description": "Progress:",
            "description_tooltip": null,
            "layout": "IPY_MODEL_feb9be2c3c844826a3ae957945139104",
            "max": 1,
            "min": 0,
            "orientation": "horizontal",
            "style": "IPY_MODEL_e5f5ebb63d524212a18e4c5d2731fb0f",
            "value": 0
          }
        },
        "feb9be2c3c844826a3ae957945139104": {
          "model_module": "@jupyter-widgets/base",
          "model_name": "LayoutModel",
          "model_module_version": "1.2.0",
          "state": {
            "_model_module": "@jupyter-widgets/base",
            "_model_module_version": "1.2.0",
            "_model_name": "LayoutModel",
            "_view_count": null,
            "_view_module": "@jupyter-widgets/base",
            "_view_module_version": "1.2.0",
            "_view_name": "LayoutView",
            "align_content": null,
            "align_items": null,
            "align_self": null,
            "border": null,
            "bottom": null,
            "display": null,
            "flex": null,
            "flex_flow": null,
            "grid_area": null,
            "grid_auto_columns": null,
            "grid_auto_flow": null,
            "grid_auto_rows": null,
            "grid_column": null,
            "grid_gap": null,
            "grid_row": null,
            "grid_template_areas": null,
            "grid_template_columns": null,
            "grid_template_rows": null,
            "height": "25px",
            "justify_content": null,
            "justify_items": null,
            "left": null,
            "margin": null,
            "max_height": null,
            "max_width": null,
            "min_height": null,
            "min_width": null,
            "object_fit": null,
            "object_position": null,
            "order": null,
            "overflow": null,
            "overflow_x": null,
            "overflow_y": null,
            "padding": null,
            "right": null,
            "top": null,
            "visibility": null,
            "width": "50%"
          }
        },
        "e5f5ebb63d524212a18e4c5d2731fb0f": {
          "model_module": "@jupyter-widgets/controls",
          "model_name": "ProgressStyleModel",
          "model_module_version": "1.5.0",
          "state": {
            "_model_module": "@jupyter-widgets/controls",
            "_model_module_version": "1.5.0",
            "_model_name": "ProgressStyleModel",
            "_view_count": null,
            "_view_module": "@jupyter-widgets/base",
            "_view_module_version": "1.2.0",
            "_view_name": "StyleView",
            "bar_color": null,
            "description_width": ""
          }
        },
        "c97e40783152495caea186fffee66396": {
          "model_module": "@jupyter-widgets/controls",
          "model_name": "FloatProgressModel",
          "model_module_version": "1.5.0",
          "state": {
            "_dom_classes": [],
            "_model_module": "@jupyter-widgets/controls",
            "_model_module_version": "1.5.0",
            "_model_name": "FloatProgressModel",
            "_view_count": null,
            "_view_module": "@jupyter-widgets/controls",
            "_view_module_version": "1.5.0",
            "_view_name": "ProgressView",
            "bar_style": "info",
            "description": "Progress:",
            "description_tooltip": null,
            "layout": "IPY_MODEL_14b715bcc84049378dc3df3efd7fc1a5",
            "max": 1,
            "min": 0,
            "orientation": "horizontal",
            "style": "IPY_MODEL_31e985bcc21a431ea6a6e006c00c4148",
            "value": 0.9141914191419142
          }
        },
        "14b715bcc84049378dc3df3efd7fc1a5": {
          "model_module": "@jupyter-widgets/base",
          "model_name": "LayoutModel",
          "model_module_version": "1.2.0",
          "state": {
            "_model_module": "@jupyter-widgets/base",
            "_model_module_version": "1.2.0",
            "_model_name": "LayoutModel",
            "_view_count": null,
            "_view_module": "@jupyter-widgets/base",
            "_view_module_version": "1.2.0",
            "_view_name": "LayoutView",
            "align_content": null,
            "align_items": null,
            "align_self": null,
            "border": null,
            "bottom": null,
            "display": null,
            "flex": null,
            "flex_flow": null,
            "grid_area": null,
            "grid_auto_columns": null,
            "grid_auto_flow": null,
            "grid_auto_rows": null,
            "grid_column": null,
            "grid_gap": null,
            "grid_row": null,
            "grid_template_areas": null,
            "grid_template_columns": null,
            "grid_template_rows": null,
            "height": "25px",
            "justify_content": null,
            "justify_items": null,
            "left": null,
            "margin": null,
            "max_height": null,
            "max_width": null,
            "min_height": null,
            "min_width": null,
            "object_fit": null,
            "object_position": null,
            "order": null,
            "overflow": null,
            "overflow_x": null,
            "overflow_y": null,
            "padding": null,
            "right": null,
            "top": null,
            "visibility": null,
            "width": "50%"
          }
        },
        "31e985bcc21a431ea6a6e006c00c4148": {
          "model_module": "@jupyter-widgets/controls",
          "model_name": "ProgressStyleModel",
          "model_module_version": "1.5.0",
          "state": {
            "_model_module": "@jupyter-widgets/controls",
            "_model_module_version": "1.5.0",
            "_model_name": "ProgressStyleModel",
            "_view_count": null,
            "_view_module": "@jupyter-widgets/base",
            "_view_module_version": "1.2.0",
            "_view_name": "StyleView",
            "bar_color": null,
            "description_width": ""
          }
        },
        "a34b567c92234bdc918cae73990c4c86": {
          "model_module": "@jupyter-widgets/controls",
          "model_name": "FloatProgressModel",
          "model_module_version": "1.5.0",
          "state": {
            "_dom_classes": [],
            "_model_module": "@jupyter-widgets/controls",
            "_model_module_version": "1.5.0",
            "_model_name": "FloatProgressModel",
            "_view_count": null,
            "_view_module": "@jupyter-widgets/controls",
            "_view_module_version": "1.5.0",
            "_view_name": "ProgressView",
            "bar_style": "info",
            "description": "Progress:",
            "description_tooltip": null,
            "layout": "IPY_MODEL_40438b0f06a049c88538377c23c4696d",
            "max": 1,
            "min": 0,
            "orientation": "horizontal",
            "style": "IPY_MODEL_2cee63eb4f874899a577c17a44a3eef0",
            "value": 0
          }
        },
        "40438b0f06a049c88538377c23c4696d": {
          "model_module": "@jupyter-widgets/base",
          "model_name": "LayoutModel",
          "model_module_version": "1.2.0",
          "state": {
            "_model_module": "@jupyter-widgets/base",
            "_model_module_version": "1.2.0",
            "_model_name": "LayoutModel",
            "_view_count": null,
            "_view_module": "@jupyter-widgets/base",
            "_view_module_version": "1.2.0",
            "_view_name": "LayoutView",
            "align_content": null,
            "align_items": null,
            "align_self": null,
            "border": null,
            "bottom": null,
            "display": null,
            "flex": null,
            "flex_flow": null,
            "grid_area": null,
            "grid_auto_columns": null,
            "grid_auto_flow": null,
            "grid_auto_rows": null,
            "grid_column": null,
            "grid_gap": null,
            "grid_row": null,
            "grid_template_areas": null,
            "grid_template_columns": null,
            "grid_template_rows": null,
            "height": "25px",
            "justify_content": null,
            "justify_items": null,
            "left": null,
            "margin": null,
            "max_height": null,
            "max_width": null,
            "min_height": null,
            "min_width": null,
            "object_fit": null,
            "object_position": null,
            "order": null,
            "overflow": null,
            "overflow_x": null,
            "overflow_y": null,
            "padding": null,
            "right": null,
            "top": null,
            "visibility": null,
            "width": "50%"
          }
        },
        "2cee63eb4f874899a577c17a44a3eef0": {
          "model_module": "@jupyter-widgets/controls",
          "model_name": "ProgressStyleModel",
          "model_module_version": "1.5.0",
          "state": {
            "_model_module": "@jupyter-widgets/controls",
            "_model_module_version": "1.5.0",
            "_model_name": "ProgressStyleModel",
            "_view_count": null,
            "_view_module": "@jupyter-widgets/base",
            "_view_module_version": "1.2.0",
            "_view_name": "StyleView",
            "bar_color": null,
            "description_width": ""
          }
        },
        "75ce8e3e35744e0884566638a10aa865": {
          "model_module": "@jupyter-widgets/controls",
          "model_name": "FloatProgressModel",
          "model_module_version": "1.5.0",
          "state": {
            "_dom_classes": [],
            "_model_module": "@jupyter-widgets/controls",
            "_model_module_version": "1.5.0",
            "_model_name": "FloatProgressModel",
            "_view_count": null,
            "_view_module": "@jupyter-widgets/controls",
            "_view_module_version": "1.5.0",
            "_view_name": "ProgressView",
            "bar_style": "info",
            "description": "Progress:",
            "description_tooltip": null,
            "layout": "IPY_MODEL_b6ed2f23b2e645b4808f9039e7f34886",
            "max": 1,
            "min": 0,
            "orientation": "horizontal",
            "style": "IPY_MODEL_bb1ac99fda514a38acb18c5dc0eb1ad1",
            "value": 0.1465986394557823
          }
        },
        "b6ed2f23b2e645b4808f9039e7f34886": {
          "model_module": "@jupyter-widgets/base",
          "model_name": "LayoutModel",
          "model_module_version": "1.2.0",
          "state": {
            "_model_module": "@jupyter-widgets/base",
            "_model_module_version": "1.2.0",
            "_model_name": "LayoutModel",
            "_view_count": null,
            "_view_module": "@jupyter-widgets/base",
            "_view_module_version": "1.2.0",
            "_view_name": "LayoutView",
            "align_content": null,
            "align_items": null,
            "align_self": null,
            "border": null,
            "bottom": null,
            "display": null,
            "flex": null,
            "flex_flow": null,
            "grid_area": null,
            "grid_auto_columns": null,
            "grid_auto_flow": null,
            "grid_auto_rows": null,
            "grid_column": null,
            "grid_gap": null,
            "grid_row": null,
            "grid_template_areas": null,
            "grid_template_columns": null,
            "grid_template_rows": null,
            "height": "25px",
            "justify_content": null,
            "justify_items": null,
            "left": null,
            "margin": null,
            "max_height": null,
            "max_width": null,
            "min_height": null,
            "min_width": null,
            "object_fit": null,
            "object_position": null,
            "order": null,
            "overflow": null,
            "overflow_x": null,
            "overflow_y": null,
            "padding": null,
            "right": null,
            "top": null,
            "visibility": null,
            "width": "50%"
          }
        },
        "bb1ac99fda514a38acb18c5dc0eb1ad1": {
          "model_module": "@jupyter-widgets/controls",
          "model_name": "ProgressStyleModel",
          "model_module_version": "1.5.0",
          "state": {
            "_model_module": "@jupyter-widgets/controls",
            "_model_module_version": "1.5.0",
            "_model_name": "ProgressStyleModel",
            "_view_count": null,
            "_view_module": "@jupyter-widgets/base",
            "_view_module_version": "1.2.0",
            "_view_name": "StyleView",
            "bar_color": null,
            "description_width": ""
          }
        },
        "12d9ec98524645c1898b7e9d1132a118": {
          "model_module": "@jupyter-widgets/controls",
          "model_name": "FloatProgressModel",
          "model_module_version": "1.5.0",
          "state": {
            "_dom_classes": [],
            "_model_module": "@jupyter-widgets/controls",
            "_model_module_version": "1.5.0",
            "_model_name": "FloatProgressModel",
            "_view_count": null,
            "_view_module": "@jupyter-widgets/controls",
            "_view_module_version": "1.5.0",
            "_view_name": "ProgressView",
            "bar_style": "info",
            "description": "Progress:",
            "description_tooltip": null,
            "layout": "IPY_MODEL_402dcad43ce74ef3ba1453695f18e17f",
            "max": 1,
            "min": 0,
            "orientation": "horizontal",
            "style": "IPY_MODEL_8e05ba635305472ab02865bc0dc98ad7",
            "value": 0.0951571792693288
          }
        },
        "402dcad43ce74ef3ba1453695f18e17f": {
          "model_module": "@jupyter-widgets/base",
          "model_name": "LayoutModel",
          "model_module_version": "1.2.0",
          "state": {
            "_model_module": "@jupyter-widgets/base",
            "_model_module_version": "1.2.0",
            "_model_name": "LayoutModel",
            "_view_count": null,
            "_view_module": "@jupyter-widgets/base",
            "_view_module_version": "1.2.0",
            "_view_name": "LayoutView",
            "align_content": null,
            "align_items": null,
            "align_self": null,
            "border": null,
            "bottom": null,
            "display": null,
            "flex": null,
            "flex_flow": null,
            "grid_area": null,
            "grid_auto_columns": null,
            "grid_auto_flow": null,
            "grid_auto_rows": null,
            "grid_column": null,
            "grid_gap": null,
            "grid_row": null,
            "grid_template_areas": null,
            "grid_template_columns": null,
            "grid_template_rows": null,
            "height": "25px",
            "justify_content": null,
            "justify_items": null,
            "left": null,
            "margin": null,
            "max_height": null,
            "max_width": null,
            "min_height": null,
            "min_width": null,
            "object_fit": null,
            "object_position": null,
            "order": null,
            "overflow": null,
            "overflow_x": null,
            "overflow_y": null,
            "padding": null,
            "right": null,
            "top": null,
            "visibility": null,
            "width": "50%"
          }
        },
        "8e05ba635305472ab02865bc0dc98ad7": {
          "model_module": "@jupyter-widgets/controls",
          "model_name": "ProgressStyleModel",
          "model_module_version": "1.5.0",
          "state": {
            "_model_module": "@jupyter-widgets/controls",
            "_model_module_version": "1.5.0",
            "_model_name": "ProgressStyleModel",
            "_view_count": null,
            "_view_module": "@jupyter-widgets/base",
            "_view_module_version": "1.2.0",
            "_view_name": "StyleView",
            "bar_color": null,
            "description_width": ""
          }
        },
        "ddda343ce3f74b18be192dec7f57e728": {
          "model_module": "@jupyter-widgets/controls",
          "model_name": "FloatProgressModel",
          "model_module_version": "1.5.0",
          "state": {
            "_dom_classes": [],
            "_model_module": "@jupyter-widgets/controls",
            "_model_module_version": "1.5.0",
            "_model_name": "FloatProgressModel",
            "_view_count": null,
            "_view_module": "@jupyter-widgets/controls",
            "_view_module_version": "1.5.0",
            "_view_name": "ProgressView",
            "bar_style": "info",
            "description": "Progress:",
            "description_tooltip": null,
            "layout": "IPY_MODEL_b1fba276d34d48d19b465c0f6674844c",
            "max": 1,
            "min": 0,
            "orientation": "horizontal",
            "style": "IPY_MODEL_98d70d677b5442ae8c05ed61967ab2e3",
            "value": 0.2955336426914153
          }
        },
        "b1fba276d34d48d19b465c0f6674844c": {
          "model_module": "@jupyter-widgets/base",
          "model_name": "LayoutModel",
          "model_module_version": "1.2.0",
          "state": {
            "_model_module": "@jupyter-widgets/base",
            "_model_module_version": "1.2.0",
            "_model_name": "LayoutModel",
            "_view_count": null,
            "_view_module": "@jupyter-widgets/base",
            "_view_module_version": "1.2.0",
            "_view_name": "LayoutView",
            "align_content": null,
            "align_items": null,
            "align_self": null,
            "border": null,
            "bottom": null,
            "display": null,
            "flex": null,
            "flex_flow": null,
            "grid_area": null,
            "grid_auto_columns": null,
            "grid_auto_flow": null,
            "grid_auto_rows": null,
            "grid_column": null,
            "grid_gap": null,
            "grid_row": null,
            "grid_template_areas": null,
            "grid_template_columns": null,
            "grid_template_rows": null,
            "height": "25px",
            "justify_content": null,
            "justify_items": null,
            "left": null,
            "margin": null,
            "max_height": null,
            "max_width": null,
            "min_height": null,
            "min_width": null,
            "object_fit": null,
            "object_position": null,
            "order": null,
            "overflow": null,
            "overflow_x": null,
            "overflow_y": null,
            "padding": null,
            "right": null,
            "top": null,
            "visibility": null,
            "width": "50%"
          }
        },
        "98d70d677b5442ae8c05ed61967ab2e3": {
          "model_module": "@jupyter-widgets/controls",
          "model_name": "ProgressStyleModel",
          "model_module_version": "1.5.0",
          "state": {
            "_model_module": "@jupyter-widgets/controls",
            "_model_module_version": "1.5.0",
            "_model_name": "ProgressStyleModel",
            "_view_count": null,
            "_view_module": "@jupyter-widgets/base",
            "_view_module_version": "1.2.0",
            "_view_name": "StyleView",
            "bar_color": null,
            "description_width": ""
          }
        },
        "e3babca1f36b4b40833de1a02ca0bc32": {
          "model_module": "@jupyter-widgets/controls",
          "model_name": "FloatProgressModel",
          "model_module_version": "1.5.0",
          "state": {
            "_dom_classes": [],
            "_model_module": "@jupyter-widgets/controls",
            "_model_module_version": "1.5.0",
            "_model_name": "FloatProgressModel",
            "_view_count": null,
            "_view_module": "@jupyter-widgets/controls",
            "_view_module_version": "1.5.0",
            "_view_name": "ProgressView",
            "bar_style": "info",
            "description": "Progress:",
            "description_tooltip": null,
            "layout": "IPY_MODEL_f9ad6e693bc448848f34b67aa42f736f",
            "max": 1,
            "min": 0,
            "orientation": "horizontal",
            "style": "IPY_MODEL_002361f99bf84eda8657e5ae4ce2cea3",
            "value": 0.22553816046966732
          }
        },
        "f9ad6e693bc448848f34b67aa42f736f": {
          "model_module": "@jupyter-widgets/base",
          "model_name": "LayoutModel",
          "model_module_version": "1.2.0",
          "state": {
            "_model_module": "@jupyter-widgets/base",
            "_model_module_version": "1.2.0",
            "_model_name": "LayoutModel",
            "_view_count": null,
            "_view_module": "@jupyter-widgets/base",
            "_view_module_version": "1.2.0",
            "_view_name": "LayoutView",
            "align_content": null,
            "align_items": null,
            "align_self": null,
            "border": null,
            "bottom": null,
            "display": null,
            "flex": null,
            "flex_flow": null,
            "grid_area": null,
            "grid_auto_columns": null,
            "grid_auto_flow": null,
            "grid_auto_rows": null,
            "grid_column": null,
            "grid_gap": null,
            "grid_row": null,
            "grid_template_areas": null,
            "grid_template_columns": null,
            "grid_template_rows": null,
            "height": "25px",
            "justify_content": null,
            "justify_items": null,
            "left": null,
            "margin": null,
            "max_height": null,
            "max_width": null,
            "min_height": null,
            "min_width": null,
            "object_fit": null,
            "object_position": null,
            "order": null,
            "overflow": null,
            "overflow_x": null,
            "overflow_y": null,
            "padding": null,
            "right": null,
            "top": null,
            "visibility": null,
            "width": "50%"
          }
        },
        "002361f99bf84eda8657e5ae4ce2cea3": {
          "model_module": "@jupyter-widgets/controls",
          "model_name": "ProgressStyleModel",
          "model_module_version": "1.5.0",
          "state": {
            "_model_module": "@jupyter-widgets/controls",
            "_model_module_version": "1.5.0",
            "_model_name": "ProgressStyleModel",
            "_view_count": null,
            "_view_module": "@jupyter-widgets/base",
            "_view_module_version": "1.2.0",
            "_view_name": "StyleView",
            "bar_color": null,
            "description_width": ""
          }
        },
        "1dd1445323344e6b9a7dbd71fbcfdb0e": {
          "model_module": "@jupyter-widgets/controls",
          "model_name": "FloatProgressModel",
          "model_module_version": "1.5.0",
          "state": {
            "_dom_classes": [],
            "_model_module": "@jupyter-widgets/controls",
            "_model_module_version": "1.5.0",
            "_model_name": "FloatProgressModel",
            "_view_count": null,
            "_view_module": "@jupyter-widgets/controls",
            "_view_module_version": "1.5.0",
            "_view_name": "ProgressView",
            "bar_style": "info",
            "description": "Progress:",
            "description_tooltip": null,
            "layout": "IPY_MODEL_75204b1da00a4e2485a362e9d77e4d24",
            "max": 1,
            "min": 0,
            "orientation": "horizontal",
            "style": "IPY_MODEL_1c609a9f41e24f8ab1d298f68b9d115d",
            "value": 0.4771748492678725
          }
        },
        "75204b1da00a4e2485a362e9d77e4d24": {
          "model_module": "@jupyter-widgets/base",
          "model_name": "LayoutModel",
          "model_module_version": "1.2.0",
          "state": {
            "_model_module": "@jupyter-widgets/base",
            "_model_module_version": "1.2.0",
            "_model_name": "LayoutModel",
            "_view_count": null,
            "_view_module": "@jupyter-widgets/base",
            "_view_module_version": "1.2.0",
            "_view_name": "LayoutView",
            "align_content": null,
            "align_items": null,
            "align_self": null,
            "border": null,
            "bottom": null,
            "display": null,
            "flex": null,
            "flex_flow": null,
            "grid_area": null,
            "grid_auto_columns": null,
            "grid_auto_flow": null,
            "grid_auto_rows": null,
            "grid_column": null,
            "grid_gap": null,
            "grid_row": null,
            "grid_template_areas": null,
            "grid_template_columns": null,
            "grid_template_rows": null,
            "height": "25px",
            "justify_content": null,
            "justify_items": null,
            "left": null,
            "margin": null,
            "max_height": null,
            "max_width": null,
            "min_height": null,
            "min_width": null,
            "object_fit": null,
            "object_position": null,
            "order": null,
            "overflow": null,
            "overflow_x": null,
            "overflow_y": null,
            "padding": null,
            "right": null,
            "top": null,
            "visibility": null,
            "width": "50%"
          }
        },
        "1c609a9f41e24f8ab1d298f68b9d115d": {
          "model_module": "@jupyter-widgets/controls",
          "model_name": "ProgressStyleModel",
          "model_module_version": "1.5.0",
          "state": {
            "_model_module": "@jupyter-widgets/controls",
            "_model_module_version": "1.5.0",
            "_model_name": "ProgressStyleModel",
            "_view_count": null,
            "_view_module": "@jupyter-widgets/base",
            "_view_module_version": "1.2.0",
            "_view_name": "StyleView",
            "bar_color": null,
            "description_width": ""
          }
        },
        "a5fd1efd7340424f9809f50e181f5240": {
          "model_module": "@jupyter-widgets/controls",
          "model_name": "FloatProgressModel",
          "model_module_version": "1.5.0",
          "state": {
            "_dom_classes": [],
            "_model_module": "@jupyter-widgets/controls",
            "_model_module_version": "1.5.0",
            "_model_name": "FloatProgressModel",
            "_view_count": null,
            "_view_module": "@jupyter-widgets/controls",
            "_view_module_version": "1.5.0",
            "_view_name": "ProgressView",
            "bar_style": "info",
            "description": "Progress:",
            "description_tooltip": null,
            "layout": "IPY_MODEL_690a474504a84691a29ca991768c9c49",
            "max": 1,
            "min": 0,
            "orientation": "horizontal",
            "style": "IPY_MODEL_1a3f82e765644fb18d0bf2ceb4a6e8af",
            "value": 0
          }
        },
        "690a474504a84691a29ca991768c9c49": {
          "model_module": "@jupyter-widgets/base",
          "model_name": "LayoutModel",
          "model_module_version": "1.2.0",
          "state": {
            "_model_module": "@jupyter-widgets/base",
            "_model_module_version": "1.2.0",
            "_model_name": "LayoutModel",
            "_view_count": null,
            "_view_module": "@jupyter-widgets/base",
            "_view_module_version": "1.2.0",
            "_view_name": "LayoutView",
            "align_content": null,
            "align_items": null,
            "align_self": null,
            "border": null,
            "bottom": null,
            "display": null,
            "flex": null,
            "flex_flow": null,
            "grid_area": null,
            "grid_auto_columns": null,
            "grid_auto_flow": null,
            "grid_auto_rows": null,
            "grid_column": null,
            "grid_gap": null,
            "grid_row": null,
            "grid_template_areas": null,
            "grid_template_columns": null,
            "grid_template_rows": null,
            "height": "25px",
            "justify_content": null,
            "justify_items": null,
            "left": null,
            "margin": null,
            "max_height": null,
            "max_width": null,
            "min_height": null,
            "min_width": null,
            "object_fit": null,
            "object_position": null,
            "order": null,
            "overflow": null,
            "overflow_x": null,
            "overflow_y": null,
            "padding": null,
            "right": null,
            "top": null,
            "visibility": null,
            "width": "50%"
          }
        },
        "1a3f82e765644fb18d0bf2ceb4a6e8af": {
          "model_module": "@jupyter-widgets/controls",
          "model_name": "ProgressStyleModel",
          "model_module_version": "1.5.0",
          "state": {
            "_model_module": "@jupyter-widgets/controls",
            "_model_module_version": "1.5.0",
            "_model_name": "ProgressStyleModel",
            "_view_count": null,
            "_view_module": "@jupyter-widgets/base",
            "_view_module_version": "1.2.0",
            "_view_name": "StyleView",
            "bar_color": null,
            "description_width": ""
          }
        },
        "9c63e7130558440c81834e9c4dbcf2c9": {
          "model_module": "@jupyter-widgets/controls",
          "model_name": "FloatProgressModel",
          "model_module_version": "1.5.0",
          "state": {
            "_dom_classes": [],
            "_model_module": "@jupyter-widgets/controls",
            "_model_module_version": "1.5.0",
            "_model_name": "FloatProgressModel",
            "_view_count": null,
            "_view_module": "@jupyter-widgets/controls",
            "_view_module_version": "1.5.0",
            "_view_name": "ProgressView",
            "bar_style": "info",
            "description": "Progress:",
            "description_tooltip": null,
            "layout": "IPY_MODEL_b5b12a94eeb44fb7b195162644ebc4f0",
            "max": 1,
            "min": 0,
            "orientation": "horizontal",
            "style": "IPY_MODEL_b6d7e3cd1db7491a8be091a6fc61e7e6",
            "value": 0
          }
        },
        "b5b12a94eeb44fb7b195162644ebc4f0": {
          "model_module": "@jupyter-widgets/base",
          "model_name": "LayoutModel",
          "model_module_version": "1.2.0",
          "state": {
            "_model_module": "@jupyter-widgets/base",
            "_model_module_version": "1.2.0",
            "_model_name": "LayoutModel",
            "_view_count": null,
            "_view_module": "@jupyter-widgets/base",
            "_view_module_version": "1.2.0",
            "_view_name": "LayoutView",
            "align_content": null,
            "align_items": null,
            "align_self": null,
            "border": null,
            "bottom": null,
            "display": null,
            "flex": null,
            "flex_flow": null,
            "grid_area": null,
            "grid_auto_columns": null,
            "grid_auto_flow": null,
            "grid_auto_rows": null,
            "grid_column": null,
            "grid_gap": null,
            "grid_row": null,
            "grid_template_areas": null,
            "grid_template_columns": null,
            "grid_template_rows": null,
            "height": "25px",
            "justify_content": null,
            "justify_items": null,
            "left": null,
            "margin": null,
            "max_height": null,
            "max_width": null,
            "min_height": null,
            "min_width": null,
            "object_fit": null,
            "object_position": null,
            "order": null,
            "overflow": null,
            "overflow_x": null,
            "overflow_y": null,
            "padding": null,
            "right": null,
            "top": null,
            "visibility": null,
            "width": "50%"
          }
        },
        "b6d7e3cd1db7491a8be091a6fc61e7e6": {
          "model_module": "@jupyter-widgets/controls",
          "model_name": "ProgressStyleModel",
          "model_module_version": "1.5.0",
          "state": {
            "_model_module": "@jupyter-widgets/controls",
            "_model_module_version": "1.5.0",
            "_model_name": "ProgressStyleModel",
            "_view_count": null,
            "_view_module": "@jupyter-widgets/base",
            "_view_module_version": "1.2.0",
            "_view_name": "StyleView",
            "bar_color": null,
            "description_width": ""
          }
        },
        "f50ede1d0322461a8cd07545d681306b": {
          "model_module": "@jupyter-widgets/controls",
          "model_name": "FloatProgressModel",
          "model_module_version": "1.5.0",
          "state": {
            "_dom_classes": [],
            "_model_module": "@jupyter-widgets/controls",
            "_model_module_version": "1.5.0",
            "_model_name": "FloatProgressModel",
            "_view_count": null,
            "_view_module": "@jupyter-widgets/controls",
            "_view_module_version": "1.5.0",
            "_view_name": "ProgressView",
            "bar_style": "info",
            "description": "Progress:",
            "description_tooltip": null,
            "layout": "IPY_MODEL_efd8e966b21b4ec7bae8b05d7dab9a09",
            "max": 1,
            "min": 0,
            "orientation": "horizontal",
            "style": "IPY_MODEL_811fb650f5b74d85841a8407c8faa2b0",
            "value": 0
          }
        },
        "efd8e966b21b4ec7bae8b05d7dab9a09": {
          "model_module": "@jupyter-widgets/base",
          "model_name": "LayoutModel",
          "model_module_version": "1.2.0",
          "state": {
            "_model_module": "@jupyter-widgets/base",
            "_model_module_version": "1.2.0",
            "_model_name": "LayoutModel",
            "_view_count": null,
            "_view_module": "@jupyter-widgets/base",
            "_view_module_version": "1.2.0",
            "_view_name": "LayoutView",
            "align_content": null,
            "align_items": null,
            "align_self": null,
            "border": null,
            "bottom": null,
            "display": null,
            "flex": null,
            "flex_flow": null,
            "grid_area": null,
            "grid_auto_columns": null,
            "grid_auto_flow": null,
            "grid_auto_rows": null,
            "grid_column": null,
            "grid_gap": null,
            "grid_row": null,
            "grid_template_areas": null,
            "grid_template_columns": null,
            "grid_template_rows": null,
            "height": "25px",
            "justify_content": null,
            "justify_items": null,
            "left": null,
            "margin": null,
            "max_height": null,
            "max_width": null,
            "min_height": null,
            "min_width": null,
            "object_fit": null,
            "object_position": null,
            "order": null,
            "overflow": null,
            "overflow_x": null,
            "overflow_y": null,
            "padding": null,
            "right": null,
            "top": null,
            "visibility": null,
            "width": "50%"
          }
        },
        "811fb650f5b74d85841a8407c8faa2b0": {
          "model_module": "@jupyter-widgets/controls",
          "model_name": "ProgressStyleModel",
          "model_module_version": "1.5.0",
          "state": {
            "_model_module": "@jupyter-widgets/controls",
            "_model_module_version": "1.5.0",
            "_model_name": "ProgressStyleModel",
            "_view_count": null,
            "_view_module": "@jupyter-widgets/base",
            "_view_module_version": "1.2.0",
            "_view_name": "StyleView",
            "bar_color": null,
            "description_width": ""
          }
        },
        "e64bbddd7b3e42a39e31a0297d8c19ba": {
          "model_module": "@jupyter-widgets/controls",
          "model_name": "FloatProgressModel",
          "model_module_version": "1.5.0",
          "state": {
            "_dom_classes": [],
            "_model_module": "@jupyter-widgets/controls",
            "_model_module_version": "1.5.0",
            "_model_name": "FloatProgressModel",
            "_view_count": null,
            "_view_module": "@jupyter-widgets/controls",
            "_view_module_version": "1.5.0",
            "_view_name": "ProgressView",
            "bar_style": "info",
            "description": "Progress:",
            "description_tooltip": null,
            "layout": "IPY_MODEL_9960a0f0c37a4240b03efdbfd922a858",
            "max": 1,
            "min": 0,
            "orientation": "horizontal",
            "style": "IPY_MODEL_cfc234e37ec544b6bce916f64ee39287",
            "value": 0.9166666666666666
          }
        },
        "9960a0f0c37a4240b03efdbfd922a858": {
          "model_module": "@jupyter-widgets/base",
          "model_name": "LayoutModel",
          "model_module_version": "1.2.0",
          "state": {
            "_model_module": "@jupyter-widgets/base",
            "_model_module_version": "1.2.0",
            "_model_name": "LayoutModel",
            "_view_count": null,
            "_view_module": "@jupyter-widgets/base",
            "_view_module_version": "1.2.0",
            "_view_name": "LayoutView",
            "align_content": null,
            "align_items": null,
            "align_self": null,
            "border": null,
            "bottom": null,
            "display": null,
            "flex": null,
            "flex_flow": null,
            "grid_area": null,
            "grid_auto_columns": null,
            "grid_auto_flow": null,
            "grid_auto_rows": null,
            "grid_column": null,
            "grid_gap": null,
            "grid_row": null,
            "grid_template_areas": null,
            "grid_template_columns": null,
            "grid_template_rows": null,
            "height": "25px",
            "justify_content": null,
            "justify_items": null,
            "left": null,
            "margin": null,
            "max_height": null,
            "max_width": null,
            "min_height": null,
            "min_width": null,
            "object_fit": null,
            "object_position": null,
            "order": null,
            "overflow": null,
            "overflow_x": null,
            "overflow_y": null,
            "padding": null,
            "right": null,
            "top": null,
            "visibility": null,
            "width": "50%"
          }
        },
        "cfc234e37ec544b6bce916f64ee39287": {
          "model_module": "@jupyter-widgets/controls",
          "model_name": "ProgressStyleModel",
          "model_module_version": "1.5.0",
          "state": {
            "_model_module": "@jupyter-widgets/controls",
            "_model_module_version": "1.5.0",
            "_model_name": "ProgressStyleModel",
            "_view_count": null,
            "_view_module": "@jupyter-widgets/base",
            "_view_module_version": "1.2.0",
            "_view_name": "StyleView",
            "bar_color": null,
            "description_width": ""
          }
        },
        "7d6192579fb446f3afec926b09b96331": {
          "model_module": "@jupyter-widgets/controls",
          "model_name": "FloatProgressModel",
          "model_module_version": "1.5.0",
          "state": {
            "_dom_classes": [],
            "_model_module": "@jupyter-widgets/controls",
            "_model_module_version": "1.5.0",
            "_model_name": "FloatProgressModel",
            "_view_count": null,
            "_view_module": "@jupyter-widgets/controls",
            "_view_module_version": "1.5.0",
            "_view_name": "ProgressView",
            "bar_style": "info",
            "description": "Progress:",
            "description_tooltip": null,
            "layout": "IPY_MODEL_d0e7133ee2304bcc9489fa0d8449e167",
            "max": 1,
            "min": 0,
            "orientation": "horizontal",
            "style": "IPY_MODEL_94f3809d04a34ce0aa1c5e155adff089",
            "value": 0
          }
        },
        "d0e7133ee2304bcc9489fa0d8449e167": {
          "model_module": "@jupyter-widgets/base",
          "model_name": "LayoutModel",
          "model_module_version": "1.2.0",
          "state": {
            "_model_module": "@jupyter-widgets/base",
            "_model_module_version": "1.2.0",
            "_model_name": "LayoutModel",
            "_view_count": null,
            "_view_module": "@jupyter-widgets/base",
            "_view_module_version": "1.2.0",
            "_view_name": "LayoutView",
            "align_content": null,
            "align_items": null,
            "align_self": null,
            "border": null,
            "bottom": null,
            "display": null,
            "flex": null,
            "flex_flow": null,
            "grid_area": null,
            "grid_auto_columns": null,
            "grid_auto_flow": null,
            "grid_auto_rows": null,
            "grid_column": null,
            "grid_gap": null,
            "grid_row": null,
            "grid_template_areas": null,
            "grid_template_columns": null,
            "grid_template_rows": null,
            "height": "25px",
            "justify_content": null,
            "justify_items": null,
            "left": null,
            "margin": null,
            "max_height": null,
            "max_width": null,
            "min_height": null,
            "min_width": null,
            "object_fit": null,
            "object_position": null,
            "order": null,
            "overflow": null,
            "overflow_x": null,
            "overflow_y": null,
            "padding": null,
            "right": null,
            "top": null,
            "visibility": null,
            "width": "50%"
          }
        },
        "94f3809d04a34ce0aa1c5e155adff089": {
          "model_module": "@jupyter-widgets/controls",
          "model_name": "ProgressStyleModel",
          "model_module_version": "1.5.0",
          "state": {
            "_model_module": "@jupyter-widgets/controls",
            "_model_module_version": "1.5.0",
            "_model_name": "ProgressStyleModel",
            "_view_count": null,
            "_view_module": "@jupyter-widgets/base",
            "_view_module_version": "1.2.0",
            "_view_name": "StyleView",
            "bar_color": null,
            "description_width": ""
          }
        },
        "840d51d9e3d44b23b8a1caffbe49660c": {
          "model_module": "@jupyter-widgets/controls",
          "model_name": "FloatProgressModel",
          "model_module_version": "1.5.0",
          "state": {
            "_dom_classes": [],
            "_model_module": "@jupyter-widgets/controls",
            "_model_module_version": "1.5.0",
            "_model_name": "FloatProgressModel",
            "_view_count": null,
            "_view_module": "@jupyter-widgets/controls",
            "_view_module_version": "1.5.0",
            "_view_name": "ProgressView",
            "bar_style": "info",
            "description": "Progress:",
            "description_tooltip": null,
            "layout": "IPY_MODEL_7b32a3bb4b6a4b0495ea3b25251a64e9",
            "max": 1,
            "min": 0,
            "orientation": "horizontal",
            "style": "IPY_MODEL_3c7d688bf9f04673aa3002580a350650",
            "value": 0
          }
        },
        "7b32a3bb4b6a4b0495ea3b25251a64e9": {
          "model_module": "@jupyter-widgets/base",
          "model_name": "LayoutModel",
          "model_module_version": "1.2.0",
          "state": {
            "_model_module": "@jupyter-widgets/base",
            "_model_module_version": "1.2.0",
            "_model_name": "LayoutModel",
            "_view_count": null,
            "_view_module": "@jupyter-widgets/base",
            "_view_module_version": "1.2.0",
            "_view_name": "LayoutView",
            "align_content": null,
            "align_items": null,
            "align_self": null,
            "border": null,
            "bottom": null,
            "display": null,
            "flex": null,
            "flex_flow": null,
            "grid_area": null,
            "grid_auto_columns": null,
            "grid_auto_flow": null,
            "grid_auto_rows": null,
            "grid_column": null,
            "grid_gap": null,
            "grid_row": null,
            "grid_template_areas": null,
            "grid_template_columns": null,
            "grid_template_rows": null,
            "height": "25px",
            "justify_content": null,
            "justify_items": null,
            "left": null,
            "margin": null,
            "max_height": null,
            "max_width": null,
            "min_height": null,
            "min_width": null,
            "object_fit": null,
            "object_position": null,
            "order": null,
            "overflow": null,
            "overflow_x": null,
            "overflow_y": null,
            "padding": null,
            "right": null,
            "top": null,
            "visibility": null,
            "width": "50%"
          }
        },
        "3c7d688bf9f04673aa3002580a350650": {
          "model_module": "@jupyter-widgets/controls",
          "model_name": "ProgressStyleModel",
          "model_module_version": "1.5.0",
          "state": {
            "_model_module": "@jupyter-widgets/controls",
            "_model_module_version": "1.5.0",
            "_model_name": "ProgressStyleModel",
            "_view_count": null,
            "_view_module": "@jupyter-widgets/base",
            "_view_module_version": "1.2.0",
            "_view_name": "StyleView",
            "bar_color": null,
            "description_width": ""
          }
        },
        "9edd5ba9beb347f6a459f826188b1004": {
          "model_module": "@jupyter-widgets/controls",
          "model_name": "FloatProgressModel",
          "model_module_version": "1.5.0",
          "state": {
            "_dom_classes": [],
            "_model_module": "@jupyter-widgets/controls",
            "_model_module_version": "1.5.0",
            "_model_name": "FloatProgressModel",
            "_view_count": null,
            "_view_module": "@jupyter-widgets/controls",
            "_view_module_version": "1.5.0",
            "_view_name": "ProgressView",
            "bar_style": "info",
            "description": "Progress:",
            "description_tooltip": null,
            "layout": "IPY_MODEL_95f19b4b2be743b19913fb5cce8d8f9a",
            "max": 1,
            "min": 0,
            "orientation": "horizontal",
            "style": "IPY_MODEL_2f0a455820644e59beda279bb742a687",
            "value": 0
          }
        },
        "95f19b4b2be743b19913fb5cce8d8f9a": {
          "model_module": "@jupyter-widgets/base",
          "model_name": "LayoutModel",
          "model_module_version": "1.2.0",
          "state": {
            "_model_module": "@jupyter-widgets/base",
            "_model_module_version": "1.2.0",
            "_model_name": "LayoutModel",
            "_view_count": null,
            "_view_module": "@jupyter-widgets/base",
            "_view_module_version": "1.2.0",
            "_view_name": "LayoutView",
            "align_content": null,
            "align_items": null,
            "align_self": null,
            "border": null,
            "bottom": null,
            "display": null,
            "flex": null,
            "flex_flow": null,
            "grid_area": null,
            "grid_auto_columns": null,
            "grid_auto_flow": null,
            "grid_auto_rows": null,
            "grid_column": null,
            "grid_gap": null,
            "grid_row": null,
            "grid_template_areas": null,
            "grid_template_columns": null,
            "grid_template_rows": null,
            "height": "25px",
            "justify_content": null,
            "justify_items": null,
            "left": null,
            "margin": null,
            "max_height": null,
            "max_width": null,
            "min_height": null,
            "min_width": null,
            "object_fit": null,
            "object_position": null,
            "order": null,
            "overflow": null,
            "overflow_x": null,
            "overflow_y": null,
            "padding": null,
            "right": null,
            "top": null,
            "visibility": null,
            "width": "50%"
          }
        },
        "2f0a455820644e59beda279bb742a687": {
          "model_module": "@jupyter-widgets/controls",
          "model_name": "ProgressStyleModel",
          "model_module_version": "1.5.0",
          "state": {
            "_model_module": "@jupyter-widgets/controls",
            "_model_module_version": "1.5.0",
            "_model_name": "ProgressStyleModel",
            "_view_count": null,
            "_view_module": "@jupyter-widgets/base",
            "_view_module_version": "1.2.0",
            "_view_name": "StyleView",
            "bar_color": null,
            "description_width": ""
          }
        },
        "c33b118c165b4478a0e81b71a9513f51": {
          "model_module": "@jupyter-widgets/controls",
          "model_name": "FloatProgressModel",
          "model_module_version": "1.5.0",
          "state": {
            "_dom_classes": [],
            "_model_module": "@jupyter-widgets/controls",
            "_model_module_version": "1.5.0",
            "_model_name": "FloatProgressModel",
            "_view_count": null,
            "_view_module": "@jupyter-widgets/controls",
            "_view_module_version": "1.5.0",
            "_view_name": "ProgressView",
            "bar_style": "info",
            "description": "Progress:",
            "description_tooltip": null,
            "layout": "IPY_MODEL_8033348534824ec389b7ec5c0ec62202",
            "max": 1,
            "min": 0,
            "orientation": "horizontal",
            "style": "IPY_MODEL_474b355585cb4022a6abe1a5dbf6ff7c",
            "value": 0
          }
        },
        "8033348534824ec389b7ec5c0ec62202": {
          "model_module": "@jupyter-widgets/base",
          "model_name": "LayoutModel",
          "model_module_version": "1.2.0",
          "state": {
            "_model_module": "@jupyter-widgets/base",
            "_model_module_version": "1.2.0",
            "_model_name": "LayoutModel",
            "_view_count": null,
            "_view_module": "@jupyter-widgets/base",
            "_view_module_version": "1.2.0",
            "_view_name": "LayoutView",
            "align_content": null,
            "align_items": null,
            "align_self": null,
            "border": null,
            "bottom": null,
            "display": null,
            "flex": null,
            "flex_flow": null,
            "grid_area": null,
            "grid_auto_columns": null,
            "grid_auto_flow": null,
            "grid_auto_rows": null,
            "grid_column": null,
            "grid_gap": null,
            "grid_row": null,
            "grid_template_areas": null,
            "grid_template_columns": null,
            "grid_template_rows": null,
            "height": "25px",
            "justify_content": null,
            "justify_items": null,
            "left": null,
            "margin": null,
            "max_height": null,
            "max_width": null,
            "min_height": null,
            "min_width": null,
            "object_fit": null,
            "object_position": null,
            "order": null,
            "overflow": null,
            "overflow_x": null,
            "overflow_y": null,
            "padding": null,
            "right": null,
            "top": null,
            "visibility": null,
            "width": "50%"
          }
        },
        "474b355585cb4022a6abe1a5dbf6ff7c": {
          "model_module": "@jupyter-widgets/controls",
          "model_name": "ProgressStyleModel",
          "model_module_version": "1.5.0",
          "state": {
            "_model_module": "@jupyter-widgets/controls",
            "_model_module_version": "1.5.0",
            "_model_name": "ProgressStyleModel",
            "_view_count": null,
            "_view_module": "@jupyter-widgets/base",
            "_view_module_version": "1.2.0",
            "_view_name": "StyleView",
            "bar_color": null,
            "description_width": ""
          }
        },
        "7ce64f4c890a440ca832bc5bb0c0d451": {
          "model_module": "@jupyter-widgets/controls",
          "model_name": "FloatProgressModel",
          "model_module_version": "1.5.0",
          "state": {
            "_dom_classes": [],
            "_model_module": "@jupyter-widgets/controls",
            "_model_module_version": "1.5.0",
            "_model_name": "FloatProgressModel",
            "_view_count": null,
            "_view_module": "@jupyter-widgets/controls",
            "_view_module_version": "1.5.0",
            "_view_name": "ProgressView",
            "bar_style": "info",
            "description": "Progress:",
            "description_tooltip": null,
            "layout": "IPY_MODEL_5f34abbe1ec343c6aa62a505498e81ef",
            "max": 1,
            "min": 0,
            "orientation": "horizontal",
            "style": "IPY_MODEL_f1c958da02954081a9fc9eac02226811",
            "value": 0
          }
        },
        "5f34abbe1ec343c6aa62a505498e81ef": {
          "model_module": "@jupyter-widgets/base",
          "model_name": "LayoutModel",
          "model_module_version": "1.2.0",
          "state": {
            "_model_module": "@jupyter-widgets/base",
            "_model_module_version": "1.2.0",
            "_model_name": "LayoutModel",
            "_view_count": null,
            "_view_module": "@jupyter-widgets/base",
            "_view_module_version": "1.2.0",
            "_view_name": "LayoutView",
            "align_content": null,
            "align_items": null,
            "align_self": null,
            "border": null,
            "bottom": null,
            "display": null,
            "flex": null,
            "flex_flow": null,
            "grid_area": null,
            "grid_auto_columns": null,
            "grid_auto_flow": null,
            "grid_auto_rows": null,
            "grid_column": null,
            "grid_gap": null,
            "grid_row": null,
            "grid_template_areas": null,
            "grid_template_columns": null,
            "grid_template_rows": null,
            "height": "25px",
            "justify_content": null,
            "justify_items": null,
            "left": null,
            "margin": null,
            "max_height": null,
            "max_width": null,
            "min_height": null,
            "min_width": null,
            "object_fit": null,
            "object_position": null,
            "order": null,
            "overflow": null,
            "overflow_x": null,
            "overflow_y": null,
            "padding": null,
            "right": null,
            "top": null,
            "visibility": null,
            "width": "50%"
          }
        },
        "f1c958da02954081a9fc9eac02226811": {
          "model_module": "@jupyter-widgets/controls",
          "model_name": "ProgressStyleModel",
          "model_module_version": "1.5.0",
          "state": {
            "_model_module": "@jupyter-widgets/controls",
            "_model_module_version": "1.5.0",
            "_model_name": "ProgressStyleModel",
            "_view_count": null,
            "_view_module": "@jupyter-widgets/base",
            "_view_module_version": "1.2.0",
            "_view_name": "StyleView",
            "bar_color": null,
            "description_width": ""
          }
        },
        "4b426acf1f824432941437bb2a25f998": {
          "model_module": "@jupyter-widgets/controls",
          "model_name": "FloatProgressModel",
          "model_module_version": "1.5.0",
          "state": {
            "_dom_classes": [],
            "_model_module": "@jupyter-widgets/controls",
            "_model_module_version": "1.5.0",
            "_model_name": "FloatProgressModel",
            "_view_count": null,
            "_view_module": "@jupyter-widgets/controls",
            "_view_module_version": "1.5.0",
            "_view_name": "ProgressView",
            "bar_style": "info",
            "description": "Progress:",
            "description_tooltip": null,
            "layout": "IPY_MODEL_c629a3721914430a86ce742ffbb9b6c9",
            "max": 1,
            "min": 0,
            "orientation": "horizontal",
            "style": "IPY_MODEL_2560d08e4be84d0a974d143552e93ff7",
            "value": 0
          }
        },
        "c629a3721914430a86ce742ffbb9b6c9": {
          "model_module": "@jupyter-widgets/base",
          "model_name": "LayoutModel",
          "model_module_version": "1.2.0",
          "state": {
            "_model_module": "@jupyter-widgets/base",
            "_model_module_version": "1.2.0",
            "_model_name": "LayoutModel",
            "_view_count": null,
            "_view_module": "@jupyter-widgets/base",
            "_view_module_version": "1.2.0",
            "_view_name": "LayoutView",
            "align_content": null,
            "align_items": null,
            "align_self": null,
            "border": null,
            "bottom": null,
            "display": null,
            "flex": null,
            "flex_flow": null,
            "grid_area": null,
            "grid_auto_columns": null,
            "grid_auto_flow": null,
            "grid_auto_rows": null,
            "grid_column": null,
            "grid_gap": null,
            "grid_row": null,
            "grid_template_areas": null,
            "grid_template_columns": null,
            "grid_template_rows": null,
            "height": "25px",
            "justify_content": null,
            "justify_items": null,
            "left": null,
            "margin": null,
            "max_height": null,
            "max_width": null,
            "min_height": null,
            "min_width": null,
            "object_fit": null,
            "object_position": null,
            "order": null,
            "overflow": null,
            "overflow_x": null,
            "overflow_y": null,
            "padding": null,
            "right": null,
            "top": null,
            "visibility": null,
            "width": "50%"
          }
        },
        "2560d08e4be84d0a974d143552e93ff7": {
          "model_module": "@jupyter-widgets/controls",
          "model_name": "ProgressStyleModel",
          "model_module_version": "1.5.0",
          "state": {
            "_model_module": "@jupyter-widgets/controls",
            "_model_module_version": "1.5.0",
            "_model_name": "ProgressStyleModel",
            "_view_count": null,
            "_view_module": "@jupyter-widgets/base",
            "_view_module_version": "1.2.0",
            "_view_name": "StyleView",
            "bar_color": null,
            "description_width": ""
          }
        },
        "d15a504d92b644f4919dd9a7555d4098": {
          "model_module": "@jupyter-widgets/controls",
          "model_name": "FloatProgressModel",
          "model_module_version": "1.5.0",
          "state": {
            "_dom_classes": [],
            "_model_module": "@jupyter-widgets/controls",
            "_model_module_version": "1.5.0",
            "_model_name": "FloatProgressModel",
            "_view_count": null,
            "_view_module": "@jupyter-widgets/controls",
            "_view_module_version": "1.5.0",
            "_view_name": "ProgressView",
            "bar_style": "info",
            "description": "Progress:",
            "description_tooltip": null,
            "layout": "IPY_MODEL_06dcd838d67e47d0a7b627808e12d334",
            "max": 1,
            "min": 0,
            "orientation": "horizontal",
            "style": "IPY_MODEL_eca3fb3ee904403fbc953f4e23f86f8e",
            "value": 0
          }
        },
        "06dcd838d67e47d0a7b627808e12d334": {
          "model_module": "@jupyter-widgets/base",
          "model_name": "LayoutModel",
          "model_module_version": "1.2.0",
          "state": {
            "_model_module": "@jupyter-widgets/base",
            "_model_module_version": "1.2.0",
            "_model_name": "LayoutModel",
            "_view_count": null,
            "_view_module": "@jupyter-widgets/base",
            "_view_module_version": "1.2.0",
            "_view_name": "LayoutView",
            "align_content": null,
            "align_items": null,
            "align_self": null,
            "border": null,
            "bottom": null,
            "display": null,
            "flex": null,
            "flex_flow": null,
            "grid_area": null,
            "grid_auto_columns": null,
            "grid_auto_flow": null,
            "grid_auto_rows": null,
            "grid_column": null,
            "grid_gap": null,
            "grid_row": null,
            "grid_template_areas": null,
            "grid_template_columns": null,
            "grid_template_rows": null,
            "height": "25px",
            "justify_content": null,
            "justify_items": null,
            "left": null,
            "margin": null,
            "max_height": null,
            "max_width": null,
            "min_height": null,
            "min_width": null,
            "object_fit": null,
            "object_position": null,
            "order": null,
            "overflow": null,
            "overflow_x": null,
            "overflow_y": null,
            "padding": null,
            "right": null,
            "top": null,
            "visibility": null,
            "width": "50%"
          }
        },
        "eca3fb3ee904403fbc953f4e23f86f8e": {
          "model_module": "@jupyter-widgets/controls",
          "model_name": "ProgressStyleModel",
          "model_module_version": "1.5.0",
          "state": {
            "_model_module": "@jupyter-widgets/controls",
            "_model_module_version": "1.5.0",
            "_model_name": "ProgressStyleModel",
            "_view_count": null,
            "_view_module": "@jupyter-widgets/base",
            "_view_module_version": "1.2.0",
            "_view_name": "StyleView",
            "bar_color": null,
            "description_width": ""
          }
        },
        "793bc353d6b140ad8ffc5139235c2eb5": {
          "model_module": "@jupyter-widgets/controls",
          "model_name": "FloatProgressModel",
          "model_module_version": "1.5.0",
          "state": {
            "_dom_classes": [],
            "_model_module": "@jupyter-widgets/controls",
            "_model_module_version": "1.5.0",
            "_model_name": "FloatProgressModel",
            "_view_count": null,
            "_view_module": "@jupyter-widgets/controls",
            "_view_module_version": "1.5.0",
            "_view_name": "ProgressView",
            "bar_style": "info",
            "description": "Progress:",
            "description_tooltip": null,
            "layout": "IPY_MODEL_d47e0760fd1e42a3b7fb0fd20cfd2a01",
            "max": 1,
            "min": 0,
            "orientation": "horizontal",
            "style": "IPY_MODEL_e9fa131bc21a46daa37a37fe3e04c9f8",
            "value": 0
          }
        },
        "d47e0760fd1e42a3b7fb0fd20cfd2a01": {
          "model_module": "@jupyter-widgets/base",
          "model_name": "LayoutModel",
          "model_module_version": "1.2.0",
          "state": {
            "_model_module": "@jupyter-widgets/base",
            "_model_module_version": "1.2.0",
            "_model_name": "LayoutModel",
            "_view_count": null,
            "_view_module": "@jupyter-widgets/base",
            "_view_module_version": "1.2.0",
            "_view_name": "LayoutView",
            "align_content": null,
            "align_items": null,
            "align_self": null,
            "border": null,
            "bottom": null,
            "display": null,
            "flex": null,
            "flex_flow": null,
            "grid_area": null,
            "grid_auto_columns": null,
            "grid_auto_flow": null,
            "grid_auto_rows": null,
            "grid_column": null,
            "grid_gap": null,
            "grid_row": null,
            "grid_template_areas": null,
            "grid_template_columns": null,
            "grid_template_rows": null,
            "height": "25px",
            "justify_content": null,
            "justify_items": null,
            "left": null,
            "margin": null,
            "max_height": null,
            "max_width": null,
            "min_height": null,
            "min_width": null,
            "object_fit": null,
            "object_position": null,
            "order": null,
            "overflow": null,
            "overflow_x": null,
            "overflow_y": null,
            "padding": null,
            "right": null,
            "top": null,
            "visibility": null,
            "width": "50%"
          }
        },
        "e9fa131bc21a46daa37a37fe3e04c9f8": {
          "model_module": "@jupyter-widgets/controls",
          "model_name": "ProgressStyleModel",
          "model_module_version": "1.5.0",
          "state": {
            "_model_module": "@jupyter-widgets/controls",
            "_model_module_version": "1.5.0",
            "_model_name": "ProgressStyleModel",
            "_view_count": null,
            "_view_module": "@jupyter-widgets/base",
            "_view_module_version": "1.2.0",
            "_view_name": "StyleView",
            "bar_color": null,
            "description_width": ""
          }
        },
        "6bb799af0731425ab0bcbd93a2d1caab": {
          "model_module": "@jupyter-widgets/controls",
          "model_name": "FloatProgressModel",
          "model_module_version": "1.5.0",
          "state": {
            "_dom_classes": [],
            "_model_module": "@jupyter-widgets/controls",
            "_model_module_version": "1.5.0",
            "_model_name": "FloatProgressModel",
            "_view_count": null,
            "_view_module": "@jupyter-widgets/controls",
            "_view_module_version": "1.5.0",
            "_view_name": "ProgressView",
            "bar_style": "info",
            "description": "Progress:",
            "description_tooltip": null,
            "layout": "IPY_MODEL_400c0d551c79425da8cb7b646283a0fe",
            "max": 1,
            "min": 0,
            "orientation": "horizontal",
            "style": "IPY_MODEL_99e9b540e65740579c3152d475fb4e0f",
            "value": 0
          }
        },
        "400c0d551c79425da8cb7b646283a0fe": {
          "model_module": "@jupyter-widgets/base",
          "model_name": "LayoutModel",
          "model_module_version": "1.2.0",
          "state": {
            "_model_module": "@jupyter-widgets/base",
            "_model_module_version": "1.2.0",
            "_model_name": "LayoutModel",
            "_view_count": null,
            "_view_module": "@jupyter-widgets/base",
            "_view_module_version": "1.2.0",
            "_view_name": "LayoutView",
            "align_content": null,
            "align_items": null,
            "align_self": null,
            "border": null,
            "bottom": null,
            "display": null,
            "flex": null,
            "flex_flow": null,
            "grid_area": null,
            "grid_auto_columns": null,
            "grid_auto_flow": null,
            "grid_auto_rows": null,
            "grid_column": null,
            "grid_gap": null,
            "grid_row": null,
            "grid_template_areas": null,
            "grid_template_columns": null,
            "grid_template_rows": null,
            "height": "25px",
            "justify_content": null,
            "justify_items": null,
            "left": null,
            "margin": null,
            "max_height": null,
            "max_width": null,
            "min_height": null,
            "min_width": null,
            "object_fit": null,
            "object_position": null,
            "order": null,
            "overflow": null,
            "overflow_x": null,
            "overflow_y": null,
            "padding": null,
            "right": null,
            "top": null,
            "visibility": null,
            "width": "50%"
          }
        },
        "99e9b540e65740579c3152d475fb4e0f": {
          "model_module": "@jupyter-widgets/controls",
          "model_name": "ProgressStyleModel",
          "model_module_version": "1.5.0",
          "state": {
            "_model_module": "@jupyter-widgets/controls",
            "_model_module_version": "1.5.0",
            "_model_name": "ProgressStyleModel",
            "_view_count": null,
            "_view_module": "@jupyter-widgets/base",
            "_view_module_version": "1.2.0",
            "_view_name": "StyleView",
            "bar_color": null,
            "description_width": ""
          }
        },
        "ac5c159a0ddf456f961e9f18c5d6ff31": {
          "model_module": "@jupyter-widgets/controls",
          "model_name": "FloatProgressModel",
          "model_module_version": "1.5.0",
          "state": {
            "_dom_classes": [],
            "_model_module": "@jupyter-widgets/controls",
            "_model_module_version": "1.5.0",
            "_model_name": "FloatProgressModel",
            "_view_count": null,
            "_view_module": "@jupyter-widgets/controls",
            "_view_module_version": "1.5.0",
            "_view_name": "ProgressView",
            "bar_style": "info",
            "description": "Progress:",
            "description_tooltip": null,
            "layout": "IPY_MODEL_d079cf95420e4608958077f34cbbe012",
            "max": 1,
            "min": 0,
            "orientation": "horizontal",
            "style": "IPY_MODEL_4a82e3e012c34173aea9be7b9fe535d7",
            "value": 0
          }
        },
        "d079cf95420e4608958077f34cbbe012": {
          "model_module": "@jupyter-widgets/base",
          "model_name": "LayoutModel",
          "model_module_version": "1.2.0",
          "state": {
            "_model_module": "@jupyter-widgets/base",
            "_model_module_version": "1.2.0",
            "_model_name": "LayoutModel",
            "_view_count": null,
            "_view_module": "@jupyter-widgets/base",
            "_view_module_version": "1.2.0",
            "_view_name": "LayoutView",
            "align_content": null,
            "align_items": null,
            "align_self": null,
            "border": null,
            "bottom": null,
            "display": null,
            "flex": null,
            "flex_flow": null,
            "grid_area": null,
            "grid_auto_columns": null,
            "grid_auto_flow": null,
            "grid_auto_rows": null,
            "grid_column": null,
            "grid_gap": null,
            "grid_row": null,
            "grid_template_areas": null,
            "grid_template_columns": null,
            "grid_template_rows": null,
            "height": "25px",
            "justify_content": null,
            "justify_items": null,
            "left": null,
            "margin": null,
            "max_height": null,
            "max_width": null,
            "min_height": null,
            "min_width": null,
            "object_fit": null,
            "object_position": null,
            "order": null,
            "overflow": null,
            "overflow_x": null,
            "overflow_y": null,
            "padding": null,
            "right": null,
            "top": null,
            "visibility": null,
            "width": "50%"
          }
        },
        "4a82e3e012c34173aea9be7b9fe535d7": {
          "model_module": "@jupyter-widgets/controls",
          "model_name": "ProgressStyleModel",
          "model_module_version": "1.5.0",
          "state": {
            "_model_module": "@jupyter-widgets/controls",
            "_model_module_version": "1.5.0",
            "_model_name": "ProgressStyleModel",
            "_view_count": null,
            "_view_module": "@jupyter-widgets/base",
            "_view_module_version": "1.2.0",
            "_view_name": "StyleView",
            "bar_color": null,
            "description_width": ""
          }
        },
        "eb8f8f7277634d88836662af1e14bc2f": {
          "model_module": "@jupyter-widgets/controls",
          "model_name": "FloatProgressModel",
          "model_module_version": "1.5.0",
          "state": {
            "_dom_classes": [],
            "_model_module": "@jupyter-widgets/controls",
            "_model_module_version": "1.5.0",
            "_model_name": "FloatProgressModel",
            "_view_count": null,
            "_view_module": "@jupyter-widgets/controls",
            "_view_module_version": "1.5.0",
            "_view_name": "ProgressView",
            "bar_style": "info",
            "description": "Progress:",
            "description_tooltip": null,
            "layout": "IPY_MODEL_b8881458b014480f944f956917a6e301",
            "max": 1,
            "min": 0,
            "orientation": "horizontal",
            "style": "IPY_MODEL_7e0e7db6b0e84bc69d3d14c6c6af9f1a",
            "value": 0.9125412541254125
          }
        },
        "b8881458b014480f944f956917a6e301": {
          "model_module": "@jupyter-widgets/base",
          "model_name": "LayoutModel",
          "model_module_version": "1.2.0",
          "state": {
            "_model_module": "@jupyter-widgets/base",
            "_model_module_version": "1.2.0",
            "_model_name": "LayoutModel",
            "_view_count": null,
            "_view_module": "@jupyter-widgets/base",
            "_view_module_version": "1.2.0",
            "_view_name": "LayoutView",
            "align_content": null,
            "align_items": null,
            "align_self": null,
            "border": null,
            "bottom": null,
            "display": null,
            "flex": null,
            "flex_flow": null,
            "grid_area": null,
            "grid_auto_columns": null,
            "grid_auto_flow": null,
            "grid_auto_rows": null,
            "grid_column": null,
            "grid_gap": null,
            "grid_row": null,
            "grid_template_areas": null,
            "grid_template_columns": null,
            "grid_template_rows": null,
            "height": "25px",
            "justify_content": null,
            "justify_items": null,
            "left": null,
            "margin": null,
            "max_height": null,
            "max_width": null,
            "min_height": null,
            "min_width": null,
            "object_fit": null,
            "object_position": null,
            "order": null,
            "overflow": null,
            "overflow_x": null,
            "overflow_y": null,
            "padding": null,
            "right": null,
            "top": null,
            "visibility": null,
            "width": "50%"
          }
        },
        "7e0e7db6b0e84bc69d3d14c6c6af9f1a": {
          "model_module": "@jupyter-widgets/controls",
          "model_name": "ProgressStyleModel",
          "model_module_version": "1.5.0",
          "state": {
            "_model_module": "@jupyter-widgets/controls",
            "_model_module_version": "1.5.0",
            "_model_name": "ProgressStyleModel",
            "_view_count": null,
            "_view_module": "@jupyter-widgets/base",
            "_view_module_version": "1.2.0",
            "_view_name": "StyleView",
            "bar_color": null,
            "description_width": ""
          }
        },
        "cfccfa08802b4d70b0efaaa6eff44c98": {
          "model_module": "@jupyter-widgets/controls",
          "model_name": "FloatProgressModel",
          "model_module_version": "1.5.0",
          "state": {
            "_dom_classes": [],
            "_model_module": "@jupyter-widgets/controls",
            "_model_module_version": "1.5.0",
            "_model_name": "FloatProgressModel",
            "_view_count": null,
            "_view_module": "@jupyter-widgets/controls",
            "_view_module_version": "1.5.0",
            "_view_name": "ProgressView",
            "bar_style": "info",
            "description": "Progress:",
            "description_tooltip": null,
            "layout": "IPY_MODEL_6230b5ec43a644469d57147e1ec06909",
            "max": 1,
            "min": 0,
            "orientation": "horizontal",
            "style": "IPY_MODEL_472c61a06025477a850c44e6ed39ed40",
            "value": 0
          }
        },
        "6230b5ec43a644469d57147e1ec06909": {
          "model_module": "@jupyter-widgets/base",
          "model_name": "LayoutModel",
          "model_module_version": "1.2.0",
          "state": {
            "_model_module": "@jupyter-widgets/base",
            "_model_module_version": "1.2.0",
            "_model_name": "LayoutModel",
            "_view_count": null,
            "_view_module": "@jupyter-widgets/base",
            "_view_module_version": "1.2.0",
            "_view_name": "LayoutView",
            "align_content": null,
            "align_items": null,
            "align_self": null,
            "border": null,
            "bottom": null,
            "display": null,
            "flex": null,
            "flex_flow": null,
            "grid_area": null,
            "grid_auto_columns": null,
            "grid_auto_flow": null,
            "grid_auto_rows": null,
            "grid_column": null,
            "grid_gap": null,
            "grid_row": null,
            "grid_template_areas": null,
            "grid_template_columns": null,
            "grid_template_rows": null,
            "height": "25px",
            "justify_content": null,
            "justify_items": null,
            "left": null,
            "margin": null,
            "max_height": null,
            "max_width": null,
            "min_height": null,
            "min_width": null,
            "object_fit": null,
            "object_position": null,
            "order": null,
            "overflow": null,
            "overflow_x": null,
            "overflow_y": null,
            "padding": null,
            "right": null,
            "top": null,
            "visibility": null,
            "width": "50%"
          }
        },
        "472c61a06025477a850c44e6ed39ed40": {
          "model_module": "@jupyter-widgets/controls",
          "model_name": "ProgressStyleModel",
          "model_module_version": "1.5.0",
          "state": {
            "_model_module": "@jupyter-widgets/controls",
            "_model_module_version": "1.5.0",
            "_model_name": "ProgressStyleModel",
            "_view_count": null,
            "_view_module": "@jupyter-widgets/base",
            "_view_module_version": "1.2.0",
            "_view_name": "StyleView",
            "bar_color": null,
            "description_width": ""
          }
        },
        "c4f6c15a45654d329e0321385a04a1dd": {
          "model_module": "@jupyter-widgets/controls",
          "model_name": "FloatProgressModel",
          "model_module_version": "1.5.0",
          "state": {
            "_dom_classes": [],
            "_model_module": "@jupyter-widgets/controls",
            "_model_module_version": "1.5.0",
            "_model_name": "FloatProgressModel",
            "_view_count": null,
            "_view_module": "@jupyter-widgets/controls",
            "_view_module_version": "1.5.0",
            "_view_name": "ProgressView",
            "bar_style": "info",
            "description": "Progress:",
            "description_tooltip": null,
            "layout": "IPY_MODEL_399129f469044f9e9f833e03c25f0a61",
            "max": 1,
            "min": 0,
            "orientation": "horizontal",
            "style": "IPY_MODEL_979234f9f2714f80a8caaa1b5a784127",
            "value": 0.9955947136563876
          }
        },
        "399129f469044f9e9f833e03c25f0a61": {
          "model_module": "@jupyter-widgets/base",
          "model_name": "LayoutModel",
          "model_module_version": "1.2.0",
          "state": {
            "_model_module": "@jupyter-widgets/base",
            "_model_module_version": "1.2.0",
            "_model_name": "LayoutModel",
            "_view_count": null,
            "_view_module": "@jupyter-widgets/base",
            "_view_module_version": "1.2.0",
            "_view_name": "LayoutView",
            "align_content": null,
            "align_items": null,
            "align_self": null,
            "border": null,
            "bottom": null,
            "display": null,
            "flex": null,
            "flex_flow": null,
            "grid_area": null,
            "grid_auto_columns": null,
            "grid_auto_flow": null,
            "grid_auto_rows": null,
            "grid_column": null,
            "grid_gap": null,
            "grid_row": null,
            "grid_template_areas": null,
            "grid_template_columns": null,
            "grid_template_rows": null,
            "height": "25px",
            "justify_content": null,
            "justify_items": null,
            "left": null,
            "margin": null,
            "max_height": null,
            "max_width": null,
            "min_height": null,
            "min_width": null,
            "object_fit": null,
            "object_position": null,
            "order": null,
            "overflow": null,
            "overflow_x": null,
            "overflow_y": null,
            "padding": null,
            "right": null,
            "top": null,
            "visibility": null,
            "width": "50%"
          }
        },
        "979234f9f2714f80a8caaa1b5a784127": {
          "model_module": "@jupyter-widgets/controls",
          "model_name": "ProgressStyleModel",
          "model_module_version": "1.5.0",
          "state": {
            "_model_module": "@jupyter-widgets/controls",
            "_model_module_version": "1.5.0",
            "_model_name": "ProgressStyleModel",
            "_view_count": null,
            "_view_module": "@jupyter-widgets/base",
            "_view_module_version": "1.2.0",
            "_view_name": "StyleView",
            "bar_color": null,
            "description_width": ""
          }
        },
        "c0f12726201642de8a127d2667cdf4f3": {
          "model_module": "@jupyter-widgets/controls",
          "model_name": "FloatProgressModel",
          "model_module_version": "1.5.0",
          "state": {
            "_dom_classes": [],
            "_model_module": "@jupyter-widgets/controls",
            "_model_module_version": "1.5.0",
            "_model_name": "FloatProgressModel",
            "_view_count": null,
            "_view_module": "@jupyter-widgets/controls",
            "_view_module_version": "1.5.0",
            "_view_name": "ProgressView",
            "bar_style": "info",
            "description": "Progress:",
            "description_tooltip": null,
            "layout": "IPY_MODEL_bfdda5057cf247268db2f96598682732",
            "max": 1,
            "min": 0,
            "orientation": "horizontal",
            "style": "IPY_MODEL_0cbd139e1fce422a8fc146c36c61bc97",
            "value": 0
          }
        },
        "bfdda5057cf247268db2f96598682732": {
          "model_module": "@jupyter-widgets/base",
          "model_name": "LayoutModel",
          "model_module_version": "1.2.0",
          "state": {
            "_model_module": "@jupyter-widgets/base",
            "_model_module_version": "1.2.0",
            "_model_name": "LayoutModel",
            "_view_count": null,
            "_view_module": "@jupyter-widgets/base",
            "_view_module_version": "1.2.0",
            "_view_name": "LayoutView",
            "align_content": null,
            "align_items": null,
            "align_self": null,
            "border": null,
            "bottom": null,
            "display": null,
            "flex": null,
            "flex_flow": null,
            "grid_area": null,
            "grid_auto_columns": null,
            "grid_auto_flow": null,
            "grid_auto_rows": null,
            "grid_column": null,
            "grid_gap": null,
            "grid_row": null,
            "grid_template_areas": null,
            "grid_template_columns": null,
            "grid_template_rows": null,
            "height": "25px",
            "justify_content": null,
            "justify_items": null,
            "left": null,
            "margin": null,
            "max_height": null,
            "max_width": null,
            "min_height": null,
            "min_width": null,
            "object_fit": null,
            "object_position": null,
            "order": null,
            "overflow": null,
            "overflow_x": null,
            "overflow_y": null,
            "padding": null,
            "right": null,
            "top": null,
            "visibility": null,
            "width": "50%"
          }
        },
        "0cbd139e1fce422a8fc146c36c61bc97": {
          "model_module": "@jupyter-widgets/controls",
          "model_name": "ProgressStyleModel",
          "model_module_version": "1.5.0",
          "state": {
            "_model_module": "@jupyter-widgets/controls",
            "_model_module_version": "1.5.0",
            "_model_name": "ProgressStyleModel",
            "_view_count": null,
            "_view_module": "@jupyter-widgets/base",
            "_view_module_version": "1.2.0",
            "_view_name": "StyleView",
            "bar_color": null,
            "description_width": ""
          }
        },
        "71c15f6147544718953ec9991169c0be": {
          "model_module": "@jupyter-widgets/controls",
          "model_name": "FloatProgressModel",
          "model_module_version": "1.5.0",
          "state": {
            "_dom_classes": [],
            "_model_module": "@jupyter-widgets/controls",
            "_model_module_version": "1.5.0",
            "_model_name": "FloatProgressModel",
            "_view_count": null,
            "_view_module": "@jupyter-widgets/controls",
            "_view_module_version": "1.5.0",
            "_view_name": "ProgressView",
            "bar_style": "info",
            "description": "Progress:",
            "description_tooltip": null,
            "layout": "IPY_MODEL_fb0a598369274aeca4fbeffe83ed0411",
            "max": 1,
            "min": 0,
            "orientation": "horizontal",
            "style": "IPY_MODEL_c9e4628fa22940e7bd46d8abb8f82bd8",
            "value": 0
          }
        },
        "fb0a598369274aeca4fbeffe83ed0411": {
          "model_module": "@jupyter-widgets/base",
          "model_name": "LayoutModel",
          "model_module_version": "1.2.0",
          "state": {
            "_model_module": "@jupyter-widgets/base",
            "_model_module_version": "1.2.0",
            "_model_name": "LayoutModel",
            "_view_count": null,
            "_view_module": "@jupyter-widgets/base",
            "_view_module_version": "1.2.0",
            "_view_name": "LayoutView",
            "align_content": null,
            "align_items": null,
            "align_self": null,
            "border": null,
            "bottom": null,
            "display": null,
            "flex": null,
            "flex_flow": null,
            "grid_area": null,
            "grid_auto_columns": null,
            "grid_auto_flow": null,
            "grid_auto_rows": null,
            "grid_column": null,
            "grid_gap": null,
            "grid_row": null,
            "grid_template_areas": null,
            "grid_template_columns": null,
            "grid_template_rows": null,
            "height": "25px",
            "justify_content": null,
            "justify_items": null,
            "left": null,
            "margin": null,
            "max_height": null,
            "max_width": null,
            "min_height": null,
            "min_width": null,
            "object_fit": null,
            "object_position": null,
            "order": null,
            "overflow": null,
            "overflow_x": null,
            "overflow_y": null,
            "padding": null,
            "right": null,
            "top": null,
            "visibility": null,
            "width": "50%"
          }
        },
        "c9e4628fa22940e7bd46d8abb8f82bd8": {
          "model_module": "@jupyter-widgets/controls",
          "model_name": "ProgressStyleModel",
          "model_module_version": "1.5.0",
          "state": {
            "_model_module": "@jupyter-widgets/controls",
            "_model_module_version": "1.5.0",
            "_model_name": "ProgressStyleModel",
            "_view_count": null,
            "_view_module": "@jupyter-widgets/base",
            "_view_module_version": "1.2.0",
            "_view_name": "StyleView",
            "bar_color": null,
            "description_width": ""
          }
        },
        "11212cb5e15e4c82acba73a6b3890006": {
          "model_module": "@jupyter-widgets/controls",
          "model_name": "FloatProgressModel",
          "model_module_version": "1.5.0",
          "state": {
            "_dom_classes": [],
            "_model_module": "@jupyter-widgets/controls",
            "_model_module_version": "1.5.0",
            "_model_name": "FloatProgressModel",
            "_view_count": null,
            "_view_module": "@jupyter-widgets/controls",
            "_view_module_version": "1.5.0",
            "_view_name": "ProgressView",
            "bar_style": "info",
            "description": "Progress:",
            "description_tooltip": null,
            "layout": "IPY_MODEL_2b91fc8e4e034e22ade96307b3ecf589",
            "max": 1,
            "min": 0,
            "orientation": "horizontal",
            "style": "IPY_MODEL_dcf5d620a30d417e953f58ba30bc7441",
            "value": 0
          }
        },
        "2b91fc8e4e034e22ade96307b3ecf589": {
          "model_module": "@jupyter-widgets/base",
          "model_name": "LayoutModel",
          "model_module_version": "1.2.0",
          "state": {
            "_model_module": "@jupyter-widgets/base",
            "_model_module_version": "1.2.0",
            "_model_name": "LayoutModel",
            "_view_count": null,
            "_view_module": "@jupyter-widgets/base",
            "_view_module_version": "1.2.0",
            "_view_name": "LayoutView",
            "align_content": null,
            "align_items": null,
            "align_self": null,
            "border": null,
            "bottom": null,
            "display": null,
            "flex": null,
            "flex_flow": null,
            "grid_area": null,
            "grid_auto_columns": null,
            "grid_auto_flow": null,
            "grid_auto_rows": null,
            "grid_column": null,
            "grid_gap": null,
            "grid_row": null,
            "grid_template_areas": null,
            "grid_template_columns": null,
            "grid_template_rows": null,
            "height": "25px",
            "justify_content": null,
            "justify_items": null,
            "left": null,
            "margin": null,
            "max_height": null,
            "max_width": null,
            "min_height": null,
            "min_width": null,
            "object_fit": null,
            "object_position": null,
            "order": null,
            "overflow": null,
            "overflow_x": null,
            "overflow_y": null,
            "padding": null,
            "right": null,
            "top": null,
            "visibility": null,
            "width": "50%"
          }
        },
        "dcf5d620a30d417e953f58ba30bc7441": {
          "model_module": "@jupyter-widgets/controls",
          "model_name": "ProgressStyleModel",
          "model_module_version": "1.5.0",
          "state": {
            "_model_module": "@jupyter-widgets/controls",
            "_model_module_version": "1.5.0",
            "_model_name": "ProgressStyleModel",
            "_view_count": null,
            "_view_module": "@jupyter-widgets/base",
            "_view_module_version": "1.2.0",
            "_view_name": "StyleView",
            "bar_color": null,
            "description_width": ""
          }
        },
        "7567a76e531946bfba71bfdbe09ced44": {
          "model_module": "@jupyter-widgets/controls",
          "model_name": "FloatProgressModel",
          "model_module_version": "1.5.0",
          "state": {
            "_dom_classes": [],
            "_model_module": "@jupyter-widgets/controls",
            "_model_module_version": "1.5.0",
            "_model_name": "FloatProgressModel",
            "_view_count": null,
            "_view_module": "@jupyter-widgets/controls",
            "_view_module_version": "1.5.0",
            "_view_name": "ProgressView",
            "bar_style": "info",
            "description": "Progress:",
            "description_tooltip": null,
            "layout": "IPY_MODEL_7772e79f1250488a88a60b236082fb86",
            "max": 1,
            "min": 0,
            "orientation": "horizontal",
            "style": "IPY_MODEL_27f3ebc84bc1440890b42b3576f4e512",
            "value": 1
          }
        },
        "7772e79f1250488a88a60b236082fb86": {
          "model_module": "@jupyter-widgets/base",
          "model_name": "LayoutModel",
          "model_module_version": "1.2.0",
          "state": {
            "_model_module": "@jupyter-widgets/base",
            "_model_module_version": "1.2.0",
            "_model_name": "LayoutModel",
            "_view_count": null,
            "_view_module": "@jupyter-widgets/base",
            "_view_module_version": "1.2.0",
            "_view_name": "LayoutView",
            "align_content": null,
            "align_items": null,
            "align_self": null,
            "border": null,
            "bottom": null,
            "display": null,
            "flex": null,
            "flex_flow": null,
            "grid_area": null,
            "grid_auto_columns": null,
            "grid_auto_flow": null,
            "grid_auto_rows": null,
            "grid_column": null,
            "grid_gap": null,
            "grid_row": null,
            "grid_template_areas": null,
            "grid_template_columns": null,
            "grid_template_rows": null,
            "height": "25px",
            "justify_content": null,
            "justify_items": null,
            "left": null,
            "margin": null,
            "max_height": null,
            "max_width": null,
            "min_height": null,
            "min_width": null,
            "object_fit": null,
            "object_position": null,
            "order": null,
            "overflow": null,
            "overflow_x": null,
            "overflow_y": null,
            "padding": null,
            "right": null,
            "top": null,
            "visibility": null,
            "width": "50%"
          }
        },
        "27f3ebc84bc1440890b42b3576f4e512": {
          "model_module": "@jupyter-widgets/controls",
          "model_name": "ProgressStyleModel",
          "model_module_version": "1.5.0",
          "state": {
            "_model_module": "@jupyter-widgets/controls",
            "_model_module_version": "1.5.0",
            "_model_name": "ProgressStyleModel",
            "_view_count": null,
            "_view_module": "@jupyter-widgets/base",
            "_view_module_version": "1.2.0",
            "_view_name": "StyleView",
            "bar_color": null,
            "description_width": ""
          }
        },
        "1fe20a09f4fd4970b4ca3dab6b9fbfac": {
          "model_module": "@jupyter-widgets/controls",
          "model_name": "FloatProgressModel",
          "model_module_version": "1.5.0",
          "state": {
            "_dom_classes": [],
            "_model_module": "@jupyter-widgets/controls",
            "_model_module_version": "1.5.0",
            "_model_name": "FloatProgressModel",
            "_view_count": null,
            "_view_module": "@jupyter-widgets/controls",
            "_view_module_version": "1.5.0",
            "_view_name": "ProgressView",
            "bar_style": "info",
            "description": "Progress:",
            "description_tooltip": null,
            "layout": "IPY_MODEL_d2ac26717ba640498387822a728c4f90",
            "max": 1,
            "min": 0,
            "orientation": "horizontal",
            "style": "IPY_MODEL_5979ab885e9541c99f9eb6a5d6758df3",
            "value": 0
          }
        },
        "d2ac26717ba640498387822a728c4f90": {
          "model_module": "@jupyter-widgets/base",
          "model_name": "LayoutModel",
          "model_module_version": "1.2.0",
          "state": {
            "_model_module": "@jupyter-widgets/base",
            "_model_module_version": "1.2.0",
            "_model_name": "LayoutModel",
            "_view_count": null,
            "_view_module": "@jupyter-widgets/base",
            "_view_module_version": "1.2.0",
            "_view_name": "LayoutView",
            "align_content": null,
            "align_items": null,
            "align_self": null,
            "border": null,
            "bottom": null,
            "display": null,
            "flex": null,
            "flex_flow": null,
            "grid_area": null,
            "grid_auto_columns": null,
            "grid_auto_flow": null,
            "grid_auto_rows": null,
            "grid_column": null,
            "grid_gap": null,
            "grid_row": null,
            "grid_template_areas": null,
            "grid_template_columns": null,
            "grid_template_rows": null,
            "height": "25px",
            "justify_content": null,
            "justify_items": null,
            "left": null,
            "margin": null,
            "max_height": null,
            "max_width": null,
            "min_height": null,
            "min_width": null,
            "object_fit": null,
            "object_position": null,
            "order": null,
            "overflow": null,
            "overflow_x": null,
            "overflow_y": null,
            "padding": null,
            "right": null,
            "top": null,
            "visibility": null,
            "width": "50%"
          }
        },
        "5979ab885e9541c99f9eb6a5d6758df3": {
          "model_module": "@jupyter-widgets/controls",
          "model_name": "ProgressStyleModel",
          "model_module_version": "1.5.0",
          "state": {
            "_model_module": "@jupyter-widgets/controls",
            "_model_module_version": "1.5.0",
            "_model_name": "ProgressStyleModel",
            "_view_count": null,
            "_view_module": "@jupyter-widgets/base",
            "_view_module_version": "1.2.0",
            "_view_name": "StyleView",
            "bar_color": null,
            "description_width": ""
          }
        },
        "8fb63fc1d8d7426c82a1ed9c3f37b718": {
          "model_module": "@jupyter-widgets/controls",
          "model_name": "FloatProgressModel",
          "model_module_version": "1.5.0",
          "state": {
            "_dom_classes": [],
            "_model_module": "@jupyter-widgets/controls",
            "_model_module_version": "1.5.0",
            "_model_name": "FloatProgressModel",
            "_view_count": null,
            "_view_module": "@jupyter-widgets/controls",
            "_view_module_version": "1.5.0",
            "_view_name": "ProgressView",
            "bar_style": "info",
            "description": "Progress:",
            "description_tooltip": null,
            "layout": "IPY_MODEL_97fb7222295c499f9766a7dba2e9679c",
            "max": 1,
            "min": 0,
            "orientation": "horizontal",
            "style": "IPY_MODEL_1e918c60b2c646f09725934d81fa44ab",
            "value": 0.9960474308300395
          }
        },
        "97fb7222295c499f9766a7dba2e9679c": {
          "model_module": "@jupyter-widgets/base",
          "model_name": "LayoutModel",
          "model_module_version": "1.2.0",
          "state": {
            "_model_module": "@jupyter-widgets/base",
            "_model_module_version": "1.2.0",
            "_model_name": "LayoutModel",
            "_view_count": null,
            "_view_module": "@jupyter-widgets/base",
            "_view_module_version": "1.2.0",
            "_view_name": "LayoutView",
            "align_content": null,
            "align_items": null,
            "align_self": null,
            "border": null,
            "bottom": null,
            "display": null,
            "flex": null,
            "flex_flow": null,
            "grid_area": null,
            "grid_auto_columns": null,
            "grid_auto_flow": null,
            "grid_auto_rows": null,
            "grid_column": null,
            "grid_gap": null,
            "grid_row": null,
            "grid_template_areas": null,
            "grid_template_columns": null,
            "grid_template_rows": null,
            "height": "25px",
            "justify_content": null,
            "justify_items": null,
            "left": null,
            "margin": null,
            "max_height": null,
            "max_width": null,
            "min_height": null,
            "min_width": null,
            "object_fit": null,
            "object_position": null,
            "order": null,
            "overflow": null,
            "overflow_x": null,
            "overflow_y": null,
            "padding": null,
            "right": null,
            "top": null,
            "visibility": null,
            "width": "50%"
          }
        },
        "1e918c60b2c646f09725934d81fa44ab": {
          "model_module": "@jupyter-widgets/controls",
          "model_name": "ProgressStyleModel",
          "model_module_version": "1.5.0",
          "state": {
            "_model_module": "@jupyter-widgets/controls",
            "_model_module_version": "1.5.0",
            "_model_name": "ProgressStyleModel",
            "_view_count": null,
            "_view_module": "@jupyter-widgets/base",
            "_view_module_version": "1.2.0",
            "_view_name": "StyleView",
            "bar_color": null,
            "description_width": ""
          }
        },
        "df9847ed8b7a427db95d019620bc96c9": {
          "model_module": "@jupyter-widgets/controls",
          "model_name": "FloatProgressModel",
          "model_module_version": "1.5.0",
          "state": {
            "_dom_classes": [],
            "_model_module": "@jupyter-widgets/controls",
            "_model_module_version": "1.5.0",
            "_model_name": "FloatProgressModel",
            "_view_count": null,
            "_view_module": "@jupyter-widgets/controls",
            "_view_module_version": "1.5.0",
            "_view_name": "ProgressView",
            "bar_style": "info",
            "description": "Progress:",
            "description_tooltip": null,
            "layout": "IPY_MODEL_da82c632e1394edabe14669916be7d96",
            "max": 1,
            "min": 0,
            "orientation": "horizontal",
            "style": "IPY_MODEL_9d634235240c44efa8d39bc1fdbb7d66",
            "value": 0.2015880017644464
          }
        },
        "da82c632e1394edabe14669916be7d96": {
          "model_module": "@jupyter-widgets/base",
          "model_name": "LayoutModel",
          "model_module_version": "1.2.0",
          "state": {
            "_model_module": "@jupyter-widgets/base",
            "_model_module_version": "1.2.0",
            "_model_name": "LayoutModel",
            "_view_count": null,
            "_view_module": "@jupyter-widgets/base",
            "_view_module_version": "1.2.0",
            "_view_name": "LayoutView",
            "align_content": null,
            "align_items": null,
            "align_self": null,
            "border": null,
            "bottom": null,
            "display": null,
            "flex": null,
            "flex_flow": null,
            "grid_area": null,
            "grid_auto_columns": null,
            "grid_auto_flow": null,
            "grid_auto_rows": null,
            "grid_column": null,
            "grid_gap": null,
            "grid_row": null,
            "grid_template_areas": null,
            "grid_template_columns": null,
            "grid_template_rows": null,
            "height": "25px",
            "justify_content": null,
            "justify_items": null,
            "left": null,
            "margin": null,
            "max_height": null,
            "max_width": null,
            "min_height": null,
            "min_width": null,
            "object_fit": null,
            "object_position": null,
            "order": null,
            "overflow": null,
            "overflow_x": null,
            "overflow_y": null,
            "padding": null,
            "right": null,
            "top": null,
            "visibility": null,
            "width": "50%"
          }
        },
        "9d634235240c44efa8d39bc1fdbb7d66": {
          "model_module": "@jupyter-widgets/controls",
          "model_name": "ProgressStyleModel",
          "model_module_version": "1.5.0",
          "state": {
            "_model_module": "@jupyter-widgets/controls",
            "_model_module_version": "1.5.0",
            "_model_name": "ProgressStyleModel",
            "_view_count": null,
            "_view_module": "@jupyter-widgets/base",
            "_view_module_version": "1.2.0",
            "_view_name": "StyleView",
            "bar_color": null,
            "description_width": ""
          }
        },
        "9241f0f0bddb4f908b597e47b36d90be": {
          "model_module": "@jupyter-widgets/controls",
          "model_name": "FloatProgressModel",
          "model_module_version": "1.5.0",
          "state": {
            "_dom_classes": [],
            "_model_module": "@jupyter-widgets/controls",
            "_model_module_version": "1.5.0",
            "_model_name": "FloatProgressModel",
            "_view_count": null,
            "_view_module": "@jupyter-widgets/controls",
            "_view_module_version": "1.5.0",
            "_view_name": "ProgressView",
            "bar_style": "info",
            "description": "Progress:",
            "description_tooltip": null,
            "layout": "IPY_MODEL_f61b3619a4b24d2abc5350bd2d6ccd92",
            "max": 1,
            "min": 0,
            "orientation": "horizontal",
            "style": "IPY_MODEL_d49a31769581455ab6de9fa9e9fd82f6",
            "value": 0
          }
        },
        "f61b3619a4b24d2abc5350bd2d6ccd92": {
          "model_module": "@jupyter-widgets/base",
          "model_name": "LayoutModel",
          "model_module_version": "1.2.0",
          "state": {
            "_model_module": "@jupyter-widgets/base",
            "_model_module_version": "1.2.0",
            "_model_name": "LayoutModel",
            "_view_count": null,
            "_view_module": "@jupyter-widgets/base",
            "_view_module_version": "1.2.0",
            "_view_name": "LayoutView",
            "align_content": null,
            "align_items": null,
            "align_self": null,
            "border": null,
            "bottom": null,
            "display": null,
            "flex": null,
            "flex_flow": null,
            "grid_area": null,
            "grid_auto_columns": null,
            "grid_auto_flow": null,
            "grid_auto_rows": null,
            "grid_column": null,
            "grid_gap": null,
            "grid_row": null,
            "grid_template_areas": null,
            "grid_template_columns": null,
            "grid_template_rows": null,
            "height": "25px",
            "justify_content": null,
            "justify_items": null,
            "left": null,
            "margin": null,
            "max_height": null,
            "max_width": null,
            "min_height": null,
            "min_width": null,
            "object_fit": null,
            "object_position": null,
            "order": null,
            "overflow": null,
            "overflow_x": null,
            "overflow_y": null,
            "padding": null,
            "right": null,
            "top": null,
            "visibility": null,
            "width": "50%"
          }
        },
        "d49a31769581455ab6de9fa9e9fd82f6": {
          "model_module": "@jupyter-widgets/controls",
          "model_name": "ProgressStyleModel",
          "model_module_version": "1.5.0",
          "state": {
            "_model_module": "@jupyter-widgets/controls",
            "_model_module_version": "1.5.0",
            "_model_name": "ProgressStyleModel",
            "_view_count": null,
            "_view_module": "@jupyter-widgets/base",
            "_view_module_version": "1.2.0",
            "_view_name": "StyleView",
            "bar_color": null,
            "description_width": ""
          }
        },
        "38dd3cc68a724f859ae78133f81adece": {
          "model_module": "@jupyter-widgets/controls",
          "model_name": "FloatProgressModel",
          "model_module_version": "1.5.0",
          "state": {
            "_dom_classes": [],
            "_model_module": "@jupyter-widgets/controls",
            "_model_module_version": "1.5.0",
            "_model_name": "FloatProgressModel",
            "_view_count": null,
            "_view_module": "@jupyter-widgets/controls",
            "_view_module_version": "1.5.0",
            "_view_name": "ProgressView",
            "bar_style": "info",
            "description": "Progress:",
            "description_tooltip": null,
            "layout": "IPY_MODEL_f7d7a59cb14e4c78a51343e57db493b8",
            "max": 1,
            "min": 0,
            "orientation": "horizontal",
            "style": "IPY_MODEL_93900d6cd4c040ee93a2d6de41a7cc46",
            "value": 0
          }
        },
        "f7d7a59cb14e4c78a51343e57db493b8": {
          "model_module": "@jupyter-widgets/base",
          "model_name": "LayoutModel",
          "model_module_version": "1.2.0",
          "state": {
            "_model_module": "@jupyter-widgets/base",
            "_model_module_version": "1.2.0",
            "_model_name": "LayoutModel",
            "_view_count": null,
            "_view_module": "@jupyter-widgets/base",
            "_view_module_version": "1.2.0",
            "_view_name": "LayoutView",
            "align_content": null,
            "align_items": null,
            "align_self": null,
            "border": null,
            "bottom": null,
            "display": null,
            "flex": null,
            "flex_flow": null,
            "grid_area": null,
            "grid_auto_columns": null,
            "grid_auto_flow": null,
            "grid_auto_rows": null,
            "grid_column": null,
            "grid_gap": null,
            "grid_row": null,
            "grid_template_areas": null,
            "grid_template_columns": null,
            "grid_template_rows": null,
            "height": "25px",
            "justify_content": null,
            "justify_items": null,
            "left": null,
            "margin": null,
            "max_height": null,
            "max_width": null,
            "min_height": null,
            "min_width": null,
            "object_fit": null,
            "object_position": null,
            "order": null,
            "overflow": null,
            "overflow_x": null,
            "overflow_y": null,
            "padding": null,
            "right": null,
            "top": null,
            "visibility": null,
            "width": "50%"
          }
        },
        "93900d6cd4c040ee93a2d6de41a7cc46": {
          "model_module": "@jupyter-widgets/controls",
          "model_name": "ProgressStyleModel",
          "model_module_version": "1.5.0",
          "state": {
            "_model_module": "@jupyter-widgets/controls",
            "_model_module_version": "1.5.0",
            "_model_name": "ProgressStyleModel",
            "_view_count": null,
            "_view_module": "@jupyter-widgets/base",
            "_view_module_version": "1.2.0",
            "_view_name": "StyleView",
            "bar_color": null,
            "description_width": ""
          }
        },
        "1caa17d48f9e4cd984f029f3fe62f1aa": {
          "model_module": "@jupyter-widgets/controls",
          "model_name": "FloatProgressModel",
          "model_module_version": "1.5.0",
          "state": {
            "_dom_classes": [],
            "_model_module": "@jupyter-widgets/controls",
            "_model_module_version": "1.5.0",
            "_model_name": "FloatProgressModel",
            "_view_count": null,
            "_view_module": "@jupyter-widgets/controls",
            "_view_module_version": "1.5.0",
            "_view_name": "ProgressView",
            "bar_style": "info",
            "description": "Progress:",
            "description_tooltip": null,
            "layout": "IPY_MODEL_7b4873304eff4b98b684c4322bc8794f",
            "max": 1,
            "min": 0,
            "orientation": "horizontal",
            "style": "IPY_MODEL_3053abd145434ab9a87b43eddef6a358",
            "value": 0
          }
        },
        "7b4873304eff4b98b684c4322bc8794f": {
          "model_module": "@jupyter-widgets/base",
          "model_name": "LayoutModel",
          "model_module_version": "1.2.0",
          "state": {
            "_model_module": "@jupyter-widgets/base",
            "_model_module_version": "1.2.0",
            "_model_name": "LayoutModel",
            "_view_count": null,
            "_view_module": "@jupyter-widgets/base",
            "_view_module_version": "1.2.0",
            "_view_name": "LayoutView",
            "align_content": null,
            "align_items": null,
            "align_self": null,
            "border": null,
            "bottom": null,
            "display": null,
            "flex": null,
            "flex_flow": null,
            "grid_area": null,
            "grid_auto_columns": null,
            "grid_auto_flow": null,
            "grid_auto_rows": null,
            "grid_column": null,
            "grid_gap": null,
            "grid_row": null,
            "grid_template_areas": null,
            "grid_template_columns": null,
            "grid_template_rows": null,
            "height": "25px",
            "justify_content": null,
            "justify_items": null,
            "left": null,
            "margin": null,
            "max_height": null,
            "max_width": null,
            "min_height": null,
            "min_width": null,
            "object_fit": null,
            "object_position": null,
            "order": null,
            "overflow": null,
            "overflow_x": null,
            "overflow_y": null,
            "padding": null,
            "right": null,
            "top": null,
            "visibility": null,
            "width": "50%"
          }
        },
        "3053abd145434ab9a87b43eddef6a358": {
          "model_module": "@jupyter-widgets/controls",
          "model_name": "ProgressStyleModel",
          "model_module_version": "1.5.0",
          "state": {
            "_model_module": "@jupyter-widgets/controls",
            "_model_module_version": "1.5.0",
            "_model_name": "ProgressStyleModel",
            "_view_count": null,
            "_view_module": "@jupyter-widgets/base",
            "_view_module_version": "1.2.0",
            "_view_name": "StyleView",
            "bar_color": null,
            "description_width": ""
          }
        },
        "606b136d06d54b0182c43de9a550cc20": {
          "model_module": "@jupyter-widgets/controls",
          "model_name": "FloatProgressModel",
          "model_module_version": "1.5.0",
          "state": {
            "_dom_classes": [],
            "_model_module": "@jupyter-widgets/controls",
            "_model_module_version": "1.5.0",
            "_model_name": "FloatProgressModel",
            "_view_count": null,
            "_view_module": "@jupyter-widgets/controls",
            "_view_module_version": "1.5.0",
            "_view_name": "ProgressView",
            "bar_style": "info",
            "description": "Progress:",
            "description_tooltip": null,
            "layout": "IPY_MODEL_58f482a7411244a2af18b031e44ebdf0",
            "max": 1,
            "min": 0,
            "orientation": "horizontal",
            "style": "IPY_MODEL_7b7ee6e061f84d28a6422eafe464f7a1",
            "value": 0.20202911336568152
          }
        },
        "58f482a7411244a2af18b031e44ebdf0": {
          "model_module": "@jupyter-widgets/base",
          "model_name": "LayoutModel",
          "model_module_version": "1.2.0",
          "state": {
            "_model_module": "@jupyter-widgets/base",
            "_model_module_version": "1.2.0",
            "_model_name": "LayoutModel",
            "_view_count": null,
            "_view_module": "@jupyter-widgets/base",
            "_view_module_version": "1.2.0",
            "_view_name": "LayoutView",
            "align_content": null,
            "align_items": null,
            "align_self": null,
            "border": null,
            "bottom": null,
            "display": null,
            "flex": null,
            "flex_flow": null,
            "grid_area": null,
            "grid_auto_columns": null,
            "grid_auto_flow": null,
            "grid_auto_rows": null,
            "grid_column": null,
            "grid_gap": null,
            "grid_row": null,
            "grid_template_areas": null,
            "grid_template_columns": null,
            "grid_template_rows": null,
            "height": "25px",
            "justify_content": null,
            "justify_items": null,
            "left": null,
            "margin": null,
            "max_height": null,
            "max_width": null,
            "min_height": null,
            "min_width": null,
            "object_fit": null,
            "object_position": null,
            "order": null,
            "overflow": null,
            "overflow_x": null,
            "overflow_y": null,
            "padding": null,
            "right": null,
            "top": null,
            "visibility": null,
            "width": "50%"
          }
        },
        "7b7ee6e061f84d28a6422eafe464f7a1": {
          "model_module": "@jupyter-widgets/controls",
          "model_name": "ProgressStyleModel",
          "model_module_version": "1.5.0",
          "state": {
            "_model_module": "@jupyter-widgets/controls",
            "_model_module_version": "1.5.0",
            "_model_name": "ProgressStyleModel",
            "_view_count": null,
            "_view_module": "@jupyter-widgets/base",
            "_view_module_version": "1.2.0",
            "_view_name": "StyleView",
            "bar_color": null,
            "description_width": ""
          }
        },
        "c298c2aae5824b228fba927bab877629": {
          "model_module": "@jupyter-widgets/controls",
          "model_name": "FloatProgressModel",
          "model_module_version": "1.5.0",
          "state": {
            "_dom_classes": [],
            "_model_module": "@jupyter-widgets/controls",
            "_model_module_version": "1.5.0",
            "_model_name": "FloatProgressModel",
            "_view_count": null,
            "_view_module": "@jupyter-widgets/controls",
            "_view_module_version": "1.5.0",
            "_view_name": "ProgressView",
            "bar_style": "info",
            "description": "Progress:",
            "description_tooltip": null,
            "layout": "IPY_MODEL_f833504a512044a79bfd6cccb93aabf7",
            "max": 1,
            "min": 0,
            "orientation": "horizontal",
            "style": "IPY_MODEL_4c916e3a5f6e4102bb0ac9ce7ca461c7",
            "value": 0.23067010309278352
          }
        },
        "f833504a512044a79bfd6cccb93aabf7": {
          "model_module": "@jupyter-widgets/base",
          "model_name": "LayoutModel",
          "model_module_version": "1.2.0",
          "state": {
            "_model_module": "@jupyter-widgets/base",
            "_model_module_version": "1.2.0",
            "_model_name": "LayoutModel",
            "_view_count": null,
            "_view_module": "@jupyter-widgets/base",
            "_view_module_version": "1.2.0",
            "_view_name": "LayoutView",
            "align_content": null,
            "align_items": null,
            "align_self": null,
            "border": null,
            "bottom": null,
            "display": null,
            "flex": null,
            "flex_flow": null,
            "grid_area": null,
            "grid_auto_columns": null,
            "grid_auto_flow": null,
            "grid_auto_rows": null,
            "grid_column": null,
            "grid_gap": null,
            "grid_row": null,
            "grid_template_areas": null,
            "grid_template_columns": null,
            "grid_template_rows": null,
            "height": "25px",
            "justify_content": null,
            "justify_items": null,
            "left": null,
            "margin": null,
            "max_height": null,
            "max_width": null,
            "min_height": null,
            "min_width": null,
            "object_fit": null,
            "object_position": null,
            "order": null,
            "overflow": null,
            "overflow_x": null,
            "overflow_y": null,
            "padding": null,
            "right": null,
            "top": null,
            "visibility": null,
            "width": "50%"
          }
        },
        "4c916e3a5f6e4102bb0ac9ce7ca461c7": {
          "model_module": "@jupyter-widgets/controls",
          "model_name": "ProgressStyleModel",
          "model_module_version": "1.5.0",
          "state": {
            "_model_module": "@jupyter-widgets/controls",
            "_model_module_version": "1.5.0",
            "_model_name": "ProgressStyleModel",
            "_view_count": null,
            "_view_module": "@jupyter-widgets/base",
            "_view_module_version": "1.2.0",
            "_view_name": "StyleView",
            "bar_color": null,
            "description_width": ""
          }
        },
        "1fe2222951914581935f66e8d00ea46d": {
          "model_module": "@jupyter-widgets/controls",
          "model_name": "FloatProgressModel",
          "model_module_version": "1.5.0",
          "state": {
            "_dom_classes": [],
            "_model_module": "@jupyter-widgets/controls",
            "_model_module_version": "1.5.0",
            "_model_name": "FloatProgressModel",
            "_view_count": null,
            "_view_module": "@jupyter-widgets/controls",
            "_view_module_version": "1.5.0",
            "_view_name": "ProgressView",
            "bar_style": "info",
            "description": "Progress:",
            "description_tooltip": null,
            "layout": "IPY_MODEL_7daaedd000644d6597f0f145aebc6823",
            "max": 1,
            "min": 0,
            "orientation": "horizontal",
            "style": "IPY_MODEL_a525d245d56c4fb7ae131b7f7c8649f3",
            "value": 0.266219614417435
          }
        },
        "7daaedd000644d6597f0f145aebc6823": {
          "model_module": "@jupyter-widgets/base",
          "model_name": "LayoutModel",
          "model_module_version": "1.2.0",
          "state": {
            "_model_module": "@jupyter-widgets/base",
            "_model_module_version": "1.2.0",
            "_model_name": "LayoutModel",
            "_view_count": null,
            "_view_module": "@jupyter-widgets/base",
            "_view_module_version": "1.2.0",
            "_view_name": "LayoutView",
            "align_content": null,
            "align_items": null,
            "align_self": null,
            "border": null,
            "bottom": null,
            "display": null,
            "flex": null,
            "flex_flow": null,
            "grid_area": null,
            "grid_auto_columns": null,
            "grid_auto_flow": null,
            "grid_auto_rows": null,
            "grid_column": null,
            "grid_gap": null,
            "grid_row": null,
            "grid_template_areas": null,
            "grid_template_columns": null,
            "grid_template_rows": null,
            "height": "25px",
            "justify_content": null,
            "justify_items": null,
            "left": null,
            "margin": null,
            "max_height": null,
            "max_width": null,
            "min_height": null,
            "min_width": null,
            "object_fit": null,
            "object_position": null,
            "order": null,
            "overflow": null,
            "overflow_x": null,
            "overflow_y": null,
            "padding": null,
            "right": null,
            "top": null,
            "visibility": null,
            "width": "50%"
          }
        },
        "a525d245d56c4fb7ae131b7f7c8649f3": {
          "model_module": "@jupyter-widgets/controls",
          "model_name": "ProgressStyleModel",
          "model_module_version": "1.5.0",
          "state": {
            "_model_module": "@jupyter-widgets/controls",
            "_model_module_version": "1.5.0",
            "_model_name": "ProgressStyleModel",
            "_view_count": null,
            "_view_module": "@jupyter-widgets/base",
            "_view_module_version": "1.2.0",
            "_view_name": "StyleView",
            "bar_color": null,
            "description_width": ""
          }
        },
        "212ff1f003ff43debeaa5a2260d79fcf": {
          "model_module": "@jupyter-widgets/controls",
          "model_name": "FloatProgressModel",
          "model_module_version": "1.5.0",
          "state": {
            "_dom_classes": [],
            "_model_module": "@jupyter-widgets/controls",
            "_model_module_version": "1.5.0",
            "_model_name": "FloatProgressModel",
            "_view_count": null,
            "_view_module": "@jupyter-widgets/controls",
            "_view_module_version": "1.5.0",
            "_view_name": "ProgressView",
            "bar_style": "info",
            "description": "Progress:",
            "description_tooltip": null,
            "layout": "IPY_MODEL_d08788e37c1e4edbbd2f82a921e153ce",
            "max": 1,
            "min": 0,
            "orientation": "horizontal",
            "style": "IPY_MODEL_7e5fe7d2e8d84be89402eae6b8940033",
            "value": 0
          }
        },
        "d08788e37c1e4edbbd2f82a921e153ce": {
          "model_module": "@jupyter-widgets/base",
          "model_name": "LayoutModel",
          "model_module_version": "1.2.0",
          "state": {
            "_model_module": "@jupyter-widgets/base",
            "_model_module_version": "1.2.0",
            "_model_name": "LayoutModel",
            "_view_count": null,
            "_view_module": "@jupyter-widgets/base",
            "_view_module_version": "1.2.0",
            "_view_name": "LayoutView",
            "align_content": null,
            "align_items": null,
            "align_self": null,
            "border": null,
            "bottom": null,
            "display": null,
            "flex": null,
            "flex_flow": null,
            "grid_area": null,
            "grid_auto_columns": null,
            "grid_auto_flow": null,
            "grid_auto_rows": null,
            "grid_column": null,
            "grid_gap": null,
            "grid_row": null,
            "grid_template_areas": null,
            "grid_template_columns": null,
            "grid_template_rows": null,
            "height": "25px",
            "justify_content": null,
            "justify_items": null,
            "left": null,
            "margin": null,
            "max_height": null,
            "max_width": null,
            "min_height": null,
            "min_width": null,
            "object_fit": null,
            "object_position": null,
            "order": null,
            "overflow": null,
            "overflow_x": null,
            "overflow_y": null,
            "padding": null,
            "right": null,
            "top": null,
            "visibility": null,
            "width": "50%"
          }
        },
        "7e5fe7d2e8d84be89402eae6b8940033": {
          "model_module": "@jupyter-widgets/controls",
          "model_name": "ProgressStyleModel",
          "model_module_version": "1.5.0",
          "state": {
            "_model_module": "@jupyter-widgets/controls",
            "_model_module_version": "1.5.0",
            "_model_name": "ProgressStyleModel",
            "_view_count": null,
            "_view_module": "@jupyter-widgets/base",
            "_view_module_version": "1.2.0",
            "_view_name": "StyleView",
            "bar_color": null,
            "description_width": ""
          }
        },
        "9577a9d43d2b4040b8b8bcc392dc6d97": {
          "model_module": "@jupyter-widgets/controls",
          "model_name": "FloatProgressModel",
          "model_module_version": "1.5.0",
          "state": {
            "_dom_classes": [],
            "_model_module": "@jupyter-widgets/controls",
            "_model_module_version": "1.5.0",
            "_model_name": "FloatProgressModel",
            "_view_count": null,
            "_view_module": "@jupyter-widgets/controls",
            "_view_module_version": "1.5.0",
            "_view_name": "ProgressView",
            "bar_style": "info",
            "description": "Progress:",
            "description_tooltip": null,
            "layout": "IPY_MODEL_fb7d97958b4a4d1aac51dcebdb511455",
            "max": 1,
            "min": 0,
            "orientation": "horizontal",
            "style": "IPY_MODEL_afd2ad8d673f4ba59aad951db26dca76",
            "value": 0.6057866184448463
          }
        },
        "fb7d97958b4a4d1aac51dcebdb511455": {
          "model_module": "@jupyter-widgets/base",
          "model_name": "LayoutModel",
          "model_module_version": "1.2.0",
          "state": {
            "_model_module": "@jupyter-widgets/base",
            "_model_module_version": "1.2.0",
            "_model_name": "LayoutModel",
            "_view_count": null,
            "_view_module": "@jupyter-widgets/base",
            "_view_module_version": "1.2.0",
            "_view_name": "LayoutView",
            "align_content": null,
            "align_items": null,
            "align_self": null,
            "border": null,
            "bottom": null,
            "display": null,
            "flex": null,
            "flex_flow": null,
            "grid_area": null,
            "grid_auto_columns": null,
            "grid_auto_flow": null,
            "grid_auto_rows": null,
            "grid_column": null,
            "grid_gap": null,
            "grid_row": null,
            "grid_template_areas": null,
            "grid_template_columns": null,
            "grid_template_rows": null,
            "height": "25px",
            "justify_content": null,
            "justify_items": null,
            "left": null,
            "margin": null,
            "max_height": null,
            "max_width": null,
            "min_height": null,
            "min_width": null,
            "object_fit": null,
            "object_position": null,
            "order": null,
            "overflow": null,
            "overflow_x": null,
            "overflow_y": null,
            "padding": null,
            "right": null,
            "top": null,
            "visibility": null,
            "width": "50%"
          }
        },
        "afd2ad8d673f4ba59aad951db26dca76": {
          "model_module": "@jupyter-widgets/controls",
          "model_name": "ProgressStyleModel",
          "model_module_version": "1.5.0",
          "state": {
            "_model_module": "@jupyter-widgets/controls",
            "_model_module_version": "1.5.0",
            "_model_name": "ProgressStyleModel",
            "_view_count": null,
            "_view_module": "@jupyter-widgets/base",
            "_view_module_version": "1.2.0",
            "_view_name": "StyleView",
            "bar_color": null,
            "description_width": ""
          }
        }
      }
    }
  },
  "nbformat": 4,
  "nbformat_minor": 0
}